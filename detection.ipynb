{
 "cells": [
  {
   "cell_type": "code",
   "execution_count": 1,
   "id": "67038f5c-dd72-4ec6-9039-ca7255d60e40",
   "metadata": {},
   "outputs": [],
   "source": [
    "import os\n",
    "from matplotlib import pyplot as plt\n",
    "import tensorflow as tf\n",
    "import numpy as np\n",
    "import librosa\n",
    "import librosa.display\n",
    "import IPython.display as ipd\n",
    "\n",
    "%matplotlib inline"
   ]
  },
  {
   "cell_type": "code",
   "execution_count": 2,
   "id": "1c8d7ad8-83f4-468f-8afc-3c934572bc87",
   "metadata": {},
   "outputs": [],
   "source": [
    "import pandas as pd\n",
    "from tqdm import tqdm"
   ]
  },
  {
   "cell_type": "markdown",
   "id": "8c7913a8-b169-44e5-b1d2-480cece2ffb3",
   "metadata": {},
   "source": [
    "# Loading Audio MetaData"
   ]
  },
  {
   "cell_type": "code",
   "execution_count": 3,
   "id": "61873636-750b-485a-9b46-3506e966cd1e",
   "metadata": {},
   "outputs": [],
   "source": [
    "def feature_extraction(file_path):\n",
    "    audio, sample_rate = librosa.load(file_path)\n",
    "    mfcc = librosa.feature.mfcc(y=audio, sr=sample_rate, n_mfcc=50)\n",
    "    mfcc_scaled = np.mean(mfcc.T, axis=0)\n",
    "    return mfcc_scaled"
   ]
  },
  {
   "cell_type": "markdown",
   "id": "1b6ec532-f8ec-4164-937a-f70d019a9bf1",
   "metadata": {},
   "source": [
    "## Extracting Features"
   ]
  },
  {
   "cell_type": "code",
   "execution_count": 4,
   "id": "8767e19c-0bf3-426a-9e03-7b6aec4c28ee",
   "metadata": {},
   "outputs": [],
   "source": [
    "# Feature extraction was performed and the features were extracted and saved to a pickle file.\n",
    "\n",
    "# df = pd.read_csv('meta.csv')\n",
    "# dataset_path = 'public_dataset/'\n",
    "\n",
    "# df = df[:8000] # Taking only 8k audio files\n",
    "\n",
    "# extracted_features = []\n",
    "\n",
    "# for index_num, row in tqdm(df.iterrows()):\n",
    "#    file_name = dataset_path + row['uuid'] + '.wav'\n",
    "#    labels = row['classID']\n",
    "#    data = feature_extraction(file_name)\n",
    "#    extracted_features.append([data, labels])\n",
    "\n",
    "# extracted_features = pd.DataFrame(extracted_features, columns=['Feature', 'Class'])\n",
    "# print(extracted_features)"
   ]
  },
  {
   "cell_type": "code",
   "execution_count": 5,
   "id": "6cbb8d18-ea03-4782-b024-13f5e53071b3",
   "metadata": {},
   "outputs": [
    {
     "data": {
      "text/html": [
       "<div>\n",
       "<style scoped>\n",
       "    .dataframe tbody tr th:only-of-type {\n",
       "        vertical-align: middle;\n",
       "    }\n",
       "\n",
       "    .dataframe tbody tr th {\n",
       "        vertical-align: top;\n",
       "    }\n",
       "\n",
       "    .dataframe thead th {\n",
       "        text-align: right;\n",
       "    }\n",
       "</style>\n",
       "<table border=\"1\" class=\"dataframe\">\n",
       "  <thead>\n",
       "    <tr style=\"text-align: right;\">\n",
       "      <th></th>\n",
       "      <th>Feature</th>\n",
       "      <th>Class</th>\n",
       "    </tr>\n",
       "  </thead>\n",
       "  <tbody>\n",
       "    <tr>\n",
       "      <th>0</th>\n",
       "      <td>[-620.2583, 61.49415, -15.288396, 14.906147, -...</td>\n",
       "      <td>0.0</td>\n",
       "    </tr>\n",
       "    <tr>\n",
       "      <th>1</th>\n",
       "      <td>[-563.3379, 18.238453, -2.3402789, 5.720763, -...</td>\n",
       "      <td>1.0</td>\n",
       "    </tr>\n",
       "    <tr>\n",
       "      <th>2</th>\n",
       "      <td>[-736.4029, 55.818638, 9.05353, 1.8999938, -12...</td>\n",
       "      <td>0.0</td>\n",
       "    </tr>\n",
       "    <tr>\n",
       "      <th>3</th>\n",
       "      <td>[-278.87955, 100.88817, -25.865995, 15.782074,...</td>\n",
       "      <td>1.0</td>\n",
       "    </tr>\n",
       "    <tr>\n",
       "      <th>4</th>\n",
       "      <td>[-1131.3711, 0.0, 0.0, 0.0, 0.0, 0.0, 0.0, 0.0...</td>\n",
       "      <td>0.0</td>\n",
       "    </tr>\n",
       "    <tr>\n",
       "      <th>...</th>\n",
       "      <td>...</td>\n",
       "      <td>...</td>\n",
       "    </tr>\n",
       "    <tr>\n",
       "      <th>7995</th>\n",
       "      <td>[-413.21313, 46.74795, -24.516472, 14.378974, ...</td>\n",
       "      <td>0.0</td>\n",
       "    </tr>\n",
       "    <tr>\n",
       "      <th>7996</th>\n",
       "      <td>[-306.65973, 108.84736, -32.75348, 26.687147, ...</td>\n",
       "      <td>0.0</td>\n",
       "    </tr>\n",
       "    <tr>\n",
       "      <th>7997</th>\n",
       "      <td>[-460.42007, 44.10028, -8.913488, 6.1871886, -...</td>\n",
       "      <td>1.0</td>\n",
       "    </tr>\n",
       "    <tr>\n",
       "      <th>7998</th>\n",
       "      <td>[-433.1279, 35.696888, -21.607098, 1.155598, -...</td>\n",
       "      <td>1.0</td>\n",
       "    </tr>\n",
       "    <tr>\n",
       "      <th>7999</th>\n",
       "      <td>[-345.01932, 81.45927, -9.335994, 24.000605, -...</td>\n",
       "      <td>0.0</td>\n",
       "    </tr>\n",
       "  </tbody>\n",
       "</table>\n",
       "<p>8000 rows × 2 columns</p>\n",
       "</div>"
      ],
      "text/plain": [
       "                                                Feature  Class\n",
       "0     [-620.2583, 61.49415, -15.288396, 14.906147, -...    0.0\n",
       "1     [-563.3379, 18.238453, -2.3402789, 5.720763, -...    1.0\n",
       "2     [-736.4029, 55.818638, 9.05353, 1.8999938, -12...    0.0\n",
       "3     [-278.87955, 100.88817, -25.865995, 15.782074,...    1.0\n",
       "4     [-1131.3711, 0.0, 0.0, 0.0, 0.0, 0.0, 0.0, 0.0...    0.0\n",
       "...                                                 ...    ...\n",
       "7995  [-413.21313, 46.74795, -24.516472, 14.378974, ...    0.0\n",
       "7996  [-306.65973, 108.84736, -32.75348, 26.687147, ...    0.0\n",
       "7997  [-460.42007, 44.10028, -8.913488, 6.1871886, -...    1.0\n",
       "7998  [-433.1279, 35.696888, -21.607098, 1.155598, -...    1.0\n",
       "7999  [-345.01932, 81.45927, -9.335994, 24.000605, -...    0.0\n",
       "\n",
       "[8000 rows x 2 columns]"
      ]
     },
     "execution_count": 5,
     "metadata": {},
     "output_type": "execute_result"
    }
   ],
   "source": [
    "# -> already executed once\n",
    "# extracted_features.to_pickle('mfcc_features.pkl')\n",
    "\n",
    "extracted_features = pd.read_pickle('mfcc_features.pkl')\n",
    "extracted_features"
   ]
  },
  {
   "cell_type": "code",
   "execution_count": 6,
   "id": "41634c5b-02a3-48ff-b491-0affa82b30a3",
   "metadata": {},
   "outputs": [],
   "source": [
    "X = np.array(extracted_features['Feature'].to_list())\n",
    "y = np.array(extracted_features['Class'].to_list())"
   ]
  },
  {
   "cell_type": "code",
   "execution_count": 7,
   "id": "3142949b-1583-454e-bd76-985a4099518e",
   "metadata": {},
   "outputs": [
    {
     "data": {
      "text/plain": [
       "((8000, 50), (8000,))"
      ]
     },
     "execution_count": 7,
     "metadata": {},
     "output_type": "execute_result"
    }
   ],
   "source": [
    "X.shape, y.shape"
   ]
  },
  {
   "cell_type": "markdown",
   "id": "0e583eb3-cb5e-4ea8-b0ec-995a0a03b787",
   "metadata": {},
   "source": [
    "# Splitting DataSet"
   ]
  },
  {
   "cell_type": "code",
   "execution_count": 8,
   "id": "2943c8ae-19b8-452e-a460-78dc0937308a",
   "metadata": {},
   "outputs": [],
   "source": [
    "from sklearn.model_selection import train_test_split"
   ]
  },
  {
   "cell_type": "code",
   "execution_count": 9,
   "id": "b2cb19c1-580d-46c1-90e6-2a34805113fe",
   "metadata": {},
   "outputs": [],
   "source": [
    "X_train, X_test, y_train, y_test = train_test_split(X, y, test_size=0.2, random_state=27)"
   ]
  },
  {
   "cell_type": "code",
   "execution_count": 10,
   "id": "9dafc1cd-8904-4334-9885-48227c1071b0",
   "metadata": {},
   "outputs": [
    {
     "data": {
      "text/plain": [
       "((6400, 50), (6400,))"
      ]
     },
     "execution_count": 10,
     "metadata": {},
     "output_type": "execute_result"
    }
   ],
   "source": [
    "X_train.shape, y_train.shape"
   ]
  },
  {
   "cell_type": "markdown",
   "id": "acfb7408-6609-457f-953b-d217d433ca96",
   "metadata": {},
   "source": [
    "# CREATING THE MODEL"
   ]
  },
  {
   "cell_type": "code",
   "execution_count": 11,
   "id": "42f3df59-4438-4756-99fe-0ce40c930e83",
   "metadata": {},
   "outputs": [
    {
     "name": "stdout",
     "output_type": "stream",
     "text": [
      "2.12.0\n"
     ]
    }
   ],
   "source": [
    "import tensorflow as tf\n",
    "print(tf.__version__)"
   ]
  },
  {
   "cell_type": "code",
   "execution_count": 12,
   "id": "fd581876-5f40-4831-9403-c115ea8bcfe9",
   "metadata": {},
   "outputs": [],
   "source": [
    "from tensorflow.keras.models import Sequential\n",
    "from tensorflow.keras.layers import Dense, Dropout, Conv1D, MaxPooling1D, Flatten\n",
    "from tensorflow.keras.optimizers import Adam\n",
    "from sklearn import metrics"
   ]
  },
  {
   "cell_type": "markdown",
   "id": "0df6918e-c65f-44cb-b2aa-576fb28d8139",
   "metadata": {},
   "source": [
    "## Building Layers"
   ]
  },
  {
   "cell_type": "code",
   "execution_count": 13,
   "id": "215c7a1c-2100-4cf0-98d1-46b9fbcb1367",
   "metadata": {},
   "outputs": [],
   "source": [
    "model = Sequential()\n",
    "model.add(Dense(64, input_dim=len(X[0, :]), activation = 'relu'))\n",
    "model.add(Dense(16, activation='relu'))\n",
    "model.add(Dense(1, activation='sigmoid'))"
   ]
  },
  {
   "cell_type": "code",
   "execution_count": 14,
   "id": "be243904-e34c-4c7d-a5fe-94a19e7a3f05",
   "metadata": {},
   "outputs": [
    {
     "name": "stdout",
     "output_type": "stream",
     "text": [
      "Model: \"sequential\"\n",
      "_________________________________________________________________\n",
      " Layer (type)                Output Shape              Param #   \n",
      "=================================================================\n",
      " dense (Dense)               (None, 64)                3264      \n",
      "                                                                 \n",
      " dense_1 (Dense)             (None, 16)                1040      \n",
      "                                                                 \n",
      " dense_2 (Dense)             (None, 1)                 17        \n",
      "                                                                 \n",
      "=================================================================\n",
      "Total params: 4,321\n",
      "Trainable params: 4,321\n",
      "Non-trainable params: 0\n",
      "_________________________________________________________________\n"
     ]
    }
   ],
   "source": [
    "model.summary()"
   ]
  },
  {
   "cell_type": "markdown",
   "id": "9c0f8f74-b12e-4f85-9713-ab4897cb2273",
   "metadata": {},
   "source": [
    "## Training"
   ]
  },
  {
   "cell_type": "code",
   "execution_count": 15,
   "id": "aa5ae431-70fe-4f5f-a7fd-f1184936de9b",
   "metadata": {},
   "outputs": [],
   "source": [
    "model.compile(loss = 'binary_crossentropy', optimizer='rmsprop', metrics=['accuracy'])"
   ]
  },
  {
   "cell_type": "code",
   "execution_count": 16,
   "id": "bb86a8ca-176a-4440-853f-736ee5e03848",
   "metadata": {
    "scrolled": true
   },
   "outputs": [
    {
     "name": "stdout",
     "output_type": "stream",
     "text": [
      "Epoch 1/256\n"
     ]
    },
    {
     "name": "stderr",
     "output_type": "stream",
     "text": [
      "2024-10-26 19:19:46.954670: W tensorflow/tsl/platform/profile_utils/cpu_utils.cc:128] Failed to get CPU frequency: 0 Hz\n"
     ]
    },
    {
     "name": "stdout",
     "output_type": "stream",
     "text": [
      "200/200 [==============================] - 0s 509us/step - loss: 1.7042 - accuracy: 0.5841\n",
      "Epoch 2/256\n",
      "200/200 [==============================] - 0s 464us/step - loss: 1.0650 - accuracy: 0.6361\n",
      "Epoch 3/256\n",
      "200/200 [==============================] - 0s 464us/step - loss: 0.8978 - accuracy: 0.6641\n",
      "Epoch 4/256\n",
      "200/200 [==============================] - 0s 457us/step - loss: 0.8701 - accuracy: 0.6728\n",
      "Epoch 5/256\n",
      "200/200 [==============================] - 0s 452us/step - loss: 0.7856 - accuracy: 0.6772\n",
      "Epoch 6/256\n",
      "200/200 [==============================] - 0s 458us/step - loss: 0.7246 - accuracy: 0.6928\n",
      "Epoch 7/256\n",
      "200/200 [==============================] - 0s 455us/step - loss: 0.6956 - accuracy: 0.6977\n",
      "Epoch 8/256\n",
      "200/200 [==============================] - 0s 454us/step - loss: 0.6767 - accuracy: 0.7031\n",
      "Epoch 9/256\n",
      "200/200 [==============================] - 0s 453us/step - loss: 0.6474 - accuracy: 0.7023\n",
      "Epoch 10/256\n",
      "200/200 [==============================] - 0s 459us/step - loss: 0.5925 - accuracy: 0.7241\n",
      "Epoch 11/256\n",
      "200/200 [==============================] - 0s 459us/step - loss: 0.5679 - accuracy: 0.7195\n",
      "Epoch 12/256\n",
      "200/200 [==============================] - 0s 458us/step - loss: 0.5504 - accuracy: 0.7430\n",
      "Epoch 13/256\n",
      "200/200 [==============================] - 0s 456us/step - loss: 0.5417 - accuracy: 0.7450\n",
      "Epoch 14/256\n",
      "200/200 [==============================] - 0s 457us/step - loss: 0.5242 - accuracy: 0.7436\n",
      "Epoch 15/256\n",
      "200/200 [==============================] - 0s 462us/step - loss: 0.5282 - accuracy: 0.7431\n",
      "Epoch 16/256\n",
      "200/200 [==============================] - 0s 456us/step - loss: 0.4979 - accuracy: 0.7616\n",
      "Epoch 17/256\n",
      "200/200 [==============================] - 0s 456us/step - loss: 0.4942 - accuracy: 0.7620\n",
      "Epoch 18/256\n",
      "200/200 [==============================] - 0s 458us/step - loss: 0.4899 - accuracy: 0.7653\n",
      "Epoch 19/256\n",
      "200/200 [==============================] - 0s 455us/step - loss: 0.4822 - accuracy: 0.7730\n",
      "Epoch 20/256\n",
      "200/200 [==============================] - 0s 456us/step - loss: 0.4796 - accuracy: 0.7745\n",
      "Epoch 21/256\n",
      "200/200 [==============================] - 0s 456us/step - loss: 0.4633 - accuracy: 0.7795\n",
      "Epoch 22/256\n",
      "200/200 [==============================] - 0s 459us/step - loss: 0.4536 - accuracy: 0.7837\n",
      "Epoch 23/256\n",
      "200/200 [==============================] - 0s 464us/step - loss: 0.4533 - accuracy: 0.7856\n",
      "Epoch 24/256\n",
      "200/200 [==============================] - 0s 460us/step - loss: 0.4470 - accuracy: 0.7911\n",
      "Epoch 25/256\n",
      "200/200 [==============================] - 0s 457us/step - loss: 0.4438 - accuracy: 0.7948\n",
      "Epoch 26/256\n",
      "200/200 [==============================] - 0s 463us/step - loss: 0.4407 - accuracy: 0.7902\n",
      "Epoch 27/256\n",
      "200/200 [==============================] - 0s 456us/step - loss: 0.4334 - accuracy: 0.8000\n",
      "Epoch 28/256\n",
      "200/200 [==============================] - 0s 459us/step - loss: 0.4298 - accuracy: 0.7969\n",
      "Epoch 29/256\n",
      "200/200 [==============================] - 0s 465us/step - loss: 0.4214 - accuracy: 0.8044\n",
      "Epoch 30/256\n",
      "200/200 [==============================] - 0s 462us/step - loss: 0.4244 - accuracy: 0.8050\n",
      "Epoch 31/256\n",
      "200/200 [==============================] - 0s 460us/step - loss: 0.4150 - accuracy: 0.8053\n",
      "Epoch 32/256\n",
      "200/200 [==============================] - 0s 464us/step - loss: 0.4109 - accuracy: 0.8106\n",
      "Epoch 33/256\n",
      "200/200 [==============================] - 0s 453us/step - loss: 0.4065 - accuracy: 0.8084\n",
      "Epoch 34/256\n",
      "200/200 [==============================] - 0s 455us/step - loss: 0.4030 - accuracy: 0.8166\n",
      "Epoch 35/256\n",
      "200/200 [==============================] - 0s 456us/step - loss: 0.4048 - accuracy: 0.8095\n",
      "Epoch 36/256\n",
      "200/200 [==============================] - 0s 457us/step - loss: 0.4000 - accuracy: 0.8164\n",
      "Epoch 37/256\n",
      "200/200 [==============================] - 0s 456us/step - loss: 0.3911 - accuracy: 0.8192\n",
      "Epoch 38/256\n",
      "200/200 [==============================] - 0s 457us/step - loss: 0.3848 - accuracy: 0.8238\n",
      "Epoch 39/256\n",
      "200/200 [==============================] - 0s 456us/step - loss: 0.3833 - accuracy: 0.8214\n",
      "Epoch 40/256\n",
      "200/200 [==============================] - 0s 455us/step - loss: 0.3816 - accuracy: 0.8283\n",
      "Epoch 41/256\n",
      "200/200 [==============================] - 0s 459us/step - loss: 0.3816 - accuracy: 0.8236\n",
      "Epoch 42/256\n",
      "200/200 [==============================] - 0s 458us/step - loss: 0.3760 - accuracy: 0.8316\n",
      "Epoch 43/256\n",
      "200/200 [==============================] - 0s 458us/step - loss: 0.3713 - accuracy: 0.8328\n",
      "Epoch 44/256\n",
      "200/200 [==============================] - 0s 455us/step - loss: 0.3723 - accuracy: 0.8309\n",
      "Epoch 45/256\n",
      "200/200 [==============================] - 0s 463us/step - loss: 0.3666 - accuracy: 0.8373\n",
      "Epoch 46/256\n",
      "200/200 [==============================] - 0s 454us/step - loss: 0.3714 - accuracy: 0.8308\n",
      "Epoch 47/256\n",
      "200/200 [==============================] - 0s 454us/step - loss: 0.3625 - accuracy: 0.8363\n",
      "Epoch 48/256\n",
      "200/200 [==============================] - 0s 459us/step - loss: 0.3615 - accuracy: 0.8388\n",
      "Epoch 49/256\n",
      "200/200 [==============================] - 0s 454us/step - loss: 0.3617 - accuracy: 0.8386\n",
      "Epoch 50/256\n",
      "200/200 [==============================] - 0s 454us/step - loss: 0.3609 - accuracy: 0.8377\n",
      "Epoch 51/256\n",
      "200/200 [==============================] - 0s 454us/step - loss: 0.3543 - accuracy: 0.8427\n",
      "Epoch 52/256\n",
      "200/200 [==============================] - 0s 457us/step - loss: 0.3528 - accuracy: 0.8434\n",
      "Epoch 53/256\n",
      "200/200 [==============================] - 0s 459us/step - loss: 0.3493 - accuracy: 0.8445\n",
      "Epoch 54/256\n",
      "200/200 [==============================] - 0s 467us/step - loss: 0.3485 - accuracy: 0.8455\n",
      "Epoch 55/256\n",
      "200/200 [==============================] - 0s 455us/step - loss: 0.3476 - accuracy: 0.8481\n",
      "Epoch 56/256\n",
      "200/200 [==============================] - 0s 454us/step - loss: 0.3440 - accuracy: 0.8487\n",
      "Epoch 57/256\n",
      "200/200 [==============================] - 0s 456us/step - loss: 0.3392 - accuracy: 0.8466\n",
      "Epoch 58/256\n",
      "200/200 [==============================] - 0s 462us/step - loss: 0.3415 - accuracy: 0.8475\n",
      "Epoch 59/256\n",
      "200/200 [==============================] - 0s 458us/step - loss: 0.3377 - accuracy: 0.8498\n",
      "Epoch 60/256\n",
      "200/200 [==============================] - 0s 457us/step - loss: 0.3349 - accuracy: 0.8514\n",
      "Epoch 61/256\n",
      "200/200 [==============================] - 0s 456us/step - loss: 0.3374 - accuracy: 0.8502\n",
      "Epoch 62/256\n",
      "200/200 [==============================] - 0s 455us/step - loss: 0.3303 - accuracy: 0.8533\n",
      "Epoch 63/256\n",
      "200/200 [==============================] - 0s 457us/step - loss: 0.3307 - accuracy: 0.8537\n",
      "Epoch 64/256\n",
      "200/200 [==============================] - 0s 464us/step - loss: 0.3283 - accuracy: 0.8512\n",
      "Epoch 65/256\n",
      "200/200 [==============================] - 0s 455us/step - loss: 0.3273 - accuracy: 0.8530\n",
      "Epoch 66/256\n",
      "200/200 [==============================] - 0s 457us/step - loss: 0.3219 - accuracy: 0.8608\n",
      "Epoch 67/256\n",
      "200/200 [==============================] - 0s 451us/step - loss: 0.3247 - accuracy: 0.8580\n",
      "Epoch 68/256\n",
      "200/200 [==============================] - 0s 453us/step - loss: 0.3217 - accuracy: 0.8609\n",
      "Epoch 69/256\n",
      "200/200 [==============================] - 0s 453us/step - loss: 0.3147 - accuracy: 0.8617\n",
      "Epoch 70/256\n",
      "200/200 [==============================] - 0s 455us/step - loss: 0.3175 - accuracy: 0.8541\n",
      "Epoch 71/256\n",
      "200/200 [==============================] - 0s 456us/step - loss: 0.3144 - accuracy: 0.8619\n",
      "Epoch 72/256\n",
      "200/200 [==============================] - 0s 458us/step - loss: 0.3124 - accuracy: 0.8603\n",
      "Epoch 73/256\n",
      "200/200 [==============================] - 0s 461us/step - loss: 0.3080 - accuracy: 0.8620\n",
      "Epoch 74/256\n",
      "200/200 [==============================] - 0s 458us/step - loss: 0.3113 - accuracy: 0.8628\n",
      "Epoch 75/256\n",
      "200/200 [==============================] - 0s 456us/step - loss: 0.3071 - accuracy: 0.8658\n",
      "Epoch 76/256\n",
      "200/200 [==============================] - 0s 458us/step - loss: 0.3068 - accuracy: 0.8675\n",
      "Epoch 77/256\n",
      "200/200 [==============================] - 0s 457us/step - loss: 0.3045 - accuracy: 0.8647\n",
      "Epoch 78/256\n",
      "200/200 [==============================] - 0s 457us/step - loss: 0.3037 - accuracy: 0.8686\n",
      "Epoch 79/256\n",
      "200/200 [==============================] - 0s 454us/step - loss: 0.2991 - accuracy: 0.8695\n",
      "Epoch 80/256\n",
      "200/200 [==============================] - 0s 457us/step - loss: 0.2982 - accuracy: 0.8700\n",
      "Epoch 81/256\n",
      "200/200 [==============================] - 0s 456us/step - loss: 0.2976 - accuracy: 0.8725\n",
      "Epoch 82/256\n",
      "200/200 [==============================] - 0s 457us/step - loss: 0.2952 - accuracy: 0.8730\n",
      "Epoch 83/256\n",
      "200/200 [==============================] - 0s 459us/step - loss: 0.2935 - accuracy: 0.8737\n",
      "Epoch 84/256\n",
      "200/200 [==============================] - 0s 457us/step - loss: 0.2943 - accuracy: 0.8722\n",
      "Epoch 85/256\n",
      "200/200 [==============================] - 0s 465us/step - loss: 0.2896 - accuracy: 0.8728\n",
      "Epoch 86/256\n",
      "200/200 [==============================] - 0s 459us/step - loss: 0.2875 - accuracy: 0.8730\n",
      "Epoch 87/256\n",
      "200/200 [==============================] - 0s 454us/step - loss: 0.2902 - accuracy: 0.8714\n",
      "Epoch 88/256\n",
      "200/200 [==============================] - 0s 462us/step - loss: 0.2853 - accuracy: 0.8752\n",
      "Epoch 89/256\n",
      "200/200 [==============================] - 0s 455us/step - loss: 0.2863 - accuracy: 0.8778\n",
      "Epoch 90/256\n",
      "200/200 [==============================] - 0s 453us/step - loss: 0.2833 - accuracy: 0.8767\n",
      "Epoch 91/256\n",
      "200/200 [==============================] - 0s 454us/step - loss: 0.2810 - accuracy: 0.8781\n",
      "Epoch 92/256\n",
      "200/200 [==============================] - 0s 456us/step - loss: 0.2768 - accuracy: 0.8813\n",
      "Epoch 93/256\n",
      "200/200 [==============================] - 0s 457us/step - loss: 0.2762 - accuracy: 0.8823\n",
      "Epoch 94/256\n",
      "200/200 [==============================] - 0s 457us/step - loss: 0.2788 - accuracy: 0.8791\n",
      "Epoch 95/256\n",
      "200/200 [==============================] - 0s 456us/step - loss: 0.2741 - accuracy: 0.8806\n",
      "Epoch 96/256\n",
      "200/200 [==============================] - 0s 459us/step - loss: 0.2761 - accuracy: 0.8786\n",
      "Epoch 97/256\n",
      "200/200 [==============================] - 0s 455us/step - loss: 0.2733 - accuracy: 0.8795\n",
      "Epoch 98/256\n",
      "200/200 [==============================] - 0s 458us/step - loss: 0.2691 - accuracy: 0.8797\n",
      "Epoch 99/256\n",
      "200/200 [==============================] - 0s 459us/step - loss: 0.2692 - accuracy: 0.8856\n",
      "Epoch 100/256\n",
      "200/200 [==============================] - 0s 466us/step - loss: 0.2657 - accuracy: 0.8836\n",
      "Epoch 101/256\n",
      "200/200 [==============================] - 0s 468us/step - loss: 0.2676 - accuracy: 0.8839\n",
      "Epoch 102/256\n",
      "200/200 [==============================] - 0s 471us/step - loss: 0.2691 - accuracy: 0.8842\n",
      "Epoch 103/256\n",
      "200/200 [==============================] - 0s 465us/step - loss: 0.2645 - accuracy: 0.8864\n",
      "Epoch 104/256\n",
      "200/200 [==============================] - 0s 473us/step - loss: 0.2680 - accuracy: 0.8811\n",
      "Epoch 105/256\n",
      "200/200 [==============================] - 0s 489us/step - loss: 0.2646 - accuracy: 0.8842\n",
      "Epoch 106/256\n",
      "200/200 [==============================] - 0s 469us/step - loss: 0.2581 - accuracy: 0.8891\n",
      "Epoch 107/256\n",
      "200/200 [==============================] - 0s 471us/step - loss: 0.2594 - accuracy: 0.8855\n",
      "Epoch 108/256\n",
      "200/200 [==============================] - 0s 477us/step - loss: 0.2583 - accuracy: 0.8894\n",
      "Epoch 109/256\n",
      "200/200 [==============================] - 0s 483us/step - loss: 0.2542 - accuracy: 0.8925\n",
      "Epoch 110/256\n",
      "200/200 [==============================] - 0s 485us/step - loss: 0.2540 - accuracy: 0.8911\n",
      "Epoch 111/256\n",
      "200/200 [==============================] - 0s 473us/step - loss: 0.2545 - accuracy: 0.8894\n",
      "Epoch 112/256\n",
      "200/200 [==============================] - 0s 469us/step - loss: 0.2516 - accuracy: 0.8866\n",
      "Epoch 113/256\n",
      "200/200 [==============================] - 0s 462us/step - loss: 0.2484 - accuracy: 0.8903\n",
      "Epoch 114/256\n",
      "200/200 [==============================] - 0s 462us/step - loss: 0.2513 - accuracy: 0.8905\n",
      "Epoch 115/256\n",
      "200/200 [==============================] - 0s 470us/step - loss: 0.2517 - accuracy: 0.8948\n",
      "Epoch 116/256\n",
      "200/200 [==============================] - 0s 475us/step - loss: 0.2476 - accuracy: 0.8939\n",
      "Epoch 117/256\n",
      "200/200 [==============================] - 0s 472us/step - loss: 0.2440 - accuracy: 0.8953\n",
      "Epoch 118/256\n",
      "200/200 [==============================] - 0s 473us/step - loss: 0.2501 - accuracy: 0.8922\n",
      "Epoch 119/256\n",
      "200/200 [==============================] - 0s 469us/step - loss: 0.2499 - accuracy: 0.8936\n",
      "Epoch 120/256\n",
      "200/200 [==============================] - 0s 467us/step - loss: 0.2414 - accuracy: 0.8973\n",
      "Epoch 121/256\n",
      "200/200 [==============================] - 0s 471us/step - loss: 0.2423 - accuracy: 0.8952\n",
      "Epoch 122/256\n",
      "200/200 [==============================] - 0s 469us/step - loss: 0.2412 - accuracy: 0.8941\n",
      "Epoch 123/256\n",
      "200/200 [==============================] - 0s 466us/step - loss: 0.2448 - accuracy: 0.8925\n",
      "Epoch 124/256\n",
      "200/200 [==============================] - 0s 470us/step - loss: 0.2442 - accuracy: 0.8986\n",
      "Epoch 125/256\n",
      "200/200 [==============================] - 0s 467us/step - loss: 0.2379 - accuracy: 0.8970\n",
      "Epoch 126/256\n",
      "200/200 [==============================] - 0s 480us/step - loss: 0.2417 - accuracy: 0.8970\n",
      "Epoch 127/256\n",
      "200/200 [==============================] - 0s 467us/step - loss: 0.2399 - accuracy: 0.8952\n",
      "Epoch 128/256\n",
      "200/200 [==============================] - 0s 471us/step - loss: 0.2370 - accuracy: 0.8986\n",
      "Epoch 129/256\n",
      "200/200 [==============================] - 0s 471us/step - loss: 0.2346 - accuracy: 0.8994\n",
      "Epoch 130/256\n",
      "200/200 [==============================] - 0s 471us/step - loss: 0.2355 - accuracy: 0.9003\n",
      "Epoch 131/256\n",
      "200/200 [==============================] - 0s 468us/step - loss: 0.2311 - accuracy: 0.9009\n",
      "Epoch 132/256\n",
      "200/200 [==============================] - 0s 470us/step - loss: 0.2331 - accuracy: 0.9027\n",
      "Epoch 133/256\n",
      "200/200 [==============================] - 0s 472us/step - loss: 0.2326 - accuracy: 0.9017\n",
      "Epoch 134/256\n",
      "200/200 [==============================] - 0s 471us/step - loss: 0.2337 - accuracy: 0.9039\n",
      "Epoch 135/256\n",
      "200/200 [==============================] - 0s 469us/step - loss: 0.2272 - accuracy: 0.9030\n",
      "Epoch 136/256\n",
      "200/200 [==============================] - 0s 473us/step - loss: 0.2279 - accuracy: 0.9030\n",
      "Epoch 137/256\n",
      "200/200 [==============================] - 0s 473us/step - loss: 0.2320 - accuracy: 0.8989\n",
      "Epoch 138/256\n",
      "200/200 [==============================] - 0s 477us/step - loss: 0.2322 - accuracy: 0.9041\n",
      "Epoch 139/256\n",
      "200/200 [==============================] - 0s 466us/step - loss: 0.2310 - accuracy: 0.9003\n",
      "Epoch 140/256\n",
      "200/200 [==============================] - 0s 468us/step - loss: 0.2239 - accuracy: 0.9030\n",
      "Epoch 141/256\n",
      "200/200 [==============================] - 0s 470us/step - loss: 0.2266 - accuracy: 0.9031\n",
      "Epoch 142/256\n",
      "200/200 [==============================] - 0s 462us/step - loss: 0.2267 - accuracy: 0.9073\n",
      "Epoch 143/256\n",
      "200/200 [==============================] - 0s 468us/step - loss: 0.2302 - accuracy: 0.9022\n",
      "Epoch 144/256\n",
      "200/200 [==============================] - 0s 506us/step - loss: 0.2250 - accuracy: 0.9084\n",
      "Epoch 145/256\n",
      "200/200 [==============================] - 0s 478us/step - loss: 0.2214 - accuracy: 0.9020\n",
      "Epoch 146/256\n",
      "200/200 [==============================] - 0s 460us/step - loss: 0.2225 - accuracy: 0.9075\n",
      "Epoch 147/256\n",
      "200/200 [==============================] - 0s 458us/step - loss: 0.2269 - accuracy: 0.9045\n",
      "Epoch 148/256\n",
      "200/200 [==============================] - 0s 455us/step - loss: 0.2252 - accuracy: 0.9070\n",
      "Epoch 149/256\n",
      "200/200 [==============================] - 0s 454us/step - loss: 0.2237 - accuracy: 0.9039\n",
      "Epoch 150/256\n",
      "200/200 [==============================] - 0s 452us/step - loss: 0.2189 - accuracy: 0.9069\n",
      "Epoch 151/256\n",
      "200/200 [==============================] - 0s 462us/step - loss: 0.2223 - accuracy: 0.9081\n",
      "Epoch 152/256\n",
      "200/200 [==============================] - 0s 454us/step - loss: 0.2148 - accuracy: 0.9092\n",
      "Epoch 153/256\n",
      "200/200 [==============================] - 0s 457us/step - loss: 0.2191 - accuracy: 0.9064\n",
      "Epoch 154/256\n",
      "200/200 [==============================] - 0s 459us/step - loss: 0.2181 - accuracy: 0.9070\n",
      "Epoch 155/256\n",
      "200/200 [==============================] - 0s 458us/step - loss: 0.2217 - accuracy: 0.9053\n",
      "Epoch 156/256\n",
      "200/200 [==============================] - 0s 468us/step - loss: 0.2142 - accuracy: 0.9069\n",
      "Epoch 157/256\n",
      "200/200 [==============================] - 0s 466us/step - loss: 0.2171 - accuracy: 0.9094\n",
      "Epoch 158/256\n",
      "200/200 [==============================] - 0s 460us/step - loss: 0.2164 - accuracy: 0.9086\n",
      "Epoch 159/256\n",
      "200/200 [==============================] - 0s 461us/step - loss: 0.2115 - accuracy: 0.9066\n",
      "Epoch 160/256\n",
      "200/200 [==============================] - 0s 457us/step - loss: 0.2124 - accuracy: 0.9112\n",
      "Epoch 161/256\n",
      "200/200 [==============================] - 0s 458us/step - loss: 0.2116 - accuracy: 0.9119\n",
      "Epoch 162/256\n",
      "200/200 [==============================] - 0s 459us/step - loss: 0.2123 - accuracy: 0.9097\n",
      "Epoch 163/256\n",
      "200/200 [==============================] - 0s 462us/step - loss: 0.2108 - accuracy: 0.9131\n",
      "Epoch 164/256\n",
      "200/200 [==============================] - 0s 456us/step - loss: 0.2075 - accuracy: 0.9125\n",
      "Epoch 165/256\n",
      "200/200 [==============================] - 0s 455us/step - loss: 0.2080 - accuracy: 0.9109\n",
      "Epoch 166/256\n",
      "200/200 [==============================] - 0s 454us/step - loss: 0.2095 - accuracy: 0.9128\n",
      "Epoch 167/256\n",
      "200/200 [==============================] - 0s 457us/step - loss: 0.2100 - accuracy: 0.9112\n",
      "Epoch 168/256\n",
      "200/200 [==============================] - 0s 457us/step - loss: 0.2070 - accuracy: 0.9122\n",
      "Epoch 169/256\n",
      "200/200 [==============================] - 0s 453us/step - loss: 0.2051 - accuracy: 0.9148\n",
      "Epoch 170/256\n",
      "200/200 [==============================] - 0s 458us/step - loss: 0.2058 - accuracy: 0.9114\n",
      "Epoch 171/256\n",
      "200/200 [==============================] - 0s 461us/step - loss: 0.2059 - accuracy: 0.9141\n",
      "Epoch 172/256\n",
      "200/200 [==============================] - 0s 459us/step - loss: 0.2068 - accuracy: 0.9114\n",
      "Epoch 173/256\n",
      "200/200 [==============================] - 0s 461us/step - loss: 0.2085 - accuracy: 0.9097\n",
      "Epoch 174/256\n",
      "200/200 [==============================] - 0s 464us/step - loss: 0.2026 - accuracy: 0.9159\n",
      "Epoch 175/256\n",
      "200/200 [==============================] - 0s 460us/step - loss: 0.2027 - accuracy: 0.9142\n",
      "Epoch 176/256\n",
      "200/200 [==============================] - 0s 459us/step - loss: 0.1982 - accuracy: 0.9156\n",
      "Epoch 177/256\n",
      "200/200 [==============================] - 0s 456us/step - loss: 0.2013 - accuracy: 0.9169\n",
      "Epoch 178/256\n",
      "200/200 [==============================] - 0s 461us/step - loss: 0.2042 - accuracy: 0.9134\n",
      "Epoch 179/256\n",
      "200/200 [==============================] - 0s 456us/step - loss: 0.2067 - accuracy: 0.9103\n",
      "Epoch 180/256\n",
      "200/200 [==============================] - 0s 454us/step - loss: 0.2039 - accuracy: 0.9170\n",
      "Epoch 181/256\n",
      "200/200 [==============================] - 0s 458us/step - loss: 0.2045 - accuracy: 0.9114\n",
      "Epoch 182/256\n",
      "200/200 [==============================] - 0s 453us/step - loss: 0.2019 - accuracy: 0.9131\n",
      "Epoch 183/256\n",
      "200/200 [==============================] - 0s 460us/step - loss: 0.1966 - accuracy: 0.9192\n",
      "Epoch 184/256\n",
      "200/200 [==============================] - 0s 529us/step - loss: 0.1978 - accuracy: 0.9158\n",
      "Epoch 185/256\n",
      "200/200 [==============================] - 0s 525us/step - loss: 0.2046 - accuracy: 0.9142\n",
      "Epoch 186/256\n",
      "200/200 [==============================] - 0s 500us/step - loss: 0.1978 - accuracy: 0.9184\n",
      "Epoch 187/256\n",
      "200/200 [==============================] - 0s 460us/step - loss: 0.1999 - accuracy: 0.9175\n",
      "Epoch 188/256\n",
      "200/200 [==============================] - 0s 463us/step - loss: 0.1968 - accuracy: 0.9183\n",
      "Epoch 189/256\n",
      "200/200 [==============================] - 0s 460us/step - loss: 0.2011 - accuracy: 0.9145\n",
      "Epoch 190/256\n",
      "200/200 [==============================] - 0s 461us/step - loss: 0.1971 - accuracy: 0.9147\n",
      "Epoch 191/256\n",
      "200/200 [==============================] - 0s 459us/step - loss: 0.1949 - accuracy: 0.9191\n",
      "Epoch 192/256\n",
      "200/200 [==============================] - 0s 454us/step - loss: 0.1975 - accuracy: 0.9187\n",
      "Epoch 193/256\n",
      "200/200 [==============================] - 0s 455us/step - loss: 0.1914 - accuracy: 0.9192\n",
      "Epoch 194/256\n",
      "200/200 [==============================] - 0s 456us/step - loss: 0.1931 - accuracy: 0.9197\n",
      "Epoch 195/256\n",
      "200/200 [==============================] - 0s 454us/step - loss: 0.1936 - accuracy: 0.9189\n",
      "Epoch 196/256\n",
      "200/200 [==============================] - 0s 447us/step - loss: 0.1961 - accuracy: 0.9214\n",
      "Epoch 197/256\n",
      "200/200 [==============================] - 0s 457us/step - loss: 0.1905 - accuracy: 0.9195\n",
      "Epoch 198/256\n",
      "200/200 [==============================] - 0s 459us/step - loss: 0.1891 - accuracy: 0.9214\n",
      "Epoch 199/256\n",
      "200/200 [==============================] - 0s 456us/step - loss: 0.1897 - accuracy: 0.9231\n",
      "Epoch 200/256\n",
      "200/200 [==============================] - 0s 455us/step - loss: 0.1998 - accuracy: 0.9162\n",
      "Epoch 201/256\n",
      "200/200 [==============================] - 0s 452us/step - loss: 0.1930 - accuracy: 0.9197\n",
      "Epoch 202/256\n",
      "200/200 [==============================] - 0s 451us/step - loss: 0.1890 - accuracy: 0.9241\n",
      "Epoch 203/256\n",
      "200/200 [==============================] - 0s 450us/step - loss: 0.1938 - accuracy: 0.9164\n",
      "Epoch 204/256\n",
      "200/200 [==============================] - 0s 449us/step - loss: 0.1875 - accuracy: 0.9216\n",
      "Epoch 205/256\n",
      "200/200 [==============================] - 0s 450us/step - loss: 0.1885 - accuracy: 0.9203\n",
      "Epoch 206/256\n",
      "200/200 [==============================] - 0s 450us/step - loss: 0.1898 - accuracy: 0.9234\n",
      "Epoch 207/256\n",
      "200/200 [==============================] - 0s 446us/step - loss: 0.1942 - accuracy: 0.9184\n",
      "Epoch 208/256\n",
      "200/200 [==============================] - 0s 451us/step - loss: 0.1844 - accuracy: 0.9225\n",
      "Epoch 209/256\n",
      "200/200 [==============================] - 0s 449us/step - loss: 0.1881 - accuracy: 0.9219\n",
      "Epoch 210/256\n",
      "200/200 [==============================] - 0s 455us/step - loss: 0.1860 - accuracy: 0.9205\n",
      "Epoch 211/256\n",
      "200/200 [==============================] - 0s 460us/step - loss: 0.1854 - accuracy: 0.9214\n",
      "Epoch 212/256\n",
      "200/200 [==============================] - 0s 450us/step - loss: 0.1900 - accuracy: 0.9239\n",
      "Epoch 213/256\n",
      "200/200 [==============================] - 0s 453us/step - loss: 0.1837 - accuracy: 0.9239\n",
      "Epoch 214/256\n",
      "200/200 [==============================] - 0s 452us/step - loss: 0.1858 - accuracy: 0.9239\n",
      "Epoch 215/256\n",
      "200/200 [==============================] - 0s 473us/step - loss: 0.1805 - accuracy: 0.9241\n",
      "Epoch 216/256\n",
      "200/200 [==============================] - 0s 461us/step - loss: 0.1842 - accuracy: 0.9202\n",
      "Epoch 217/256\n",
      "200/200 [==============================] - 0s 457us/step - loss: 0.1848 - accuracy: 0.9223\n",
      "Epoch 218/256\n",
      "200/200 [==============================] - 0s 456us/step - loss: 0.1828 - accuracy: 0.9227\n",
      "Epoch 219/256\n",
      "200/200 [==============================] - 0s 461us/step - loss: 0.1890 - accuracy: 0.9230\n",
      "Epoch 220/256\n",
      "200/200 [==============================] - 0s 459us/step - loss: 0.1840 - accuracy: 0.9228\n",
      "Epoch 221/256\n",
      "200/200 [==============================] - 0s 460us/step - loss: 0.1810 - accuracy: 0.9241\n",
      "Epoch 222/256\n",
      "200/200 [==============================] - 0s 456us/step - loss: 0.1803 - accuracy: 0.9220\n",
      "Epoch 223/256\n",
      "200/200 [==============================] - 0s 455us/step - loss: 0.1810 - accuracy: 0.9233\n",
      "Epoch 224/256\n",
      "200/200 [==============================] - 0s 461us/step - loss: 0.1770 - accuracy: 0.9269\n",
      "Epoch 225/256\n",
      "200/200 [==============================] - 0s 456us/step - loss: 0.1865 - accuracy: 0.9211\n",
      "Epoch 226/256\n",
      "200/200 [==============================] - 0s 457us/step - loss: 0.1822 - accuracy: 0.9234\n",
      "Epoch 227/256\n",
      "200/200 [==============================] - 0s 454us/step - loss: 0.1750 - accuracy: 0.9270\n",
      "Epoch 228/256\n",
      "200/200 [==============================] - 0s 453us/step - loss: 0.1774 - accuracy: 0.9266\n",
      "Epoch 229/256\n",
      "200/200 [==============================] - 0s 456us/step - loss: 0.1844 - accuracy: 0.9222\n",
      "Epoch 230/256\n",
      "200/200 [==============================] - 0s 462us/step - loss: 0.1780 - accuracy: 0.9222\n",
      "Epoch 231/256\n",
      "200/200 [==============================] - 0s 462us/step - loss: 0.1778 - accuracy: 0.9278\n",
      "Epoch 232/256\n",
      "200/200 [==============================] - 0s 461us/step - loss: 0.1782 - accuracy: 0.9242\n",
      "Epoch 233/256\n",
      "200/200 [==============================] - 0s 459us/step - loss: 0.1740 - accuracy: 0.9270\n",
      "Epoch 234/256\n",
      "200/200 [==============================] - 0s 465us/step - loss: 0.1855 - accuracy: 0.9256\n",
      "Epoch 235/256\n",
      "200/200 [==============================] - 0s 459us/step - loss: 0.1770 - accuracy: 0.9230\n",
      "Epoch 236/256\n",
      "200/200 [==============================] - 0s 462us/step - loss: 0.1773 - accuracy: 0.9272\n",
      "Epoch 237/256\n",
      "200/200 [==============================] - 0s 465us/step - loss: 0.1752 - accuracy: 0.9245\n",
      "Epoch 238/256\n",
      "200/200 [==============================] - 0s 455us/step - loss: 0.1763 - accuracy: 0.9253\n",
      "Epoch 239/256\n",
      "200/200 [==============================] - 0s 451us/step - loss: 0.1741 - accuracy: 0.9266\n",
      "Epoch 240/256\n",
      "200/200 [==============================] - 0s 452us/step - loss: 0.1758 - accuracy: 0.9281\n",
      "Epoch 241/256\n",
      "200/200 [==============================] - 0s 454us/step - loss: 0.1766 - accuracy: 0.9270\n",
      "Epoch 242/256\n",
      "200/200 [==============================] - 0s 455us/step - loss: 0.1746 - accuracy: 0.9275\n",
      "Epoch 243/256\n",
      "200/200 [==============================] - 0s 450us/step - loss: 0.1764 - accuracy: 0.9227\n",
      "Epoch 244/256\n",
      "200/200 [==============================] - 0s 455us/step - loss: 0.1701 - accuracy: 0.9280\n",
      "Epoch 245/256\n",
      "200/200 [==============================] - 0s 462us/step - loss: 0.1760 - accuracy: 0.9273\n",
      "Epoch 246/256\n",
      "200/200 [==============================] - 0s 453us/step - loss: 0.1737 - accuracy: 0.9255\n",
      "Epoch 247/256\n",
      "200/200 [==============================] - 0s 461us/step - loss: 0.1703 - accuracy: 0.9308\n",
      "Epoch 248/256\n",
      "200/200 [==============================] - 0s 460us/step - loss: 0.1721 - accuracy: 0.9277\n",
      "Epoch 249/256\n",
      "200/200 [==============================] - 0s 462us/step - loss: 0.1722 - accuracy: 0.9273\n",
      "Epoch 250/256\n",
      "200/200 [==============================] - 0s 459us/step - loss: 0.1688 - accuracy: 0.9292\n",
      "Epoch 251/256\n",
      "200/200 [==============================] - 0s 459us/step - loss: 0.1729 - accuracy: 0.9267\n",
      "Epoch 252/256\n",
      "200/200 [==============================] - 0s 461us/step - loss: 0.1754 - accuracy: 0.9250\n",
      "Epoch 253/256\n",
      "200/200 [==============================] - 0s 462us/step - loss: 0.1702 - accuracy: 0.9280\n",
      "Epoch 254/256\n",
      "200/200 [==============================] - 0s 461us/step - loss: 0.1707 - accuracy: 0.9278\n",
      "Epoch 255/256\n",
      "200/200 [==============================] - 0s 465us/step - loss: 0.1732 - accuracy: 0.9311\n",
      "Epoch 256/256\n",
      "200/200 [==============================] - 0s 460us/step - loss: 0.1722 - accuracy: 0.9300\n"
     ]
    },
    {
     "data": {
      "text/plain": [
       "<keras.callbacks.History at 0x17619be90>"
      ]
     },
     "execution_count": 16,
     "metadata": {},
     "output_type": "execute_result"
    }
   ],
   "source": [
    "model.fit(x=X_train, y=y_train, epochs=256, verbose=1)"
   ]
  },
  {
   "cell_type": "markdown",
   "id": "bfa754c7-9ca4-4153-b543-efdc7d96c8ef",
   "metadata": {},
   "source": [
    "## Testing"
   ]
  },
  {
   "cell_type": "code",
   "execution_count": 17,
   "id": "9d19af52-2736-40b5-bfad-9d7f8d68825d",
   "metadata": {},
   "outputs": [
    {
     "name": "stdout",
     "output_type": "stream",
     "text": [
      "50/50 [==============================] - 0s 448us/step - loss: 1.6678 - accuracy: 0.7856\n"
     ]
    },
    {
     "data": {
      "text/plain": [
       "0.7856249809265137"
      ]
     },
     "execution_count": 17,
     "metadata": {},
     "output_type": "execute_result"
    }
   ],
   "source": [
    "test_evaluation = model.evaluate(X_test, y_test, verbose=1)\n",
    "test_evaluation[1]"
   ]
  },
  {
   "cell_type": "code",
   "execution_count": 18,
   "id": "912cc877-5d3d-4537-8468-c0b29053ca65",
   "metadata": {},
   "outputs": [
    {
     "name": "stdout",
     "output_type": "stream",
     "text": [
      "50/50 [==============================] - 0s 378us/step\n"
     ]
    },
    {
     "data": {
      "text/plain": [
       "0.785625"
      ]
     },
     "execution_count": 18,
     "metadata": {},
     "output_type": "execute_result"
    }
   ],
   "source": [
    "from sklearn.metrics import accuracy_score\n",
    "\n",
    "model_accuracy = accuracy_score(y_test, model.predict(X_test).round())\n",
    "model_accuracy"
   ]
  },
  {
   "cell_type": "markdown",
   "id": "490027d4-9784-469d-a222-1c4d677119d5",
   "metadata": {},
   "source": [
    "# IMPROVING ACCURACY"
   ]
  },
  {
   "cell_type": "markdown",
   "id": "ea616c49-f385-49b4-84ef-2eaff3fba7d9",
   "metadata": {},
   "source": [
    "## BETTER_MODEL"
   ]
  },
  {
   "cell_type": "code",
   "execution_count": 24,
   "id": "ac5f2761-b3a3-4627-94d3-c3fcf117188f",
   "metadata": {},
   "outputs": [],
   "source": [
    "from tensorflow.keras.regularizers import l2"
   ]
  },
  {
   "cell_type": "code",
   "execution_count": 25,
   "id": "6fefa5d4-f31d-461c-9664-8905a7235aee",
   "metadata": {},
   "outputs": [],
   "source": [
    "X_reshaped = X.reshape(X.shape[0], X.shape[1], 1)\n",
    "\n",
    "model_2 = Sequential([\n",
    "    Conv1D(32, 3, activation='relu', input_shape=(X_reshaped.shape[1], X_reshaped.shape[2]),\n",
    "          kernel_regularizer=l2(0.01)),\n",
    "    \n",
    "    MaxPooling1D(2),\n",
    "    \n",
    "    Conv1D(64, 3, activation='relu',\n",
    "          kernel_regularizer=l2(0.01)),\n",
    "    \n",
    "    MaxPooling1D(2),\n",
    "    Flatten(),\n",
    "    \n",
    "    Dense(64, activation='relu', kernel_regularizer=l2(0.01), bias_regularizer=l2(0.01)),\n",
    "    Dropout(0.5),\n",
    "    Dense(1, activation='sigmoid')\n",
    "])"
   ]
  },
  {
   "cell_type": "code",
   "execution_count": 26,
   "id": "f665d54c-45b0-4543-bed6-a503a08396e6",
   "metadata": {},
   "outputs": [
    {
     "name": "stdout",
     "output_type": "stream",
     "text": [
      "Model: \"sequential_1\"\n",
      "_________________________________________________________________\n",
      " Layer (type)                Output Shape              Param #   \n",
      "=================================================================\n",
      " conv1d (Conv1D)             (None, 48, 32)            128       \n",
      "                                                                 \n",
      " max_pooling1d (MaxPooling1D  (None, 24, 32)           0         \n",
      " )                                                               \n",
      "                                                                 \n",
      " conv1d_1 (Conv1D)           (None, 22, 64)            6208      \n",
      "                                                                 \n",
      " max_pooling1d_1 (MaxPooling  (None, 11, 64)           0         \n",
      " 1D)                                                             \n",
      "                                                                 \n",
      " flatten (Flatten)           (None, 704)               0         \n",
      "                                                                 \n",
      " dense_3 (Dense)             (None, 64)                45120     \n",
      "                                                                 \n",
      " dropout (Dropout)           (None, 64)                0         \n",
      "                                                                 \n",
      " dense_4 (Dense)             (None, 1)                 65        \n",
      "                                                                 \n",
      "=================================================================\n",
      "Total params: 51,521\n",
      "Trainable params: 51,521\n",
      "Non-trainable params: 0\n",
      "_________________________________________________________________\n"
     ]
    }
   ],
   "source": [
    "model_2.compile(loss='binary_crossentropy', optimizer='adam', metrics=['accuracy'])\n",
    "model_2.summary()"
   ]
  },
  {
   "cell_type": "markdown",
   "id": "bfdad603-407d-41ae-85e3-151c6eead479",
   "metadata": {},
   "source": [
    "## Train"
   ]
  },
  {
   "cell_type": "code",
   "execution_count": 27,
   "id": "3991d0d0-3b43-4d68-98bd-d308c1aaa76a",
   "metadata": {},
   "outputs": [],
   "source": [
    "%%capture --no-stdout\n",
    "import tensorflow_addons as tfa"
   ]
  },
  {
   "cell_type": "code",
   "execution_count": 54,
   "id": "98a0ab1c-3f69-4d01-93b9-0bd7a2e5fef3",
   "metadata": {
    "scrolled": true
   },
   "outputs": [
    {
     "data": {
      "application/vnd.jupyter.widget-view+json": {
       "model_id": "cd74029032454b99bee4c5ec40b87467",
       "version_major": 2,
       "version_minor": 0
      },
      "text/plain": [
       "Training:   0%|                                        0/124 ETA: ?s,  ?epochs/s"
      ]
     },
     "metadata": {},
     "output_type": "display_data"
    },
    {
     "name": "stdout",
     "output_type": "stream",
     "text": [
      "Epoch 1/124\n"
     ]
    },
    {
     "data": {
      "application/vnd.jupyter.widget-view+json": {
       "model_id": "ce0f394b1cee4049b5db5e17d736b084",
       "version_major": 2,
       "version_minor": 0
      },
      "text/plain": [
       "0/100                                                                 ETA: ?s - "
      ]
     },
     "metadata": {},
     "output_type": "display_data"
    },
    {
     "name": "stdout",
     "output_type": "stream",
     "text": [
      "Epoch 2/124\n"
     ]
    },
    {
     "data": {
      "application/vnd.jupyter.widget-view+json": {
       "model_id": "e26d3d798ba04487a6dda7af48e326a8",
       "version_major": 2,
       "version_minor": 0
      },
      "text/plain": [
       "0/100                                                                 ETA: ?s - "
      ]
     },
     "metadata": {},
     "output_type": "display_data"
    },
    {
     "name": "stdout",
     "output_type": "stream",
     "text": [
      "Epoch 3/124\n"
     ]
    },
    {
     "data": {
      "application/vnd.jupyter.widget-view+json": {
       "model_id": "71e853a83bd6444e9992a585c089eb29",
       "version_major": 2,
       "version_minor": 0
      },
      "text/plain": [
       "0/100                                                                 ETA: ?s - "
      ]
     },
     "metadata": {},
     "output_type": "display_data"
    },
    {
     "name": "stdout",
     "output_type": "stream",
     "text": [
      "Epoch 4/124\n"
     ]
    },
    {
     "data": {
      "application/vnd.jupyter.widget-view+json": {
       "model_id": "91c663c93d6b4b86b3ea3b7def9b36c3",
       "version_major": 2,
       "version_minor": 0
      },
      "text/plain": [
       "0/100                                                                 ETA: ?s - "
      ]
     },
     "metadata": {},
     "output_type": "display_data"
    },
    {
     "name": "stdout",
     "output_type": "stream",
     "text": [
      "Epoch 5/124\n"
     ]
    },
    {
     "data": {
      "application/vnd.jupyter.widget-view+json": {
       "model_id": "a2e86c8f85d84bc8842f4ae516fcac5d",
       "version_major": 2,
       "version_minor": 0
      },
      "text/plain": [
       "0/100                                                                 ETA: ?s - "
      ]
     },
     "metadata": {},
     "output_type": "display_data"
    },
    {
     "name": "stdout",
     "output_type": "stream",
     "text": [
      "Epoch 6/124\n"
     ]
    },
    {
     "data": {
      "application/vnd.jupyter.widget-view+json": {
       "model_id": "e769045defbd47f0b80817748a8d3f34",
       "version_major": 2,
       "version_minor": 0
      },
      "text/plain": [
       "0/100                                                                 ETA: ?s - "
      ]
     },
     "metadata": {},
     "output_type": "display_data"
    },
    {
     "name": "stdout",
     "output_type": "stream",
     "text": [
      "Epoch 7/124\n"
     ]
    },
    {
     "data": {
      "application/vnd.jupyter.widget-view+json": {
       "model_id": "f0b9dcdfc80248a8bb57d0afb1956f21",
       "version_major": 2,
       "version_minor": 0
      },
      "text/plain": [
       "0/100                                                                 ETA: ?s - "
      ]
     },
     "metadata": {},
     "output_type": "display_data"
    },
    {
     "name": "stdout",
     "output_type": "stream",
     "text": [
      "Epoch 8/124\n"
     ]
    },
    {
     "data": {
      "application/vnd.jupyter.widget-view+json": {
       "model_id": "62498aab0b1e4dc8b453013b0402a9a8",
       "version_major": 2,
       "version_minor": 0
      },
      "text/plain": [
       "0/100                                                                 ETA: ?s - "
      ]
     },
     "metadata": {},
     "output_type": "display_data"
    },
    {
     "name": "stdout",
     "output_type": "stream",
     "text": [
      "Epoch 9/124\n"
     ]
    },
    {
     "data": {
      "application/vnd.jupyter.widget-view+json": {
       "model_id": "e8858d769e764c64a0f061e070d208b9",
       "version_major": 2,
       "version_minor": 0
      },
      "text/plain": [
       "0/100                                                                 ETA: ?s - "
      ]
     },
     "metadata": {},
     "output_type": "display_data"
    },
    {
     "name": "stdout",
     "output_type": "stream",
     "text": [
      "Epoch 10/124\n"
     ]
    },
    {
     "data": {
      "application/vnd.jupyter.widget-view+json": {
       "model_id": "fa731182b6124b4991a6e2e7476cf0a6",
       "version_major": 2,
       "version_minor": 0
      },
      "text/plain": [
       "0/100                                                                 ETA: ?s - "
      ]
     },
     "metadata": {},
     "output_type": "display_data"
    },
    {
     "name": "stdout",
     "output_type": "stream",
     "text": [
      "Epoch 11/124\n"
     ]
    },
    {
     "data": {
      "application/vnd.jupyter.widget-view+json": {
       "model_id": "abcc3dc0ef594ea1beb0ffff60a10fe8",
       "version_major": 2,
       "version_minor": 0
      },
      "text/plain": [
       "0/100                                                                 ETA: ?s - "
      ]
     },
     "metadata": {},
     "output_type": "display_data"
    },
    {
     "name": "stdout",
     "output_type": "stream",
     "text": [
      "Epoch 12/124\n"
     ]
    },
    {
     "data": {
      "application/vnd.jupyter.widget-view+json": {
       "model_id": "df1fa282c2c34158bede0c789772edd4",
       "version_major": 2,
       "version_minor": 0
      },
      "text/plain": [
       "0/100                                                                 ETA: ?s - "
      ]
     },
     "metadata": {},
     "output_type": "display_data"
    },
    {
     "name": "stdout",
     "output_type": "stream",
     "text": [
      "Epoch 13/124\n"
     ]
    },
    {
     "data": {
      "application/vnd.jupyter.widget-view+json": {
       "model_id": "f277201e25d94411a47e6194947e8d22",
       "version_major": 2,
       "version_minor": 0
      },
      "text/plain": [
       "0/100                                                                 ETA: ?s - "
      ]
     },
     "metadata": {},
     "output_type": "display_data"
    },
    {
     "name": "stdout",
     "output_type": "stream",
     "text": [
      "Epoch 14/124\n"
     ]
    },
    {
     "data": {
      "application/vnd.jupyter.widget-view+json": {
       "model_id": "74a81513751b4415b4be67741e351fb4",
       "version_major": 2,
       "version_minor": 0
      },
      "text/plain": [
       "0/100                                                                 ETA: ?s - "
      ]
     },
     "metadata": {},
     "output_type": "display_data"
    },
    {
     "name": "stdout",
     "output_type": "stream",
     "text": [
      "Epoch 15/124\n"
     ]
    },
    {
     "data": {
      "application/vnd.jupyter.widget-view+json": {
       "model_id": "1aa5b302f05440c4af60c0adb54f2ffe",
       "version_major": 2,
       "version_minor": 0
      },
      "text/plain": [
       "0/100                                                                 ETA: ?s - "
      ]
     },
     "metadata": {},
     "output_type": "display_data"
    },
    {
     "name": "stdout",
     "output_type": "stream",
     "text": [
      "Epoch 16/124\n"
     ]
    },
    {
     "data": {
      "application/vnd.jupyter.widget-view+json": {
       "model_id": "9b065c6b83aa4319bc559157830e539c",
       "version_major": 2,
       "version_minor": 0
      },
      "text/plain": [
       "0/100                                                                 ETA: ?s - "
      ]
     },
     "metadata": {},
     "output_type": "display_data"
    },
    {
     "name": "stdout",
     "output_type": "stream",
     "text": [
      "Epoch 17/124\n"
     ]
    },
    {
     "data": {
      "application/vnd.jupyter.widget-view+json": {
       "model_id": "359a6186391c4b879e19fb4c9fd5f90f",
       "version_major": 2,
       "version_minor": 0
      },
      "text/plain": [
       "0/100                                                                 ETA: ?s - "
      ]
     },
     "metadata": {},
     "output_type": "display_data"
    },
    {
     "name": "stdout",
     "output_type": "stream",
     "text": [
      "Epoch 18/124\n"
     ]
    },
    {
     "data": {
      "application/vnd.jupyter.widget-view+json": {
       "model_id": "f197114838b74dcbac028c17fd307f1a",
       "version_major": 2,
       "version_minor": 0
      },
      "text/plain": [
       "0/100                                                                 ETA: ?s - "
      ]
     },
     "metadata": {},
     "output_type": "display_data"
    },
    {
     "name": "stdout",
     "output_type": "stream",
     "text": [
      "Epoch 19/124\n"
     ]
    },
    {
     "data": {
      "application/vnd.jupyter.widget-view+json": {
       "model_id": "fa5195f213d14f979707c256e31f1224",
       "version_major": 2,
       "version_minor": 0
      },
      "text/plain": [
       "0/100                                                                 ETA: ?s - "
      ]
     },
     "metadata": {},
     "output_type": "display_data"
    },
    {
     "name": "stdout",
     "output_type": "stream",
     "text": [
      "Epoch 20/124\n"
     ]
    },
    {
     "data": {
      "application/vnd.jupyter.widget-view+json": {
       "model_id": "211bec1c530e407da69306d92e3cc995",
       "version_major": 2,
       "version_minor": 0
      },
      "text/plain": [
       "0/100                                                                 ETA: ?s - "
      ]
     },
     "metadata": {},
     "output_type": "display_data"
    },
    {
     "name": "stdout",
     "output_type": "stream",
     "text": [
      "Epoch 21/124\n"
     ]
    },
    {
     "data": {
      "application/vnd.jupyter.widget-view+json": {
       "model_id": "d09ed76222294989bdf8cf6f0cf701ff",
       "version_major": 2,
       "version_minor": 0
      },
      "text/plain": [
       "0/100                                                                 ETA: ?s - "
      ]
     },
     "metadata": {},
     "output_type": "display_data"
    },
    {
     "name": "stdout",
     "output_type": "stream",
     "text": [
      "Epoch 22/124\n"
     ]
    },
    {
     "data": {
      "application/vnd.jupyter.widget-view+json": {
       "model_id": "d5f96df1d2024774a8777f0c301acd7c",
       "version_major": 2,
       "version_minor": 0
      },
      "text/plain": [
       "0/100                                                                 ETA: ?s - "
      ]
     },
     "metadata": {},
     "output_type": "display_data"
    },
    {
     "name": "stdout",
     "output_type": "stream",
     "text": [
      "Epoch 23/124\n"
     ]
    },
    {
     "data": {
      "application/vnd.jupyter.widget-view+json": {
       "model_id": "78b99089d4654f31bb901f6914f4c0ba",
       "version_major": 2,
       "version_minor": 0
      },
      "text/plain": [
       "0/100                                                                 ETA: ?s - "
      ]
     },
     "metadata": {},
     "output_type": "display_data"
    },
    {
     "name": "stdout",
     "output_type": "stream",
     "text": [
      "Epoch 24/124\n"
     ]
    },
    {
     "data": {
      "application/vnd.jupyter.widget-view+json": {
       "model_id": "44a02d90160544f29475355ce235606f",
       "version_major": 2,
       "version_minor": 0
      },
      "text/plain": [
       "0/100                                                                 ETA: ?s - "
      ]
     },
     "metadata": {},
     "output_type": "display_data"
    },
    {
     "name": "stdout",
     "output_type": "stream",
     "text": [
      "Epoch 25/124\n"
     ]
    },
    {
     "data": {
      "application/vnd.jupyter.widget-view+json": {
       "model_id": "33a9edd7ecfd40f29e0ca9bba6a5b562",
       "version_major": 2,
       "version_minor": 0
      },
      "text/plain": [
       "0/100                                                                 ETA: ?s - "
      ]
     },
     "metadata": {},
     "output_type": "display_data"
    },
    {
     "name": "stdout",
     "output_type": "stream",
     "text": [
      "Epoch 26/124\n"
     ]
    },
    {
     "data": {
      "application/vnd.jupyter.widget-view+json": {
       "model_id": "40cc18840b8b472a88de654bf5048f28",
       "version_major": 2,
       "version_minor": 0
      },
      "text/plain": [
       "0/100                                                                 ETA: ?s - "
      ]
     },
     "metadata": {},
     "output_type": "display_data"
    },
    {
     "name": "stdout",
     "output_type": "stream",
     "text": [
      "Epoch 27/124\n"
     ]
    },
    {
     "data": {
      "application/vnd.jupyter.widget-view+json": {
       "model_id": "05290cf65f85469eb3e706d3e2831432",
       "version_major": 2,
       "version_minor": 0
      },
      "text/plain": [
       "0/100                                                                 ETA: ?s - "
      ]
     },
     "metadata": {},
     "output_type": "display_data"
    },
    {
     "name": "stdout",
     "output_type": "stream",
     "text": [
      "Epoch 28/124\n"
     ]
    },
    {
     "data": {
      "application/vnd.jupyter.widget-view+json": {
       "model_id": "aebea35a11254f6eb6f398e39945566e",
       "version_major": 2,
       "version_minor": 0
      },
      "text/plain": [
       "0/100                                                                 ETA: ?s - "
      ]
     },
     "metadata": {},
     "output_type": "display_data"
    },
    {
     "name": "stdout",
     "output_type": "stream",
     "text": [
      "Epoch 29/124\n"
     ]
    },
    {
     "data": {
      "application/vnd.jupyter.widget-view+json": {
       "model_id": "18c6698f72344cd68f5b5bd75aaacd62",
       "version_major": 2,
       "version_minor": 0
      },
      "text/plain": [
       "0/100                                                                 ETA: ?s - "
      ]
     },
     "metadata": {},
     "output_type": "display_data"
    },
    {
     "name": "stdout",
     "output_type": "stream",
     "text": [
      "Epoch 30/124\n"
     ]
    },
    {
     "data": {
      "application/vnd.jupyter.widget-view+json": {
       "model_id": "360730a844ab4964bfee227bc1bb4e37",
       "version_major": 2,
       "version_minor": 0
      },
      "text/plain": [
       "0/100                                                                 ETA: ?s - "
      ]
     },
     "metadata": {},
     "output_type": "display_data"
    },
    {
     "name": "stdout",
     "output_type": "stream",
     "text": [
      "Epoch 31/124\n"
     ]
    },
    {
     "data": {
      "application/vnd.jupyter.widget-view+json": {
       "model_id": "fe27d0983b944aa6ae013b32ee12afd1",
       "version_major": 2,
       "version_minor": 0
      },
      "text/plain": [
       "0/100                                                                 ETA: ?s - "
      ]
     },
     "metadata": {},
     "output_type": "display_data"
    },
    {
     "name": "stdout",
     "output_type": "stream",
     "text": [
      "Epoch 32/124\n"
     ]
    },
    {
     "data": {
      "application/vnd.jupyter.widget-view+json": {
       "model_id": "0dd3b9e015e54777be91fd508de91117",
       "version_major": 2,
       "version_minor": 0
      },
      "text/plain": [
       "0/100                                                                 ETA: ?s - "
      ]
     },
     "metadata": {},
     "output_type": "display_data"
    },
    {
     "name": "stdout",
     "output_type": "stream",
     "text": [
      "Epoch 33/124\n"
     ]
    },
    {
     "data": {
      "application/vnd.jupyter.widget-view+json": {
       "model_id": "1e86ff8086bf4eb7a18b7b6a1994f1d9",
       "version_major": 2,
       "version_minor": 0
      },
      "text/plain": [
       "0/100                                                                 ETA: ?s - "
      ]
     },
     "metadata": {},
     "output_type": "display_data"
    },
    {
     "name": "stdout",
     "output_type": "stream",
     "text": [
      "Epoch 34/124\n"
     ]
    },
    {
     "data": {
      "application/vnd.jupyter.widget-view+json": {
       "model_id": "b9b661f16f9a4685bddf59cfaf878ef1",
       "version_major": 2,
       "version_minor": 0
      },
      "text/plain": [
       "0/100                                                                 ETA: ?s - "
      ]
     },
     "metadata": {},
     "output_type": "display_data"
    },
    {
     "name": "stdout",
     "output_type": "stream",
     "text": [
      "Epoch 35/124\n"
     ]
    },
    {
     "data": {
      "application/vnd.jupyter.widget-view+json": {
       "model_id": "31a6d9c0d9d84b9095a60d577a429fbf",
       "version_major": 2,
       "version_minor": 0
      },
      "text/plain": [
       "0/100                                                                 ETA: ?s - "
      ]
     },
     "metadata": {},
     "output_type": "display_data"
    },
    {
     "name": "stdout",
     "output_type": "stream",
     "text": [
      "Epoch 36/124\n"
     ]
    },
    {
     "data": {
      "application/vnd.jupyter.widget-view+json": {
       "model_id": "a937f83bafa54464bb191c3ea59eb880",
       "version_major": 2,
       "version_minor": 0
      },
      "text/plain": [
       "0/100                                                                 ETA: ?s - "
      ]
     },
     "metadata": {},
     "output_type": "display_data"
    },
    {
     "name": "stdout",
     "output_type": "stream",
     "text": [
      "Epoch 37/124\n"
     ]
    },
    {
     "data": {
      "application/vnd.jupyter.widget-view+json": {
       "model_id": "f23d48a69e3742d8a6bc6a07c2a264ca",
       "version_major": 2,
       "version_minor": 0
      },
      "text/plain": [
       "0/100                                                                 ETA: ?s - "
      ]
     },
     "metadata": {},
     "output_type": "display_data"
    },
    {
     "name": "stdout",
     "output_type": "stream",
     "text": [
      "Epoch 38/124\n"
     ]
    },
    {
     "data": {
      "application/vnd.jupyter.widget-view+json": {
       "model_id": "d9ec5f083a94471b9b303b850aa588ae",
       "version_major": 2,
       "version_minor": 0
      },
      "text/plain": [
       "0/100                                                                 ETA: ?s - "
      ]
     },
     "metadata": {},
     "output_type": "display_data"
    },
    {
     "name": "stdout",
     "output_type": "stream",
     "text": [
      "Epoch 39/124\n"
     ]
    },
    {
     "data": {
      "application/vnd.jupyter.widget-view+json": {
       "model_id": "4bb202d0f8964812b9cb197528d06174",
       "version_major": 2,
       "version_minor": 0
      },
      "text/plain": [
       "0/100                                                                 ETA: ?s - "
      ]
     },
     "metadata": {},
     "output_type": "display_data"
    },
    {
     "name": "stdout",
     "output_type": "stream",
     "text": [
      "Epoch 40/124\n"
     ]
    },
    {
     "data": {
      "application/vnd.jupyter.widget-view+json": {
       "model_id": "0d71a9a9a80440b78e27188f57bd069d",
       "version_major": 2,
       "version_minor": 0
      },
      "text/plain": [
       "0/100                                                                 ETA: ?s - "
      ]
     },
     "metadata": {},
     "output_type": "display_data"
    },
    {
     "name": "stdout",
     "output_type": "stream",
     "text": [
      "Epoch 41/124\n"
     ]
    },
    {
     "data": {
      "application/vnd.jupyter.widget-view+json": {
       "model_id": "406d001e8cf64d2dbf08ecc5d693593d",
       "version_major": 2,
       "version_minor": 0
      },
      "text/plain": [
       "0/100                                                                 ETA: ?s - "
      ]
     },
     "metadata": {},
     "output_type": "display_data"
    },
    {
     "name": "stdout",
     "output_type": "stream",
     "text": [
      "Epoch 42/124\n"
     ]
    },
    {
     "data": {
      "application/vnd.jupyter.widget-view+json": {
       "model_id": "c1092c9d2f914c468ac304d0f0d26579",
       "version_major": 2,
       "version_minor": 0
      },
      "text/plain": [
       "0/100                                                                 ETA: ?s - "
      ]
     },
     "metadata": {},
     "output_type": "display_data"
    },
    {
     "name": "stdout",
     "output_type": "stream",
     "text": [
      "Epoch 43/124\n"
     ]
    },
    {
     "data": {
      "application/vnd.jupyter.widget-view+json": {
       "model_id": "b19d87883b274c71b3dc039dbb594b81",
       "version_major": 2,
       "version_minor": 0
      },
      "text/plain": [
       "0/100                                                                 ETA: ?s - "
      ]
     },
     "metadata": {},
     "output_type": "display_data"
    },
    {
     "name": "stdout",
     "output_type": "stream",
     "text": [
      "Epoch 44/124\n"
     ]
    },
    {
     "data": {
      "application/vnd.jupyter.widget-view+json": {
       "model_id": "c876ad2da06047b7a3e3f385c0538d53",
       "version_major": 2,
       "version_minor": 0
      },
      "text/plain": [
       "0/100                                                                 ETA: ?s - "
      ]
     },
     "metadata": {},
     "output_type": "display_data"
    },
    {
     "name": "stdout",
     "output_type": "stream",
     "text": [
      "Epoch 45/124\n"
     ]
    },
    {
     "data": {
      "application/vnd.jupyter.widget-view+json": {
       "model_id": "d21f346b708c4fb69048dac6adb22a5d",
       "version_major": 2,
       "version_minor": 0
      },
      "text/plain": [
       "0/100                                                                 ETA: ?s - "
      ]
     },
     "metadata": {},
     "output_type": "display_data"
    },
    {
     "name": "stdout",
     "output_type": "stream",
     "text": [
      "Epoch 46/124\n"
     ]
    },
    {
     "data": {
      "application/vnd.jupyter.widget-view+json": {
       "model_id": "04b863d35ca44620a510b3ad9ce08e63",
       "version_major": 2,
       "version_minor": 0
      },
      "text/plain": [
       "0/100                                                                 ETA: ?s - "
      ]
     },
     "metadata": {},
     "output_type": "display_data"
    },
    {
     "name": "stdout",
     "output_type": "stream",
     "text": [
      "Epoch 47/124\n"
     ]
    },
    {
     "data": {
      "application/vnd.jupyter.widget-view+json": {
       "model_id": "859f834d508442b1b4beba193fb0c952",
       "version_major": 2,
       "version_minor": 0
      },
      "text/plain": [
       "0/100                                                                 ETA: ?s - "
      ]
     },
     "metadata": {},
     "output_type": "display_data"
    },
    {
     "name": "stdout",
     "output_type": "stream",
     "text": [
      "Epoch 48/124\n"
     ]
    },
    {
     "data": {
      "application/vnd.jupyter.widget-view+json": {
       "model_id": "075a0db6a8cd4be2b6e14282782571a1",
       "version_major": 2,
       "version_minor": 0
      },
      "text/plain": [
       "0/100                                                                 ETA: ?s - "
      ]
     },
     "metadata": {},
     "output_type": "display_data"
    },
    {
     "name": "stdout",
     "output_type": "stream",
     "text": [
      "Epoch 49/124\n"
     ]
    },
    {
     "data": {
      "application/vnd.jupyter.widget-view+json": {
       "model_id": "26d5e8fa31b14821ac9dcfb814c2010e",
       "version_major": 2,
       "version_minor": 0
      },
      "text/plain": [
       "0/100                                                                 ETA: ?s - "
      ]
     },
     "metadata": {},
     "output_type": "display_data"
    },
    {
     "name": "stdout",
     "output_type": "stream",
     "text": [
      "Epoch 50/124\n"
     ]
    },
    {
     "data": {
      "application/vnd.jupyter.widget-view+json": {
       "model_id": "17161244cf0a4789a360dbaf9255593d",
       "version_major": 2,
       "version_minor": 0
      },
      "text/plain": [
       "0/100                                                                 ETA: ?s - "
      ]
     },
     "metadata": {},
     "output_type": "display_data"
    },
    {
     "name": "stdout",
     "output_type": "stream",
     "text": [
      "Epoch 51/124\n"
     ]
    },
    {
     "data": {
      "application/vnd.jupyter.widget-view+json": {
       "model_id": "84ba9869dd5e420e9546e5ca144aaaaf",
       "version_major": 2,
       "version_minor": 0
      },
      "text/plain": [
       "0/100                                                                 ETA: ?s - "
      ]
     },
     "metadata": {},
     "output_type": "display_data"
    },
    {
     "name": "stdout",
     "output_type": "stream",
     "text": [
      "Epoch 52/124\n"
     ]
    },
    {
     "data": {
      "application/vnd.jupyter.widget-view+json": {
       "model_id": "d3e693bc7f264e95adc6dde6e62215f9",
       "version_major": 2,
       "version_minor": 0
      },
      "text/plain": [
       "0/100                                                                 ETA: ?s - "
      ]
     },
     "metadata": {},
     "output_type": "display_data"
    },
    {
     "name": "stdout",
     "output_type": "stream",
     "text": [
      "Epoch 53/124\n"
     ]
    },
    {
     "data": {
      "application/vnd.jupyter.widget-view+json": {
       "model_id": "58d12a11fd0d49c283fc51a4b6d7fc36",
       "version_major": 2,
       "version_minor": 0
      },
      "text/plain": [
       "0/100                                                                 ETA: ?s - "
      ]
     },
     "metadata": {},
     "output_type": "display_data"
    },
    {
     "name": "stdout",
     "output_type": "stream",
     "text": [
      "Epoch 54/124\n"
     ]
    },
    {
     "data": {
      "application/vnd.jupyter.widget-view+json": {
       "model_id": "176ec847159f4cf499936c1a4d535f91",
       "version_major": 2,
       "version_minor": 0
      },
      "text/plain": [
       "0/100                                                                 ETA: ?s - "
      ]
     },
     "metadata": {},
     "output_type": "display_data"
    },
    {
     "name": "stdout",
     "output_type": "stream",
     "text": [
      "Epoch 55/124\n"
     ]
    },
    {
     "data": {
      "application/vnd.jupyter.widget-view+json": {
       "model_id": "994dd8a5ca67461a8a4b9216fdcabb32",
       "version_major": 2,
       "version_minor": 0
      },
      "text/plain": [
       "0/100                                                                 ETA: ?s - "
      ]
     },
     "metadata": {},
     "output_type": "display_data"
    },
    {
     "name": "stdout",
     "output_type": "stream",
     "text": [
      "Epoch 56/124\n"
     ]
    },
    {
     "data": {
      "application/vnd.jupyter.widget-view+json": {
       "model_id": "523f44a1a6de46ebbc819735f686f68d",
       "version_major": 2,
       "version_minor": 0
      },
      "text/plain": [
       "0/100                                                                 ETA: ?s - "
      ]
     },
     "metadata": {},
     "output_type": "display_data"
    },
    {
     "name": "stdout",
     "output_type": "stream",
     "text": [
      "Epoch 57/124\n"
     ]
    },
    {
     "data": {
      "application/vnd.jupyter.widget-view+json": {
       "model_id": "9173fc2c97834c68aeced4c052da4d3d",
       "version_major": 2,
       "version_minor": 0
      },
      "text/plain": [
       "0/100                                                                 ETA: ?s - "
      ]
     },
     "metadata": {},
     "output_type": "display_data"
    },
    {
     "name": "stdout",
     "output_type": "stream",
     "text": [
      "Epoch 58/124\n"
     ]
    },
    {
     "data": {
      "application/vnd.jupyter.widget-view+json": {
       "model_id": "5c8b1c09967e435dba2931332b39f447",
       "version_major": 2,
       "version_minor": 0
      },
      "text/plain": [
       "0/100                                                                 ETA: ?s - "
      ]
     },
     "metadata": {},
     "output_type": "display_data"
    },
    {
     "name": "stdout",
     "output_type": "stream",
     "text": [
      "Epoch 59/124\n"
     ]
    },
    {
     "data": {
      "application/vnd.jupyter.widget-view+json": {
       "model_id": "e730ac3f5ba846d4996e7f3b0e42fb07",
       "version_major": 2,
       "version_minor": 0
      },
      "text/plain": [
       "0/100                                                                 ETA: ?s - "
      ]
     },
     "metadata": {},
     "output_type": "display_data"
    },
    {
     "name": "stdout",
     "output_type": "stream",
     "text": [
      "Epoch 60/124\n"
     ]
    },
    {
     "data": {
      "application/vnd.jupyter.widget-view+json": {
       "model_id": "6621c2a91f4f48939cd1f66a8d5076ce",
       "version_major": 2,
       "version_minor": 0
      },
      "text/plain": [
       "0/100                                                                 ETA: ?s - "
      ]
     },
     "metadata": {},
     "output_type": "display_data"
    },
    {
     "name": "stdout",
     "output_type": "stream",
     "text": [
      "Epoch 61/124\n"
     ]
    },
    {
     "data": {
      "application/vnd.jupyter.widget-view+json": {
       "model_id": "5a74b40203b349d1ae2bb4441b77e6ce",
       "version_major": 2,
       "version_minor": 0
      },
      "text/plain": [
       "0/100                                                                 ETA: ?s - "
      ]
     },
     "metadata": {},
     "output_type": "display_data"
    },
    {
     "name": "stdout",
     "output_type": "stream",
     "text": [
      "Epoch 62/124\n"
     ]
    },
    {
     "data": {
      "application/vnd.jupyter.widget-view+json": {
       "model_id": "b9fec939b2224da9b1d6b170d94f6836",
       "version_major": 2,
       "version_minor": 0
      },
      "text/plain": [
       "0/100                                                                 ETA: ?s - "
      ]
     },
     "metadata": {},
     "output_type": "display_data"
    },
    {
     "name": "stdout",
     "output_type": "stream",
     "text": [
      "Epoch 63/124\n"
     ]
    },
    {
     "data": {
      "application/vnd.jupyter.widget-view+json": {
       "model_id": "484e0ad7df874ce082fcf697dd4423b7",
       "version_major": 2,
       "version_minor": 0
      },
      "text/plain": [
       "0/100                                                                 ETA: ?s - "
      ]
     },
     "metadata": {},
     "output_type": "display_data"
    },
    {
     "name": "stdout",
     "output_type": "stream",
     "text": [
      "Epoch 64/124\n"
     ]
    },
    {
     "data": {
      "application/vnd.jupyter.widget-view+json": {
       "model_id": "2f6fa08229b44ceaaf0e74a7a8259820",
       "version_major": 2,
       "version_minor": 0
      },
      "text/plain": [
       "0/100                                                                 ETA: ?s - "
      ]
     },
     "metadata": {},
     "output_type": "display_data"
    },
    {
     "name": "stdout",
     "output_type": "stream",
     "text": [
      "Epoch 65/124\n"
     ]
    },
    {
     "data": {
      "application/vnd.jupyter.widget-view+json": {
       "model_id": "8d774d04e28b444bb35e33eed2a8ce36",
       "version_major": 2,
       "version_minor": 0
      },
      "text/plain": [
       "0/100                                                                 ETA: ?s - "
      ]
     },
     "metadata": {},
     "output_type": "display_data"
    },
    {
     "name": "stdout",
     "output_type": "stream",
     "text": [
      "Epoch 66/124\n"
     ]
    },
    {
     "data": {
      "application/vnd.jupyter.widget-view+json": {
       "model_id": "e2925020cb114a58a415fb2323fef56a",
       "version_major": 2,
       "version_minor": 0
      },
      "text/plain": [
       "0/100                                                                 ETA: ?s - "
      ]
     },
     "metadata": {},
     "output_type": "display_data"
    },
    {
     "name": "stdout",
     "output_type": "stream",
     "text": [
      "Epoch 67/124\n"
     ]
    },
    {
     "data": {
      "application/vnd.jupyter.widget-view+json": {
       "model_id": "51a83c10b7fa43ee9cce0bda8072ac44",
       "version_major": 2,
       "version_minor": 0
      },
      "text/plain": [
       "0/100                                                                 ETA: ?s - "
      ]
     },
     "metadata": {},
     "output_type": "display_data"
    },
    {
     "name": "stdout",
     "output_type": "stream",
     "text": [
      "Epoch 68/124\n"
     ]
    },
    {
     "data": {
      "application/vnd.jupyter.widget-view+json": {
       "model_id": "2f88f41e7dad44838232f6ef4ed8b573",
       "version_major": 2,
       "version_minor": 0
      },
      "text/plain": [
       "0/100                                                                 ETA: ?s - "
      ]
     },
     "metadata": {},
     "output_type": "display_data"
    },
    {
     "name": "stdout",
     "output_type": "stream",
     "text": [
      "Epoch 69/124\n"
     ]
    },
    {
     "data": {
      "application/vnd.jupyter.widget-view+json": {
       "model_id": "de1daa29b0524011857128a3642daa95",
       "version_major": 2,
       "version_minor": 0
      },
      "text/plain": [
       "0/100                                                                 ETA: ?s - "
      ]
     },
     "metadata": {},
     "output_type": "display_data"
    },
    {
     "name": "stdout",
     "output_type": "stream",
     "text": [
      "Epoch 70/124\n"
     ]
    },
    {
     "data": {
      "application/vnd.jupyter.widget-view+json": {
       "model_id": "74cf72e4af424b8da9f215e64b8dca24",
       "version_major": 2,
       "version_minor": 0
      },
      "text/plain": [
       "0/100                                                                 ETA: ?s - "
      ]
     },
     "metadata": {},
     "output_type": "display_data"
    },
    {
     "name": "stdout",
     "output_type": "stream",
     "text": [
      "Epoch 71/124\n"
     ]
    },
    {
     "data": {
      "application/vnd.jupyter.widget-view+json": {
       "model_id": "dca8a1c1c17e4ef59f6b9789767316c6",
       "version_major": 2,
       "version_minor": 0
      },
      "text/plain": [
       "0/100                                                                 ETA: ?s - "
      ]
     },
     "metadata": {},
     "output_type": "display_data"
    },
    {
     "name": "stdout",
     "output_type": "stream",
     "text": [
      "Epoch 72/124\n"
     ]
    },
    {
     "data": {
      "application/vnd.jupyter.widget-view+json": {
       "model_id": "33f32ebe3d3b44c58f9b77497b26cc18",
       "version_major": 2,
       "version_minor": 0
      },
      "text/plain": [
       "0/100                                                                 ETA: ?s - "
      ]
     },
     "metadata": {},
     "output_type": "display_data"
    },
    {
     "name": "stdout",
     "output_type": "stream",
     "text": [
      "Epoch 73/124\n"
     ]
    },
    {
     "data": {
      "application/vnd.jupyter.widget-view+json": {
       "model_id": "6f21eb9703084255b10a5f22c2116616",
       "version_major": 2,
       "version_minor": 0
      },
      "text/plain": [
       "0/100                                                                 ETA: ?s - "
      ]
     },
     "metadata": {},
     "output_type": "display_data"
    },
    {
     "name": "stdout",
     "output_type": "stream",
     "text": [
      "Epoch 74/124\n"
     ]
    },
    {
     "data": {
      "application/vnd.jupyter.widget-view+json": {
       "model_id": "70e24c89b26449b29532532f86197c03",
       "version_major": 2,
       "version_minor": 0
      },
      "text/plain": [
       "0/100                                                                 ETA: ?s - "
      ]
     },
     "metadata": {},
     "output_type": "display_data"
    },
    {
     "name": "stdout",
     "output_type": "stream",
     "text": [
      "Epoch 75/124\n"
     ]
    },
    {
     "data": {
      "application/vnd.jupyter.widget-view+json": {
       "model_id": "5fcbf19a09b7425980caf16582edbcde",
       "version_major": 2,
       "version_minor": 0
      },
      "text/plain": [
       "0/100                                                                 ETA: ?s - "
      ]
     },
     "metadata": {},
     "output_type": "display_data"
    },
    {
     "name": "stdout",
     "output_type": "stream",
     "text": [
      "Epoch 76/124\n"
     ]
    },
    {
     "data": {
      "application/vnd.jupyter.widget-view+json": {
       "model_id": "0a24cded5ca247458a0474e93627a8ad",
       "version_major": 2,
       "version_minor": 0
      },
      "text/plain": [
       "0/100                                                                 ETA: ?s - "
      ]
     },
     "metadata": {},
     "output_type": "display_data"
    },
    {
     "name": "stdout",
     "output_type": "stream",
     "text": [
      "Epoch 77/124\n"
     ]
    },
    {
     "data": {
      "application/vnd.jupyter.widget-view+json": {
       "model_id": "a0c06938a36d4834a6425e241afaf4cc",
       "version_major": 2,
       "version_minor": 0
      },
      "text/plain": [
       "0/100                                                                 ETA: ?s - "
      ]
     },
     "metadata": {},
     "output_type": "display_data"
    },
    {
     "name": "stdout",
     "output_type": "stream",
     "text": [
      "Epoch 78/124\n"
     ]
    },
    {
     "data": {
      "application/vnd.jupyter.widget-view+json": {
       "model_id": "861006d6fcaf415eaea3444e41ae8cf0",
       "version_major": 2,
       "version_minor": 0
      },
      "text/plain": [
       "0/100                                                                 ETA: ?s - "
      ]
     },
     "metadata": {},
     "output_type": "display_data"
    },
    {
     "name": "stdout",
     "output_type": "stream",
     "text": [
      "Epoch 79/124\n"
     ]
    },
    {
     "data": {
      "application/vnd.jupyter.widget-view+json": {
       "model_id": "f42d99670345493da1b7a0b778cb8ea2",
       "version_major": 2,
       "version_minor": 0
      },
      "text/plain": [
       "0/100                                                                 ETA: ?s - "
      ]
     },
     "metadata": {},
     "output_type": "display_data"
    },
    {
     "name": "stdout",
     "output_type": "stream",
     "text": [
      "Epoch 80/124\n"
     ]
    },
    {
     "data": {
      "application/vnd.jupyter.widget-view+json": {
       "model_id": "181bb652d91741ac8374d60c6ffd3d5e",
       "version_major": 2,
       "version_minor": 0
      },
      "text/plain": [
       "0/100                                                                 ETA: ?s - "
      ]
     },
     "metadata": {},
     "output_type": "display_data"
    },
    {
     "name": "stdout",
     "output_type": "stream",
     "text": [
      "Epoch 81/124\n"
     ]
    },
    {
     "data": {
      "application/vnd.jupyter.widget-view+json": {
       "model_id": "b07112d9f8ef47299bd28ad005bd0c32",
       "version_major": 2,
       "version_minor": 0
      },
      "text/plain": [
       "0/100                                                                 ETA: ?s - "
      ]
     },
     "metadata": {},
     "output_type": "display_data"
    },
    {
     "name": "stdout",
     "output_type": "stream",
     "text": [
      "Epoch 82/124\n"
     ]
    },
    {
     "data": {
      "application/vnd.jupyter.widget-view+json": {
       "model_id": "5ed6e39301ab4e05975fafac10bbbc40",
       "version_major": 2,
       "version_minor": 0
      },
      "text/plain": [
       "0/100                                                                 ETA: ?s - "
      ]
     },
     "metadata": {},
     "output_type": "display_data"
    },
    {
     "name": "stdout",
     "output_type": "stream",
     "text": [
      "Epoch 83/124\n"
     ]
    },
    {
     "data": {
      "application/vnd.jupyter.widget-view+json": {
       "model_id": "3327a8c9b1cd44ca8e42a65ee6e5428f",
       "version_major": 2,
       "version_minor": 0
      },
      "text/plain": [
       "0/100                                                                 ETA: ?s - "
      ]
     },
     "metadata": {},
     "output_type": "display_data"
    },
    {
     "name": "stdout",
     "output_type": "stream",
     "text": [
      "Epoch 84/124\n"
     ]
    },
    {
     "data": {
      "application/vnd.jupyter.widget-view+json": {
       "model_id": "722edc3b706b46cfbf9b3ca9b9b4a1cf",
       "version_major": 2,
       "version_minor": 0
      },
      "text/plain": [
       "0/100                                                                 ETA: ?s - "
      ]
     },
     "metadata": {},
     "output_type": "display_data"
    },
    {
     "name": "stdout",
     "output_type": "stream",
     "text": [
      "Epoch 85/124\n"
     ]
    },
    {
     "data": {
      "application/vnd.jupyter.widget-view+json": {
       "model_id": "c2f492b00b7949c0b482457859182906",
       "version_major": 2,
       "version_minor": 0
      },
      "text/plain": [
       "0/100                                                                 ETA: ?s - "
      ]
     },
     "metadata": {},
     "output_type": "display_data"
    },
    {
     "name": "stdout",
     "output_type": "stream",
     "text": [
      "Epoch 86/124\n"
     ]
    },
    {
     "data": {
      "application/vnd.jupyter.widget-view+json": {
       "model_id": "c6a5409c40ed4516a04962f0ab384185",
       "version_major": 2,
       "version_minor": 0
      },
      "text/plain": [
       "0/100                                                                 ETA: ?s - "
      ]
     },
     "metadata": {},
     "output_type": "display_data"
    },
    {
     "name": "stdout",
     "output_type": "stream",
     "text": [
      "Epoch 87/124\n"
     ]
    },
    {
     "data": {
      "application/vnd.jupyter.widget-view+json": {
       "model_id": "965b2f45d679413e898d01d6724f9c80",
       "version_major": 2,
       "version_minor": 0
      },
      "text/plain": [
       "0/100                                                                 ETA: ?s - "
      ]
     },
     "metadata": {},
     "output_type": "display_data"
    },
    {
     "name": "stdout",
     "output_type": "stream",
     "text": [
      "Epoch 88/124\n"
     ]
    },
    {
     "data": {
      "application/vnd.jupyter.widget-view+json": {
       "model_id": "e40806e7d0ab449d8b929063184948cd",
       "version_major": 2,
       "version_minor": 0
      },
      "text/plain": [
       "0/100                                                                 ETA: ?s - "
      ]
     },
     "metadata": {},
     "output_type": "display_data"
    },
    {
     "name": "stdout",
     "output_type": "stream",
     "text": [
      "Epoch 89/124\n"
     ]
    },
    {
     "data": {
      "application/vnd.jupyter.widget-view+json": {
       "model_id": "07b18584f6624932a444f785782a041e",
       "version_major": 2,
       "version_minor": 0
      },
      "text/plain": [
       "0/100                                                                 ETA: ?s - "
      ]
     },
     "metadata": {},
     "output_type": "display_data"
    },
    {
     "name": "stdout",
     "output_type": "stream",
     "text": [
      "Epoch 90/124\n"
     ]
    },
    {
     "data": {
      "application/vnd.jupyter.widget-view+json": {
       "model_id": "b4f4c41a08244e9b9a5b5f2794a7935d",
       "version_major": 2,
       "version_minor": 0
      },
      "text/plain": [
       "0/100                                                                 ETA: ?s - "
      ]
     },
     "metadata": {},
     "output_type": "display_data"
    },
    {
     "name": "stdout",
     "output_type": "stream",
     "text": [
      "Epoch 91/124\n"
     ]
    },
    {
     "data": {
      "application/vnd.jupyter.widget-view+json": {
       "model_id": "7bd98c4774814daeaee6dfa8dc8e5787",
       "version_major": 2,
       "version_minor": 0
      },
      "text/plain": [
       "0/100                                                                 ETA: ?s - "
      ]
     },
     "metadata": {},
     "output_type": "display_data"
    },
    {
     "name": "stdout",
     "output_type": "stream",
     "text": [
      "Epoch 92/124\n"
     ]
    },
    {
     "data": {
      "application/vnd.jupyter.widget-view+json": {
       "model_id": "839386e78cb54a83883d48072a4361ec",
       "version_major": 2,
       "version_minor": 0
      },
      "text/plain": [
       "0/100                                                                 ETA: ?s - "
      ]
     },
     "metadata": {},
     "output_type": "display_data"
    },
    {
     "name": "stdout",
     "output_type": "stream",
     "text": [
      "Epoch 93/124\n"
     ]
    },
    {
     "data": {
      "application/vnd.jupyter.widget-view+json": {
       "model_id": "16ceb125b82242cdae9edec54a212dc5",
       "version_major": 2,
       "version_minor": 0
      },
      "text/plain": [
       "0/100                                                                 ETA: ?s - "
      ]
     },
     "metadata": {},
     "output_type": "display_data"
    },
    {
     "name": "stdout",
     "output_type": "stream",
     "text": [
      "Epoch 94/124\n"
     ]
    },
    {
     "data": {
      "application/vnd.jupyter.widget-view+json": {
       "model_id": "9c35aff3f8b94c47ba05eee8151c0ad1",
       "version_major": 2,
       "version_minor": 0
      },
      "text/plain": [
       "0/100                                                                 ETA: ?s - "
      ]
     },
     "metadata": {},
     "output_type": "display_data"
    },
    {
     "name": "stdout",
     "output_type": "stream",
     "text": [
      "Epoch 95/124\n"
     ]
    },
    {
     "data": {
      "application/vnd.jupyter.widget-view+json": {
       "model_id": "0133d35087874c8ab572ffe2099d5650",
       "version_major": 2,
       "version_minor": 0
      },
      "text/plain": [
       "0/100                                                                 ETA: ?s - "
      ]
     },
     "metadata": {},
     "output_type": "display_data"
    },
    {
     "name": "stdout",
     "output_type": "stream",
     "text": [
      "Epoch 96/124\n"
     ]
    },
    {
     "data": {
      "application/vnd.jupyter.widget-view+json": {
       "model_id": "6991ae617884477194ee6d34e08d5032",
       "version_major": 2,
       "version_minor": 0
      },
      "text/plain": [
       "0/100                                                                 ETA: ?s - "
      ]
     },
     "metadata": {},
     "output_type": "display_data"
    },
    {
     "name": "stdout",
     "output_type": "stream",
     "text": [
      "Epoch 97/124\n"
     ]
    },
    {
     "data": {
      "application/vnd.jupyter.widget-view+json": {
       "model_id": "96b9d4a0e15548feba05e557013c7c57",
       "version_major": 2,
       "version_minor": 0
      },
      "text/plain": [
       "0/100                                                                 ETA: ?s - "
      ]
     },
     "metadata": {},
     "output_type": "display_data"
    },
    {
     "name": "stdout",
     "output_type": "stream",
     "text": [
      "Epoch 98/124\n"
     ]
    },
    {
     "data": {
      "application/vnd.jupyter.widget-view+json": {
       "model_id": "db4bade1be3840d1929da68af3b43fb5",
       "version_major": 2,
       "version_minor": 0
      },
      "text/plain": [
       "0/100                                                                 ETA: ?s - "
      ]
     },
     "metadata": {},
     "output_type": "display_data"
    },
    {
     "name": "stdout",
     "output_type": "stream",
     "text": [
      "Epoch 99/124\n"
     ]
    },
    {
     "data": {
      "application/vnd.jupyter.widget-view+json": {
       "model_id": "75b531dd68454194bf5cbdefaa8000d0",
       "version_major": 2,
       "version_minor": 0
      },
      "text/plain": [
       "0/100                                                                 ETA: ?s - "
      ]
     },
     "metadata": {},
     "output_type": "display_data"
    },
    {
     "name": "stdout",
     "output_type": "stream",
     "text": [
      "Epoch 100/124\n"
     ]
    },
    {
     "data": {
      "application/vnd.jupyter.widget-view+json": {
       "model_id": "ddf8040b97c4413b8e97ae62016a6c2c",
       "version_major": 2,
       "version_minor": 0
      },
      "text/plain": [
       "0/100                                                                 ETA: ?s - "
      ]
     },
     "metadata": {},
     "output_type": "display_data"
    },
    {
     "name": "stdout",
     "output_type": "stream",
     "text": [
      "Epoch 101/124\n"
     ]
    },
    {
     "data": {
      "application/vnd.jupyter.widget-view+json": {
       "model_id": "f8d8e28bc0174edcb76e9b3b5234dfc2",
       "version_major": 2,
       "version_minor": 0
      },
      "text/plain": [
       "0/100                                                                 ETA: ?s - "
      ]
     },
     "metadata": {},
     "output_type": "display_data"
    },
    {
     "name": "stdout",
     "output_type": "stream",
     "text": [
      "Epoch 102/124\n"
     ]
    },
    {
     "data": {
      "application/vnd.jupyter.widget-view+json": {
       "model_id": "6a60bd62b04642008de35c64901d24d3",
       "version_major": 2,
       "version_minor": 0
      },
      "text/plain": [
       "0/100                                                                 ETA: ?s - "
      ]
     },
     "metadata": {},
     "output_type": "display_data"
    },
    {
     "name": "stdout",
     "output_type": "stream",
     "text": [
      "Epoch 103/124\n"
     ]
    },
    {
     "data": {
      "application/vnd.jupyter.widget-view+json": {
       "model_id": "28dfd62789de47f3aca23cd9a6faf2a0",
       "version_major": 2,
       "version_minor": 0
      },
      "text/plain": [
       "0/100                                                                 ETA: ?s - "
      ]
     },
     "metadata": {},
     "output_type": "display_data"
    },
    {
     "name": "stdout",
     "output_type": "stream",
     "text": [
      "Epoch 104/124\n"
     ]
    },
    {
     "data": {
      "application/vnd.jupyter.widget-view+json": {
       "model_id": "4c57127a3388452bb3e910253a7c0cfe",
       "version_major": 2,
       "version_minor": 0
      },
      "text/plain": [
       "0/100                                                                 ETA: ?s - "
      ]
     },
     "metadata": {},
     "output_type": "display_data"
    },
    {
     "name": "stdout",
     "output_type": "stream",
     "text": [
      "Epoch 105/124\n"
     ]
    },
    {
     "data": {
      "application/vnd.jupyter.widget-view+json": {
       "model_id": "2e0e23046d324e34a1013b2ff772d2dd",
       "version_major": 2,
       "version_minor": 0
      },
      "text/plain": [
       "0/100                                                                 ETA: ?s - "
      ]
     },
     "metadata": {},
     "output_type": "display_data"
    },
    {
     "name": "stdout",
     "output_type": "stream",
     "text": [
      "Epoch 106/124\n"
     ]
    },
    {
     "data": {
      "application/vnd.jupyter.widget-view+json": {
       "model_id": "1faffef2993e4be7ae62bc204b0db868",
       "version_major": 2,
       "version_minor": 0
      },
      "text/plain": [
       "0/100                                                                 ETA: ?s - "
      ]
     },
     "metadata": {},
     "output_type": "display_data"
    },
    {
     "name": "stdout",
     "output_type": "stream",
     "text": [
      "Epoch 107/124\n"
     ]
    },
    {
     "data": {
      "application/vnd.jupyter.widget-view+json": {
       "model_id": "cc4074782ae949269176353cb02a8090",
       "version_major": 2,
       "version_minor": 0
      },
      "text/plain": [
       "0/100                                                                 ETA: ?s - "
      ]
     },
     "metadata": {},
     "output_type": "display_data"
    },
    {
     "name": "stdout",
     "output_type": "stream",
     "text": [
      "Epoch 108/124\n"
     ]
    },
    {
     "data": {
      "application/vnd.jupyter.widget-view+json": {
       "model_id": "e228c4acdf2b429da49e79c67f2c8dd6",
       "version_major": 2,
       "version_minor": 0
      },
      "text/plain": [
       "0/100                                                                 ETA: ?s - "
      ]
     },
     "metadata": {},
     "output_type": "display_data"
    },
    {
     "name": "stdout",
     "output_type": "stream",
     "text": [
      "Epoch 109/124\n"
     ]
    },
    {
     "data": {
      "application/vnd.jupyter.widget-view+json": {
       "model_id": "7b5c1790a49b4ddcb5d296c1a66995ae",
       "version_major": 2,
       "version_minor": 0
      },
      "text/plain": [
       "0/100                                                                 ETA: ?s - "
      ]
     },
     "metadata": {},
     "output_type": "display_data"
    },
    {
     "name": "stdout",
     "output_type": "stream",
     "text": [
      "Epoch 110/124\n"
     ]
    },
    {
     "data": {
      "application/vnd.jupyter.widget-view+json": {
       "model_id": "d471b5b3183b46be955479b1c6dccb9d",
       "version_major": 2,
       "version_minor": 0
      },
      "text/plain": [
       "0/100                                                                 ETA: ?s - "
      ]
     },
     "metadata": {},
     "output_type": "display_data"
    },
    {
     "name": "stdout",
     "output_type": "stream",
     "text": [
      "Epoch 111/124\n"
     ]
    },
    {
     "data": {
      "application/vnd.jupyter.widget-view+json": {
       "model_id": "28e676040b874b8dabbbe538c0855538",
       "version_major": 2,
       "version_minor": 0
      },
      "text/plain": [
       "0/100                                                                 ETA: ?s - "
      ]
     },
     "metadata": {},
     "output_type": "display_data"
    },
    {
     "name": "stdout",
     "output_type": "stream",
     "text": [
      "Epoch 112/124\n"
     ]
    },
    {
     "data": {
      "application/vnd.jupyter.widget-view+json": {
       "model_id": "902313d248394c4db711928143d17f44",
       "version_major": 2,
       "version_minor": 0
      },
      "text/plain": [
       "0/100                                                                 ETA: ?s - "
      ]
     },
     "metadata": {},
     "output_type": "display_data"
    },
    {
     "name": "stdout",
     "output_type": "stream",
     "text": [
      "Epoch 113/124\n"
     ]
    },
    {
     "data": {
      "application/vnd.jupyter.widget-view+json": {
       "model_id": "562be3c61c5f4e17a840428bf98871ae",
       "version_major": 2,
       "version_minor": 0
      },
      "text/plain": [
       "0/100                                                                 ETA: ?s - "
      ]
     },
     "metadata": {},
     "output_type": "display_data"
    },
    {
     "name": "stdout",
     "output_type": "stream",
     "text": [
      "Epoch 114/124\n"
     ]
    },
    {
     "data": {
      "application/vnd.jupyter.widget-view+json": {
       "model_id": "ff7f433496374f2f81632175ae629dd2",
       "version_major": 2,
       "version_minor": 0
      },
      "text/plain": [
       "0/100                                                                 ETA: ?s - "
      ]
     },
     "metadata": {},
     "output_type": "display_data"
    },
    {
     "name": "stdout",
     "output_type": "stream",
     "text": [
      "Epoch 115/124\n"
     ]
    },
    {
     "data": {
      "application/vnd.jupyter.widget-view+json": {
       "model_id": "6cdb0257f02d41e1a7c2c55a82d895e5",
       "version_major": 2,
       "version_minor": 0
      },
      "text/plain": [
       "0/100                                                                 ETA: ?s - "
      ]
     },
     "metadata": {},
     "output_type": "display_data"
    },
    {
     "name": "stdout",
     "output_type": "stream",
     "text": [
      "Epoch 116/124\n"
     ]
    },
    {
     "data": {
      "application/vnd.jupyter.widget-view+json": {
       "model_id": "234ea3924f994f04a9a9f4d754669c05",
       "version_major": 2,
       "version_minor": 0
      },
      "text/plain": [
       "0/100                                                                 ETA: ?s - "
      ]
     },
     "metadata": {},
     "output_type": "display_data"
    },
    {
     "name": "stdout",
     "output_type": "stream",
     "text": [
      "Epoch 117/124\n"
     ]
    },
    {
     "data": {
      "application/vnd.jupyter.widget-view+json": {
       "model_id": "4ad469bbbf9846eca942314845b6d66e",
       "version_major": 2,
       "version_minor": 0
      },
      "text/plain": [
       "0/100                                                                 ETA: ?s - "
      ]
     },
     "metadata": {},
     "output_type": "display_data"
    },
    {
     "name": "stdout",
     "output_type": "stream",
     "text": [
      "Epoch 118/124\n"
     ]
    },
    {
     "data": {
      "application/vnd.jupyter.widget-view+json": {
       "model_id": "fbf0eef6d2f34cae97c86aee1148c9c8",
       "version_major": 2,
       "version_minor": 0
      },
      "text/plain": [
       "0/100                                                                 ETA: ?s - "
      ]
     },
     "metadata": {},
     "output_type": "display_data"
    },
    {
     "name": "stdout",
     "output_type": "stream",
     "text": [
      "Epoch 119/124\n"
     ]
    },
    {
     "data": {
      "application/vnd.jupyter.widget-view+json": {
       "model_id": "1e40d0666ce74471a5f1cd0377829928",
       "version_major": 2,
       "version_minor": 0
      },
      "text/plain": [
       "0/100                                                                 ETA: ?s - "
      ]
     },
     "metadata": {},
     "output_type": "display_data"
    },
    {
     "name": "stdout",
     "output_type": "stream",
     "text": [
      "Epoch 120/124\n"
     ]
    },
    {
     "data": {
      "application/vnd.jupyter.widget-view+json": {
       "model_id": "91ad7481e955496ba0edfca26470fbff",
       "version_major": 2,
       "version_minor": 0
      },
      "text/plain": [
       "0/100                                                                 ETA: ?s - "
      ]
     },
     "metadata": {},
     "output_type": "display_data"
    },
    {
     "name": "stdout",
     "output_type": "stream",
     "text": [
      "Epoch 121/124\n"
     ]
    },
    {
     "data": {
      "application/vnd.jupyter.widget-view+json": {
       "model_id": "733c554d8b7d409d86eefa7070acfa8c",
       "version_major": 2,
       "version_minor": 0
      },
      "text/plain": [
       "0/100                                                                 ETA: ?s - "
      ]
     },
     "metadata": {},
     "output_type": "display_data"
    },
    {
     "name": "stdout",
     "output_type": "stream",
     "text": [
      "Epoch 122/124\n"
     ]
    },
    {
     "data": {
      "application/vnd.jupyter.widget-view+json": {
       "model_id": "0ab176fd0a5d41b6b62c261ef16aa55d",
       "version_major": 2,
       "version_minor": 0
      },
      "text/plain": [
       "0/100                                                                 ETA: ?s - "
      ]
     },
     "metadata": {},
     "output_type": "display_data"
    },
    {
     "name": "stdout",
     "output_type": "stream",
     "text": [
      "Epoch 123/124\n"
     ]
    },
    {
     "data": {
      "application/vnd.jupyter.widget-view+json": {
       "model_id": "87f1f1917a5e4ed388a3adcb629fe0f8",
       "version_major": 2,
       "version_minor": 0
      },
      "text/plain": [
       "0/100                                                                 ETA: ?s - "
      ]
     },
     "metadata": {},
     "output_type": "display_data"
    },
    {
     "name": "stdout",
     "output_type": "stream",
     "text": [
      "Epoch 124/124\n"
     ]
    },
    {
     "data": {
      "application/vnd.jupyter.widget-view+json": {
       "model_id": "bdd26946d47e401b82952368b9211dfd",
       "version_major": 2,
       "version_minor": 0
      },
      "text/plain": [
       "0/100                                                                 ETA: ?s - "
      ]
     },
     "metadata": {},
     "output_type": "display_data"
    }
   ],
   "source": [
    "tqdm_callback = tfa.callbacks.TQDMProgressBar()\n",
    "\n",
    "history = model_2.fit(x=X_train, y=y_train, batch_size=64,epochs=124, verbose=0, callbacks=[tqdm_callback], validation_data=(X_test, y_test))"
   ]
  },
  {
   "cell_type": "markdown",
   "id": "2423c902-da3e-48c9-97c9-673e14d3a8a4",
   "metadata": {},
   "source": [
    "### Check Overfit"
   ]
  },
  {
   "cell_type": "code",
   "execution_count": 55,
   "id": "ae153aab-66ff-4890-9a9f-8779c261833a",
   "metadata": {},
   "outputs": [
    {
     "data": {
      "image/png": "[encoded data removed]",
      "text/plain": [
       "<Figure size 640x480 with 1 Axes>"
      ]
     },
     "metadata": {},
     "output_type": "display_data"
    }
   ],
   "source": [
    "plt.plot(history.history['accuracy'])\n",
    "plt.title('Model Accuracy')\n",
    "plt.ylabel('accuracy')\n",
    "plt.xlabel('epochs')\n",
    "plt.legend(['train'], loc='upper left')\n",
    "plt.axhline(np.nanmean(history.history['accuracy']), color='b', linestyle='--')\n",
    "plt.show()"
   ]
  },
  {
   "cell_type": "markdown",
   "id": "b5b3c81c-c548-43b9-9b2a-cac90f94c1df",
   "metadata": {},
   "source": [
    "### Accuracy"
   ]
  },
  {
   "cell_type": "code",
   "execution_count": 56,
   "id": "5ebd163b-37a8-4657-a94d-021c892566fc",
   "metadata": {},
   "outputs": [
    {
     "name": "stdout",
     "output_type": "stream",
     "text": [
      "50/50 [==============================] - 0s 850us/step\n"
     ]
    },
    {
     "data": {
      "text/plain": [
       "0.8225"
      ]
     },
     "execution_count": 56,
     "metadata": {},
     "output_type": "execute_result"
    }
   ],
   "source": [
    "model2_accuracy = accuracy_score(y_test, model_2.predict(X_test).round())\n",
    "model2_accuracy"
   ]
  },
  {
   "cell_type": "markdown",
   "id": "f47117a8-a595-4e09-a81c-3a1ff9ef91ad",
   "metadata": {},
   "source": [
    "# PREDICTIONS"
   ]
  },
  {
   "cell_type": "code",
   "execution_count": 48,
   "id": "7c6b66b8-b4b6-4d8a-9bc9-05b20c225e47",
   "metadata": {},
   "outputs": [],
   "source": [
    "test_features = []\n",
    "\n",
    "for file in os.listdir('./test_samples/'):\n",
    "    if (file == '.DS_Store'):\n",
    "        continue\n",
    "    mfcc = feature_extraction(f\"./test_samples/{file}\")\n",
    "    test_features.append(mfcc)\n",
    "\n",
    "test_features = np.array(test_features)"
   ]
  },
  {
   "cell_type": "code",
   "execution_count": 69,
   "id": "84d14846-9e68-4dd5-95cd-3544925b9610",
   "metadata": {},
   "outputs": [
    {
     "name": "stdout",
     "output_type": "stream",
     "text": [
      "1/1 [==============================] - 0s 15ms/step\n",
      "1/1 [==============================] - 0s 12ms/step\n"
     ]
    },
    {
     "data": {
      "text/html": [
       "<div>\n",
       "<style scoped>\n",
       "    .dataframe tbody tr th:only-of-type {\n",
       "        vertical-align: middle;\n",
       "    }\n",
       "\n",
       "    .dataframe tbody tr th {\n",
       "        vertical-align: top;\n",
       "    }\n",
       "\n",
       "    .dataframe thead th {\n",
       "        text-align: right;\n",
       "    }\n",
       "</style>\n",
       "<table border=\"1\" class=\"dataframe\">\n",
       "  <thead>\n",
       "    <tr style=\"text-align: right;\">\n",
       "      <th></th>\n",
       "      <th>Model 1</th>\n",
       "      <th>Model 2</th>\n",
       "      <th>Original</th>\n",
       "    </tr>\n",
       "  </thead>\n",
       "  <tbody>\n",
       "    <tr>\n",
       "      <th>0</th>\n",
       "      <td>2.398355e-04</td>\n",
       "      <td>0.753382</td>\n",
       "      <td>1</td>\n",
       "    </tr>\n",
       "    <tr>\n",
       "      <th>1</th>\n",
       "      <td>9.923248e-01</td>\n",
       "      <td>0.731731</td>\n",
       "      <td>1</td>\n",
       "    </tr>\n",
       "    <tr>\n",
       "      <th>2</th>\n",
       "      <td>1.542115e-16</td>\n",
       "      <td>0.110656</td>\n",
       "      <td>1</td>\n",
       "    </tr>\n",
       "    <tr>\n",
       "      <th>3</th>\n",
       "      <td>9.999946e-01</td>\n",
       "      <td>0.482454</td>\n",
       "      <td>1</td>\n",
       "    </tr>\n",
       "    <tr>\n",
       "      <th>4</th>\n",
       "      <td>4.845956e-29</td>\n",
       "      <td>0.110362</td>\n",
       "      <td>0</td>\n",
       "    </tr>\n",
       "  </tbody>\n",
       "</table>\n",
       "</div>"
      ],
      "text/plain": [
       "        Model 1   Model 2  Original\n",
       "0  2.398355e-04  0.753382         1\n",
       "1  9.923248e-01  0.731731         1\n",
       "2  1.542115e-16  0.110656         1\n",
       "3  9.999946e-01  0.482454         1\n",
       "4  4.845956e-29  0.110362         0"
      ]
     },
     "execution_count": 69,
     "metadata": {},
     "output_type": "execute_result"
    }
   ],
   "source": [
    "result1 = model.predict(test_features)\n",
    "result2 = model_2.predict(test_features)\n",
    "label = [1, 1, 1, 1, 0]\n",
    "\n",
    "pred = pd.DataFrame(result1, columns=['Model 1'])\n",
    "pred['Model 2'] = result2\n",
    "pred['Original'] = label\n",
    "\n",
    "pred"
   ]
  },
  {
   "cell_type": "code",
   "execution_count": null,
   "id": "9835fe15-218e-4c99-a4b2-581b3674710b",
   "metadata": {},
   "outputs": [],
   "source": []
  }
 ],
 "metadata": {
  "kernelspec": {
   "display_name": "Python 3 (ipykernel)",
   "language": "python",
   "name": "python3"
  },
  "language_info": {
   "codemirror_mode": {
    "name": "ipython",
    "version": 3
   },
   "file_extension": ".py",
   "mimetype": "text/x-python",
   "name": "python",
   "nbconvert_exporter": "python",
   "pygments_lexer": "ipython3",
   "version": "3.11.10"
  }
 },
 "nbformat": 4,
 "nbformat_minor": 5
}
