{
 "cells": [
  {
   "cell_type": "code",
   "execution_count": 1,
   "id": "a4cadfa1-ceba-472b-bc95-e566bb6edcd9",
   "metadata": {},
   "outputs": [],
   "source": [
    "import pandas as pd\n",
    "import numpy as np\n",
    "import os\n",
    "from tqdm import tqdm\n",
    "import tensorflow as tf\n",
    "\n",
    "from sklearn.model_selection import train_test_split\n",
    "from tensorflow.keras.models import Sequential\n",
    "from tensorflow.keras.layers import Dense, Dropout, Conv1D, MaxPooling1D, Flatten, LSTM\n",
    "from tensorflow.keras.optimizers import Adam\n",
    "from sklearn import metrics"
   ]
  },
  {
   "cell_type": "code",
   "execution_count": 2,
   "id": "b9c90a6c-f26d-443d-89e0-de3b12e9056f",
   "metadata": {},
   "outputs": [
    {
     "data": {
      "text/html": [
       "<div>\n",
       "<style scoped>\n",
       "    .dataframe tbody tr th:only-of-type {\n",
       "        vertical-align: middle;\n",
       "    }\n",
       "\n",
       "    .dataframe tbody tr th {\n",
       "        vertical-align: top;\n",
       "    }\n",
       "\n",
       "    .dataframe thead th {\n",
       "        text-align: right;\n",
       "    }\n",
       "</style>\n",
       "<table border=\"1\" class=\"dataframe\">\n",
       "  <thead>\n",
       "    <tr style=\"text-align: right;\">\n",
       "      <th></th>\n",
       "      <th>Feature</th>\n",
       "      <th>Class</th>\n",
       "    </tr>\n",
       "  </thead>\n",
       "  <tbody>\n",
       "    <tr>\n",
       "      <th>0</th>\n",
       "      <td>[-620.25830078125, 61.49414825439453, -15.2883...</td>\n",
       "      <td>0.0</td>\n",
       "    </tr>\n",
       "    <tr>\n",
       "      <th>1</th>\n",
       "      <td>[-563.337890625, 18.238452911376953, -2.340278...</td>\n",
       "      <td>1.0</td>\n",
       "    </tr>\n",
       "    <tr>\n",
       "      <th>2</th>\n",
       "      <td>[-736.4028930664062, 55.81863784790039, 9.0535...</td>\n",
       "      <td>0.0</td>\n",
       "    </tr>\n",
       "    <tr>\n",
       "      <th>3</th>\n",
       "      <td>[-278.8795471191406, 100.88816833496094, -25.8...</td>\n",
       "      <td>1.0</td>\n",
       "    </tr>\n",
       "    <tr>\n",
       "      <th>4</th>\n",
       "      <td>[-1131.37109375, 0.0, 0.0, 0.0, 0.0, 0.0, 0.0,...</td>\n",
       "      <td>0.0</td>\n",
       "    </tr>\n",
       "  </tbody>\n",
       "</table>\n",
       "</div>"
      ],
      "text/plain": [
       "                                             Feature  Class\n",
       "0  [-620.25830078125, 61.49414825439453, -15.2883...    0.0\n",
       "1  [-563.337890625, 18.238452911376953, -2.340278...    1.0\n",
       "2  [-736.4028930664062, 55.81863784790039, 9.0535...    0.0\n",
       "3  [-278.8795471191406, 100.88816833496094, -25.8...    1.0\n",
       "4  [-1131.37109375, 0.0, 0.0, 0.0, 0.0, 0.0, 0.0,...    0.0"
      ]
     },
     "execution_count": 2,
     "metadata": {},
     "output_type": "execute_result"
    }
   ],
   "source": [
    "df = pd.read_pickle('features/advanced_features.pkl')\n",
    "df.head()"
   ]
  },
  {
   "cell_type": "code",
   "execution_count": 3,
   "id": "a372070c-c869-4736-a206-37abe24de728",
   "metadata": {},
   "outputs": [],
   "source": [
    "X = np.array(df.Feature.to_list())\n",
    "y = np.array(df.Class.to_list())"
   ]
  },
  {
   "cell_type": "code",
   "execution_count": 4,
   "id": "ebc06934-fbbb-4411-a997-a7578b98c1c1",
   "metadata": {},
   "outputs": [],
   "source": [
    "X_train, X_test, y_train, y_test = train_test_split(X, y, test_size=0.2, random_state=27)"
   ]
  },
  {
   "cell_type": "code",
   "execution_count": 5,
   "id": "8ef43844-a522-4ade-a7e5-94ba5b910650",
   "metadata": {},
   "outputs": [],
   "source": [
    "model = Sequential([\n",
    "    LSTM(64, return_sequences=True, input_shape=(43, 1)),\n",
    "    LSTM(32),\n",
    "    Dense(32, activation='relu'),\n",
    "    Dense(1, activation='sigmoid')\n",
    "])"
   ]
  },
  {
   "cell_type": "code",
   "execution_count": 6,
   "id": "ea879061-427d-454f-a822-2f4a18e47f8f",
   "metadata": {},
   "outputs": [],
   "source": [
    "%%capture --no-stdout\n",
    "import tensorflow_addons as tfa\n",
    "# ADDRESS IMBALANCE:\n",
    "from sklearn.utils.class_weight import compute_class_weight"
   ]
  },
  {
   "cell_type": "code",
   "execution_count": 7,
   "id": "357f8df6-c9e0-4eec-8d4f-e56883b379ce",
   "metadata": {},
   "outputs": [
    {
     "data": {
      "text/plain": [
       "{0: 0.9513942847276181, 1: 1.0538395333269581}"
      ]
     },
     "execution_count": 7,
     "metadata": {},
     "output_type": "execute_result"
    }
   ],
   "source": [
    "class_weights = compute_class_weight('balanced', classes=np.unique(y_train), y=y_train)\n",
    "class_weight_dict = dict(enumerate(class_weights))\n",
    "class_weight_dict"
   ]
  },
  {
   "cell_type": "code",
   "execution_count": 8,
   "id": "3ec175e7-d284-44d0-89d7-647f967e14ba",
   "metadata": {},
   "outputs": [
    {
     "data": {
      "application/vnd.jupyter.widget-view+json": {
       "model_id": "e4b9d05b8f8643258cb8289589949955",
       "version_major": 2,
       "version_minor": 0
      },
      "text/plain": [
       "Training:   0%|                                         0/10 ETA: ?s,  ?epochs/s"
      ]
     },
     "metadata": {},
     "output_type": "display_data"
    },
    {
     "name": "stdout",
     "output_type": "stream",
     "text": [
      "Epoch 1/10\n"
     ]
    },
    {
     "name": "stderr",
     "output_type": "stream",
     "text": [
      "2024-10-27 19:25:41.284252: W tensorflow/tsl/platform/profile_utils/cpu_utils.cc:128] Failed to get CPU frequency: 0 Hz\n"
     ]
    },
    {
     "data": {
      "application/vnd.jupyter.widget-view+json": {
       "model_id": "f2b2d3cbb39f45caae8fdfef39efca66",
       "version_major": 2,
       "version_minor": 0
      },
      "text/plain": [
       "0/689                                                                 ETA: ?s - "
      ]
     },
     "metadata": {},
     "output_type": "display_data"
    },
    {
     "name": "stdout",
     "output_type": "stream",
     "text": [
      "Epoch 1/10\n",
      "689/689 [==============================] - 18s 23ms/step - loss: 0.5281 - accuracy: 0.7255 - val_loss: 0.4534 - val_accuracy: 0.7936\n",
      "Epoch 2/10\n"
     ]
    },
    {
     "data": {
      "application/vnd.jupyter.widget-view+json": {
       "model_id": "0a1c3038d5b74f4b847641acb1349838",
       "version_major": 2,
       "version_minor": 0
      },
      "text/plain": [
       "0/689                                                                 ETA: ?s - "
      ]
     },
     "metadata": {},
     "output_type": "display_data"
    },
    {
     "name": "stdout",
     "output_type": "stream",
     "text": [
      "Epoch 2/10\n",
      "689/689 [==============================] - 16s 23ms/step - loss: 0.4158 - accuracy: 0.8095 - val_loss: 0.3988 - val_accuracy: 0.8051\n",
      "Epoch 3/10\n"
     ]
    },
    {
     "data": {
      "application/vnd.jupyter.widget-view+json": {
       "model_id": "7e0b241033f64a14bf90b25c4da29d02",
       "version_major": 2,
       "version_minor": 0
      },
      "text/plain": [
       "0/689                                                                 ETA: ?s - "
      ]
     },
     "metadata": {},
     "output_type": "display_data"
    },
    {
     "name": "stdout",
     "output_type": "stream",
     "text": [
      "Epoch 3/10\n",
      "689/689 [==============================] - 16s 23ms/step - loss: 0.3785 - accuracy: 0.8278 - val_loss: 0.3522 - val_accuracy: 0.8397\n",
      "Epoch 4/10\n"
     ]
    },
    {
     "data": {
      "application/vnd.jupyter.widget-view+json": {
       "model_id": "c0435b886fa145ffa8e65525c8f9b3de",
       "version_major": 2,
       "version_minor": 0
      },
      "text/plain": [
       "0/689                                                                 ETA: ?s - "
      ]
     },
     "metadata": {},
     "output_type": "display_data"
    },
    {
     "name": "stdout",
     "output_type": "stream",
     "text": [
      "Epoch 4/10\n",
      "689/689 [==============================] - 16s 23ms/step - loss: 0.3665 - accuracy: 0.8345 - val_loss: 0.3568 - val_accuracy: 0.8365\n",
      "Epoch 5/10\n"
     ]
    },
    {
     "data": {
      "application/vnd.jupyter.widget-view+json": {
       "model_id": "7560d2dad9cd4543b3240feeb2f16c11",
       "version_major": 2,
       "version_minor": 0
      },
      "text/plain": [
       "0/689                                                                 ETA: ?s - "
      ]
     },
     "metadata": {},
     "output_type": "display_data"
    },
    {
     "name": "stdout",
     "output_type": "stream",
     "text": [
      "Epoch 5/10\n",
      "689/689 [==============================] - 16s 23ms/step - loss: 0.3531 - accuracy: 0.8401 - val_loss: 0.3650 - val_accuracy: 0.8254\n",
      "Epoch 6/10\n"
     ]
    },
    {
     "data": {
      "application/vnd.jupyter.widget-view+json": {
       "model_id": "31ed3983c38b4b83864014c8f16dc706",
       "version_major": 2,
       "version_minor": 0
      },
      "text/plain": [
       "0/689                                                                 ETA: ?s - "
      ]
     },
     "metadata": {},
     "output_type": "display_data"
    },
    {
     "name": "stdout",
     "output_type": "stream",
     "text": [
      "Epoch 6/10\n",
      "689/689 [==============================] - 16s 24ms/step - loss: 0.3377 - accuracy: 0.8472 - val_loss: 0.3514 - val_accuracy: 0.8421\n",
      "Epoch 7/10\n"
     ]
    },
    {
     "data": {
      "application/vnd.jupyter.widget-view+json": {
       "model_id": "8f8364ddda90499986e485ef2aebfaee",
       "version_major": 2,
       "version_minor": 0
      },
      "text/plain": [
       "0/689                                                                 ETA: ?s - "
      ]
     },
     "metadata": {},
     "output_type": "display_data"
    },
    {
     "name": "stdout",
     "output_type": "stream",
     "text": [
      "Epoch 7/10\n",
      "689/689 [==============================] - 16s 23ms/step - loss: 0.3342 - accuracy: 0.8518 - val_loss: 0.3299 - val_accuracy: 0.8503\n",
      "Epoch 8/10\n"
     ]
    },
    {
     "data": {
      "application/vnd.jupyter.widget-view+json": {
       "model_id": "23fcca8b4bea4ce8899a581f15a3f771",
       "version_major": 2,
       "version_minor": 0
      },
      "text/plain": [
       "0/689                                                                 ETA: ?s - "
      ]
     },
     "metadata": {},
     "output_type": "display_data"
    },
    {
     "name": "stdout",
     "output_type": "stream",
     "text": [
      "Epoch 8/10\n",
      "689/689 [==============================] - 16s 23ms/step - loss: 0.3320 - accuracy: 0.8509 - val_loss: 0.3203 - val_accuracy: 0.8595\n",
      "Epoch 9/10\n"
     ]
    },
    {
     "data": {
      "application/vnd.jupyter.widget-view+json": {
       "model_id": "b0f5393e02f14563a9374b544e5583ac",
       "version_major": 2,
       "version_minor": 0
      },
      "text/plain": [
       "0/689                                                                 ETA: ?s - "
      ]
     },
     "metadata": {},
     "output_type": "display_data"
    },
    {
     "name": "stdout",
     "output_type": "stream",
     "text": [
      "Epoch 9/10\n",
      "689/689 [==============================] - 16s 23ms/step - loss: 0.3273 - accuracy: 0.8512 - val_loss: 0.3248 - val_accuracy: 0.8586\n",
      "Epoch 10/10\n"
     ]
    },
    {
     "data": {
      "application/vnd.jupyter.widget-view+json": {
       "model_id": "157e3681e27a4202bda5ecf7c7430ee9",
       "version_major": 2,
       "version_minor": 0
      },
      "text/plain": [
       "0/689                                                                 ETA: ?s - "
      ]
     },
     "metadata": {},
     "output_type": "display_data"
    },
    {
     "name": "stdout",
     "output_type": "stream",
     "text": [
      "Epoch 10/10\n",
      "689/689 [==============================] - 15s 22ms/step - loss: 0.3171 - accuracy: 0.8571 - val_loss: 0.3120 - val_accuracy: 0.8633\n"
     ]
    },
    {
     "data": {
      "text/plain": [
       "<keras.callbacks.History at 0x31036e590>"
      ]
     },
     "execution_count": 8,
     "metadata": {},
     "output_type": "execute_result"
    }
   ],
   "source": [
    "tqdm_callback = tfa.callbacks.TQDMProgressBar()\n",
    "\n",
    "model.compile(optimizer='adam', loss='binary_crossentropy', metrics=['accuracy'])\n",
    "model.fit(X_train, y_train, class_weight=class_weight_dict, epochs=10, batch_size=32, validation_data=(X_test, y_test), callbacks=[tqdm_callback])"
   ]
  },
  {
   "cell_type": "code",
   "execution_count": 9,
   "id": "3a95bfc2-bd99-4697-935f-013c0f3359f7",
   "metadata": {},
   "outputs": [
    {
     "name": "stdout",
     "output_type": "stream",
     "text": [
      "173/173 [==============================] - 1s 5ms/step - loss: 0.3120 - accuracy: 0.8633\n"
     ]
    },
    {
     "data": {
      "text/plain": [
       "0.863339364528656"
      ]
     },
     "execution_count": 9,
     "metadata": {},
     "output_type": "execute_result"
    }
   ],
   "source": [
    "test_loss, test_accuracy = model.evaluate(X_test, y_test)\n",
    "test_accuracy"
   ]
  },
  {
   "cell_type": "code",
   "execution_count": 10,
   "id": "bde54be7-505e-4c85-9ffb-1c5b5d7b7b12",
   "metadata": {},
   "outputs": [],
   "source": [
    "model.save('./saved_models/cnn_adnv.keras')"
   ]
  }
 ],
 "metadata": {
  "kernelspec": {
   "display_name": "Python 3 (ipykernel)",
   "language": "python",
   "name": "python3"
  },
  "language_info": {
   "codemirror_mode": {
    "name": "ipython",
    "version": 3
   },
   "file_extension": ".py",
   "mimetype": "text/x-python",
   "name": "python",
   "nbconvert_exporter": "python",
   "pygments_lexer": "ipython3",
   "version": "3.11.10"
  }
 },
 "nbformat": 4,
 "nbformat_minor": 5
}
