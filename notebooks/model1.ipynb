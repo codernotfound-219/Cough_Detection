{
 "cells": [
  {
   "cell_type": "code",
   "execution_count": 2,
   "id": "1601d5d7-acca-4d69-ae78-a2dfa1bea888",
   "metadata": {},
   "outputs": [],
   "source": [
    "import pandas as pd\n",
    "import numpy as np\n",
    "import os\n",
    "from tqdm import tqdm\n",
    "import tensorflow as tf\n",
    "\n",
    "from sklearn.model_selection import train_test_split\n",
    "from tensorflow.keras.models import Sequential\n",
    "from tensorflow.keras.layers import Dense, Dropout, Conv1D, MaxPooling1D, Flatten, LSTM\n",
    "from tensorflow.keras.optimizers import Adam\n",
    "from sklearn import metrics"
   ]
  },
  {
   "cell_type": "code",
   "execution_count": 3,
   "id": "0094d303-aa0e-4edc-9c90-756f15191de9",
   "metadata": {},
   "outputs": [
    {
     "data": {
      "text/html": [
       "<div>\n",
       "<style scoped>\n",
       "    .dataframe tbody tr th:only-of-type {\n",
       "        vertical-align: middle;\n",
       "    }\n",
       "\n",
       "    .dataframe tbody tr th {\n",
       "        vertical-align: top;\n",
       "    }\n",
       "\n",
       "    .dataframe thead th {\n",
       "        text-align: right;\n",
       "    }\n",
       "</style>\n",
       "<table border=\"1\" class=\"dataframe\">\n",
       "  <thead>\n",
       "    <tr style=\"text-align: right;\">\n",
       "      <th></th>\n",
       "      <th>Feature</th>\n",
       "      <th>Class</th>\n",
       "    </tr>\n",
       "  </thead>\n",
       "  <tbody>\n",
       "    <tr>\n",
       "      <th>0</th>\n",
       "      <td>[-620.2583, 61.49415, -15.288396, 14.906147, -...</td>\n",
       "      <td>0.0</td>\n",
       "    </tr>\n",
       "    <tr>\n",
       "      <th>1</th>\n",
       "      <td>[-563.3379, 18.238453, -2.3402789, 5.720763, -...</td>\n",
       "      <td>1.0</td>\n",
       "    </tr>\n",
       "    <tr>\n",
       "      <th>2</th>\n",
       "      <td>[-736.4029, 55.818638, 9.05353, 1.8999938, -12...</td>\n",
       "      <td>0.0</td>\n",
       "    </tr>\n",
       "    <tr>\n",
       "      <th>3</th>\n",
       "      <td>[-278.87955, 100.88817, -25.865995, 15.782074,...</td>\n",
       "      <td>1.0</td>\n",
       "    </tr>\n",
       "    <tr>\n",
       "      <th>4</th>\n",
       "      <td>[-1131.3711, 0.0, 0.0, 0.0, 0.0, 0.0, 0.0, 0.0...</td>\n",
       "      <td>0.0</td>\n",
       "    </tr>\n",
       "  </tbody>\n",
       "</table>\n",
       "</div>"
      ],
      "text/plain": [
       "                                             Feature  Class\n",
       "0  [-620.2583, 61.49415, -15.288396, 14.906147, -...    0.0\n",
       "1  [-563.3379, 18.238453, -2.3402789, 5.720763, -...    1.0\n",
       "2  [-736.4029, 55.818638, 9.05353, 1.8999938, -12...    0.0\n",
       "3  [-278.87955, 100.88817, -25.865995, 15.782074,...    1.0\n",
       "4  [-1131.3711, 0.0, 0.0, 0.0, 0.0, 0.0, 0.0, 0.0...    0.0"
      ]
     },
     "execution_count": 3,
     "metadata": {},
     "output_type": "execute_result"
    }
   ],
   "source": [
    "df = pd.read_pickle('features/mfcc_features.pkl')\n",
    "df.head()"
   ]
  },
  {
   "cell_type": "code",
   "execution_count": 4,
   "id": "2143b175-6ab9-4764-9028-4fe9897d7e0c",
   "metadata": {},
   "outputs": [],
   "source": [
    "X = np.array(df.Feature.to_list())\n",
    "y = np.array(df.Class.to_list())"
   ]
  },
  {
   "cell_type": "code",
   "execution_count": 5,
   "id": "7302af63-679d-46f3-9581-357a3eaf7b05",
   "metadata": {},
   "outputs": [],
   "source": [
    "X_train, X_test, y_train, y_test = train_test_split(X, y, test_size=0.2, random_state=27)"
   ]
  },
  {
   "cell_type": "code",
   "execution_count": 6,
   "id": "daa1db7b-b08d-4421-a4e5-315579b1c6b9",
   "metadata": {},
   "outputs": [
    {
     "data": {
      "text/plain": [
       "(22040, 50)"
      ]
     },
     "execution_count": 6,
     "metadata": {},
     "output_type": "execute_result"
    }
   ],
   "source": [
    "X_train.shape"
   ]
  },
  {
   "cell_type": "code",
   "execution_count": 7,
   "id": "784dce61-1d9d-4118-b18c-6e7837802df6",
   "metadata": {},
   "outputs": [],
   "source": [
    "model = Sequential([\n",
    "    LSTM(64, return_sequences=True, input_shape=(50, 1)),\n",
    "    LSTM(32),\n",
    "    Dense(32, activation='relu'),\n",
    "    Dense(1, activation='sigmoid')\n",
    "])"
   ]
  },
  {
   "cell_type": "code",
   "execution_count": 8,
   "id": "1de44dff-176c-4d19-a637-30cb7b1fd5bd",
   "metadata": {},
   "outputs": [],
   "source": [
    "%%capture --no-stdout\n",
    "import tensorflow_addons as tfa\n",
    "# ADDRESS IMBALANCE:\n",
    "from sklearn.utils.class_weight import compute_class_weight"
   ]
  },
  {
   "cell_type": "code",
   "execution_count": 9,
   "id": "bcd583d5-32e4-4e5e-b81e-39b52c52ca73",
   "metadata": {},
   "outputs": [
    {
     "data": {
      "text/plain": [
       "{0: 0.9513942847276181, 1: 1.0538395333269581}"
      ]
     },
     "execution_count": 9,
     "metadata": {},
     "output_type": "execute_result"
    }
   ],
   "source": [
    "class_weights = compute_class_weight('balanced', classes=np.unique(y_train), y=y_train)\n",
    "class_weight_dict = dict(enumerate(class_weights))\n",
    "class_weight_dict"
   ]
  },
  {
   "cell_type": "code",
   "execution_count": 10,
   "id": "0a38c9b4-9dcd-42ca-8325-e76d807c8565",
   "metadata": {},
   "outputs": [
    {
     "data": {
      "application/vnd.jupyter.widget-view+json": {
       "model_id": "3b4479e5caf340fe86f8f514c205c637",
       "version_major": 2,
       "version_minor": 0
      },
      "text/plain": [
       "Training:   0%|                                         0/10 ETA: ?s,  ?epochs/s"
      ]
     },
     "metadata": {},
     "output_type": "display_data"
    },
    {
     "name": "stdout",
     "output_type": "stream",
     "text": [
      "Epoch 1/10\n"
     ]
    },
    {
     "name": "stderr",
     "output_type": "stream",
     "text": [
      "2024-10-27 19:17:09.137462: W tensorflow/tsl/platform/profile_utils/cpu_utils.cc:128] Failed to get CPU frequency: 0 Hz\n"
     ]
    },
    {
     "data": {
      "application/vnd.jupyter.widget-view+json": {
       "model_id": "2eaf648da6394087a368fd2aea15f90f",
       "version_major": 2,
       "version_minor": 0
      },
      "text/plain": [
       "0/689                                                                 ETA: ?s - "
      ]
     },
     "metadata": {},
     "output_type": "display_data"
    },
    {
     "name": "stdout",
     "output_type": "stream",
     "text": [
      "Epoch 1/10\n",
      "689/689 [==============================] - 20s 26ms/step - loss: 0.5671 - accuracy: 0.7140 - val_loss: 0.5499 - val_accuracy: 0.7301\n",
      "Epoch 2/10\n"
     ]
    },
    {
     "data": {
      "application/vnd.jupyter.widget-view+json": {
       "model_id": "63a64588e9454e1c835af08897970c4b",
       "version_major": 2,
       "version_minor": 0
      },
      "text/plain": [
       "0/689                                                                 ETA: ?s - "
      ]
     },
     "metadata": {},
     "output_type": "display_data"
    },
    {
     "name": "stdout",
     "output_type": "stream",
     "text": [
      "Epoch 2/10\n",
      "689/689 [==============================] - 18s 26ms/step - loss: 0.5271 - accuracy: 0.7432 - val_loss: 0.5176 - val_accuracy: 0.7515\n",
      "Epoch 3/10\n"
     ]
    },
    {
     "data": {
      "application/vnd.jupyter.widget-view+json": {
       "model_id": "169983ce0e49436093261ae0f1caf8e1",
       "version_major": 2,
       "version_minor": 0
      },
      "text/plain": [
       "0/689                                                                 ETA: ?s - "
      ]
     },
     "metadata": {},
     "output_type": "display_data"
    },
    {
     "name": "stdout",
     "output_type": "stream",
     "text": [
      "Epoch 3/10\n",
      "689/689 [==============================] - 19s 27ms/step - loss: 0.5037 - accuracy: 0.7549 - val_loss: 0.4893 - val_accuracy: 0.7668\n",
      "Epoch 4/10\n"
     ]
    },
    {
     "data": {
      "application/vnd.jupyter.widget-view+json": {
       "model_id": "f5bcffed51394168855364b829f4e117",
       "version_major": 2,
       "version_minor": 0
      },
      "text/plain": [
       "0/689                                                                 ETA: ?s - "
      ]
     },
     "metadata": {},
     "output_type": "display_data"
    },
    {
     "name": "stdout",
     "output_type": "stream",
     "text": [
      "Epoch 4/10\n",
      "689/689 [==============================] - 19s 28ms/step - loss: 0.4923 - accuracy: 0.7621 - val_loss: 0.4779 - val_accuracy: 0.7739\n",
      "Epoch 5/10\n"
     ]
    },
    {
     "data": {
      "application/vnd.jupyter.widget-view+json": {
       "model_id": "8c2b6613804f4e55aa898befab7e3ea5",
       "version_major": 2,
       "version_minor": 0
      },
      "text/plain": [
       "0/689                                                                 ETA: ?s - "
      ]
     },
     "metadata": {},
     "output_type": "display_data"
    },
    {
     "name": "stdout",
     "output_type": "stream",
     "text": [
      "Epoch 5/10\n",
      "689/689 [==============================] - 19s 27ms/step - loss: 0.4825 - accuracy: 0.7679 - val_loss: 0.5344 - val_accuracy: 0.7408\n",
      "Epoch 6/10\n"
     ]
    },
    {
     "data": {
      "application/vnd.jupyter.widget-view+json": {
       "model_id": "fb7fe0e369114d55a678ad2974e3cc61",
       "version_major": 2,
       "version_minor": 0
      },
      "text/plain": [
       "0/689                                                                 ETA: ?s - "
      ]
     },
     "metadata": {},
     "output_type": "display_data"
    },
    {
     "name": "stdout",
     "output_type": "stream",
     "text": [
      "Epoch 6/10\n",
      "689/689 [==============================] - 19s 27ms/step - loss: 0.4698 - accuracy: 0.7777 - val_loss: 0.4471 - val_accuracy: 0.7869\n",
      "Epoch 7/10\n"
     ]
    },
    {
     "data": {
      "application/vnd.jupyter.widget-view+json": {
       "model_id": "1ab2916fa894402eab58e5832d2559b9",
       "version_major": 2,
       "version_minor": 0
      },
      "text/plain": [
       "0/689                                                                 ETA: ?s - "
      ]
     },
     "metadata": {},
     "output_type": "display_data"
    },
    {
     "name": "stdout",
     "output_type": "stream",
     "text": [
      "Epoch 7/10\n",
      "689/689 [==============================] - 19s 27ms/step - loss: 0.4608 - accuracy: 0.7770 - val_loss: 0.4509 - val_accuracy: 0.7860\n",
      "Epoch 8/10\n"
     ]
    },
    {
     "data": {
      "application/vnd.jupyter.widget-view+json": {
       "model_id": "3daabcb0da624736878b7765c70e2e81",
       "version_major": 2,
       "version_minor": 0
      },
      "text/plain": [
       "0/689                                                                 ETA: ?s - "
      ]
     },
     "metadata": {},
     "output_type": "display_data"
    },
    {
     "name": "stdout",
     "output_type": "stream",
     "text": [
      "Epoch 8/10\n",
      "689/689 [==============================] - 18s 26ms/step - loss: 0.4516 - accuracy: 0.7855 - val_loss: 0.4487 - val_accuracy: 0.7862\n",
      "Epoch 9/10\n"
     ]
    },
    {
     "data": {
      "application/vnd.jupyter.widget-view+json": {
       "model_id": "d65643ad56a84879a474666219bd7c1d",
       "version_major": 2,
       "version_minor": 0
      },
      "text/plain": [
       "0/689                                                                 ETA: ?s - "
      ]
     },
     "metadata": {},
     "output_type": "display_data"
    },
    {
     "name": "stdout",
     "output_type": "stream",
     "text": [
      "Epoch 9/10\n",
      "689/689 [==============================] - 18s 26ms/step - loss: 0.4484 - accuracy: 0.7894 - val_loss: 0.4433 - val_accuracy: 0.7918\n",
      "Epoch 10/10\n"
     ]
    },
    {
     "data": {
      "application/vnd.jupyter.widget-view+json": {
       "model_id": "ac216c209a754fed9e59228ac2bf276f",
       "version_major": 2,
       "version_minor": 0
      },
      "text/plain": [
       "0/689                                                                 ETA: ?s - "
      ]
     },
     "metadata": {},
     "output_type": "display_data"
    },
    {
     "name": "stdout",
     "output_type": "stream",
     "text": [
      "Epoch 10/10\n",
      "689/689 [==============================] - 18s 27ms/step - loss: 0.4425 - accuracy: 0.7914 - val_loss: 0.4342 - val_accuracy: 0.7947\n"
     ]
    },
    {
     "data": {
      "text/plain": [
       "<keras.callbacks.History at 0x3042f9bd0>"
      ]
     },
     "execution_count": 10,
     "metadata": {},
     "output_type": "execute_result"
    }
   ],
   "source": [
    "tqdm_callback = tfa.callbacks.TQDMProgressBar()\n",
    "\n",
    "model.compile(optimizer='adam', loss='binary_crossentropy', metrics=['accuracy'])\n",
    "model.fit(X_train, y_train, class_weight=class_weight_dict, epochs=10, batch_size=32, validation_data=(X_test, y_test), callbacks=[tqdm_callback])"
   ]
  },
  {
   "cell_type": "code",
   "execution_count": 11,
   "id": "a1a34593-f6c1-4176-b746-1a874976fb7f",
   "metadata": {},
   "outputs": [
    {
     "name": "stdout",
     "output_type": "stream",
     "text": [
      "173/173 [==============================] - 1s 6ms/step - loss: 0.4342 - accuracy: 0.7947\n"
     ]
    },
    {
     "data": {
      "text/plain": [
       "0.7947368621826172"
      ]
     },
     "execution_count": 11,
     "metadata": {},
     "output_type": "execute_result"
    }
   ],
   "source": [
    "test_loss, test_accuracy = model.evaluate(X_test, y_test)\n",
    "test_accuracy"
   ]
  },
  {
   "cell_type": "code",
   "execution_count": 20,
   "id": "4492581b-6680-4eed-99b8-18bc642a9bab",
   "metadata": {},
   "outputs": [
    {
     "data": {
      "text/plain": [
       "array([[-6.1661340e+02,  2.5801218e+01, -1.2701217e+01, ...,\n",
       "         2.5360510e-01,  7.3844142e-02,  8.6273074e-02],\n",
       "       [-4.1932272e+02,  3.9473335e+01, -1.0724197e+01, ...,\n",
       "        -1.3737037e+00, -9.1674280e-01, -3.5803679e-01],\n",
       "       [-3.2226410e+02,  6.2136887e+01, -4.4887539e+01, ...,\n",
       "         9.6915597e-01,  5.4065347e-01,  1.3136777e+00],\n",
       "       ...,\n",
       "       [-5.6213153e+02,  3.3038864e+01, -9.6612329e+00, ...,\n",
       "        -4.8124385e-01, -4.5902881e-01,  1.1036498e-01],\n",
       "       [-5.3383826e+02,  9.6581793e+00, -4.4254532e+00, ...,\n",
       "         2.0085005e-01,  2.7337646e-02,  2.7415276e-01],\n",
       "       [-4.8069168e+02,  3.8707554e+01, -1.9147028e+01, ...,\n",
       "         1.6952436e+00,  5.9119302e-01, -1.2798436e-01]], dtype=float32)"
      ]
     },
     "execution_count": 20,
     "metadata": {},
     "output_type": "execute_result"
    }
   ],
   "source": [
    "X_test"
   ]
  },
  {
   "cell_type": "code",
   "execution_count": 12,
   "id": "fae573e5-71b4-4c46-bd44-9c8084256028",
   "metadata": {},
   "outputs": [],
   "source": [
    "model.save('./saved_models/cnn_mfcc.keras')"
   ]
  }
 ],
 "metadata": {
  "kernelspec": {
   "display_name": "Python 3 (ipykernel)",
   "language": "python",
   "name": "python3"
  },
  "language_info": {
   "codemirror_mode": {
    "name": "ipython",
    "version": 3
   },
   "file_extension": ".py",
   "mimetype": "text/x-python",
   "name": "python",
   "nbconvert_exporter": "python",
   "pygments_lexer": "ipython3",
   "version": "3.11.10"
  }
 },
 "nbformat": 4,
 "nbformat_minor": 5
}
