{
 "cells": [
  {
   "cell_type": "code",
   "execution_count": 55,
   "id": "26668f62-5775-456b-91f5-5a1cbe571c2d",
   "metadata": {},
   "outputs": [],
   "source": [
    "import os\n",
    "from matplotlib import pyplot as plt\n",
    "import tensorflow as tf\n",
    "import pandas as pd\n",
    "import numpy as np\n",
    "import librosa\n",
    "import librosa.display\n",
    "import IPython.display as ipd\n",
    "\n",
    "%matplotlib inline\n",
    "\n",
    "from tqdm import tqdm"
   ]
  },
  {
   "cell_type": "code",
   "execution_count": 58,
   "id": "7a1f459f-10dc-4f48-b61c-a1c9ea918b25",
   "metadata": {},
   "outputs": [],
   "source": [
    "def feature_extraction(file_name):\n",
    "    features = []\n",
    "    audio, sample_rate = librosa.load(file_name)\n",
    "    \n",
    "    # mfcc\n",
    "    mfcc = librosa.feature.mfcc(y=audio, sr=sample_rate, n_mfcc=13)\n",
    "    features.extend(np.mean(mfcc, axis=1))\n",
    "    features.extend(np.std(mfcc, axis=1))\n",
    "\n",
    "    # spectral_centroids\n",
    "    spectral_centroids = librosa.feature.spectral_centroid(y=audio, sr=sample_rate)[0]\n",
    "    features.extend([np.mean(spectral_centroids), np.std(spectral_centroids)])\n",
    "\n",
    "    # zero crossin rate\n",
    "    zero_crossing_rate = librosa.feature.zero_crossing_rate(audio)[0]\n",
    "    features.extend([np.mean(zero_crossing_rate), np.std(zero_crossing_rate)])\n",
    "    \n",
    "    # Rms Energy\n",
    "    rms_energy = librosa.feature.rms(y=audio)[0]\n",
    "    features.extend([np.mean(rms_energy), np.std(rms_energy)])\n",
    "\n",
    "    # spectral bandwidth\n",
    "    spectral_bandwidth = librosa.feature.spectral_bandwidth(y=audio, sr=sample_rate)[0]\n",
    "    features.extend([np.mean(spectral_bandwidth), np.std(spectral_bandwidth)])\n",
    "\n",
    "    # spectral contrast\n",
    "    spectral_contrast = librosa.feature.spectral_contrast(y=audio, sr=sample_rate)\n",
    "    features.extend(np.mean(spectral_contrast, axis=1))\n",
    "\n",
    "    # Onset Strength\n",
    "    onset_env = librosa.onset.onset_strength(y=audio, sr=sample_rate)\n",
    "    features.extend([np.mean(onset_env), np.std(onset_env)])\n",
    "\n",
    "    return np.array(features)"
   ]
  },
  {
   "cell_type": "code",
   "execution_count": 59,
   "id": "620485dc-5c78-4fcf-99c1-57999dfe1a56",
   "metadata": {},
   "outputs": [
    {
     "name": "stderr",
     "output_type": "stream",
     "text": [
      "8000it [15:24,  8.66it/s]"
     ]
    },
    {
     "name": "stdout",
     "output_type": "stream",
     "text": [
      "                                                Feature  Class\n",
      "0     [-620.25830078125, 61.49414825439453, -15.2883...    0.0\n",
      "1     [-563.337890625, 18.238452911376953, -2.340278...    1.0\n",
      "2     [-736.4028930664062, 55.81863784790039, 9.0535...    0.0\n",
      "3     [-278.8795471191406, 100.88816833496094, -25.8...    1.0\n",
      "4     [-1131.37109375, 0.0, 0.0, 0.0, 0.0, 0.0, 0.0,...    0.0\n",
      "...                                                 ...    ...\n",
      "7995  [-413.213134765625, 46.74795150756836, -24.516...    0.0\n",
      "7996  [-306.65972900390625, 108.84735870361328, -32....    0.0\n",
      "7997  [-460.4200744628906, 44.10028076171875, -8.913...    1.0\n",
      "7998  [-433.1278991699219, 35.6968879699707, -21.607...    1.0\n",
      "7999  [-345.0193176269531, 81.45926666259766, -9.335...    0.0\n",
      "\n",
      "[8000 rows x 2 columns]\n"
     ]
    },
    {
     "name": "stderr",
     "output_type": "stream",
     "text": [
      "\n"
     ]
    }
   ],
   "source": [
    "df = pd.read_csv('meta.csv')\n",
    "dataset_path = 'public_dataset/'\n",
    "\n",
    "df = df[:8000] # Taking only 8k audio files\n",
    "\n",
    "extracted_features = []\n",
    "\n",
    "for index_num, row in tqdm(df.iterrows()):\n",
    "   file_name = dataset_path + row['uuid'] + '.wav'\n",
    "   labels = row['classID']\n",
    "   data = feature_extraction(file_name)\n",
    "   extracted_features.append([data, labels])\n",
    "\n",
    "extracted_features = pd.DataFrame(extracted_features, columns=['Feature', 'Class'])\n",
    "print(extracted_features)"
   ]
  },
  {
   "cell_type": "code",
   "execution_count": 71,
   "id": "846af020-6988-4e12-a32b-6546cd89e0f5",
   "metadata": {},
   "outputs": [],
   "source": [
    "extracted_features.to_pickle('advanced_extraction.pkl')"
   ]
  },
  {
   "cell_type": "code",
   "execution_count": 75,
   "id": "998819e3-e2c0-4a13-885d-1f7750f6062a",
   "metadata": {},
   "outputs": [],
   "source": [
    "from sklearn.model_selection import train_test_split\n",
    "from tensorflow.keras.models import Sequential\n",
    "from tensorflow.keras.layers import Dense, Dropout, Conv1D, LSTM, MaxPooling1D"
   ]
  },
  {
   "cell_type": "code",
   "execution_count": 73,
   "id": "4fe6fef8-338e-4164-a2c8-e7205925ce3f",
   "metadata": {},
   "outputs": [
    {
     "data": {
      "text/plain": [
       "((8000, 43), (8000,))"
      ]
     },
     "execution_count": 73,
     "metadata": {},
     "output_type": "execute_result"
    }
   ],
   "source": [
    "\n",
    "# Assume X is your feature array and y is your labels\n",
    "X = np.array(extracted_features['Feature'].to_list())\n",
    "y = np.array(extracted_features['Class'].to_list())\n",
    "\n",
    "X.shape, y.shape"
   ]
  },
  {
   "cell_type": "code",
   "execution_count": 76,
   "id": "f291bf57-3e95-434e-a351-c3698eabe707",
   "metadata": {},
   "outputs": [
    {
     "name": "stdout",
     "output_type": "stream",
     "text": [
      "Model: \"sequential_2\"\n",
      "_________________________________________________________________\n",
      " Layer (type)                Output Shape              Param #   \n",
      "=================================================================\n",
      " conv1d_2 (Conv1D)           (None, 41, 64)            256       \n",
      "                                                                 \n",
      " max_pooling1d_2 (MaxPooling  (None, 20, 64)           0         \n",
      " 1D)                                                             \n",
      "                                                                 \n",
      " conv1d_3 (Conv1D)           (None, 18, 128)           24704     \n",
      "                                                                 \n",
      " max_pooling1d_3 (MaxPooling  (None, 9, 128)           0         \n",
      " 1D)                                                             \n",
      "                                                                 \n",
      " lstm (LSTM)                 (None, 9, 64)             49408     \n",
      "                                                                 \n",
      " lstm_1 (LSTM)               (None, 32)                12416     \n",
      "                                                                 \n",
      " dense_5 (Dense)             (None, 64)                2112      \n",
      "                                                                 \n",
      " dropout_3 (Dropout)         (None, 64)                0         \n",
      "                                                                 \n",
      " dense_6 (Dense)             (None, 1)                 65        \n",
      "                                                                 \n",
      "=================================================================\n",
      "Total params: 88,961\n",
      "Trainable params: 88,961\n",
      "Non-trainable params: 0\n",
      "_________________________________________________________________\n"
     ]
    }
   ],
   "source": [
    "X_reshaped = X.reshape(X.shape[0], X.shape[1], 1)\n",
    "\n",
    "model = Sequential([\n",
    "    Conv1D(64, kernel_size=3, activation='relu', input_shape=(X_reshaped.shape[1], X_reshaped.shape[2])),\n",
    "    MaxPooling1D(2),\n",
    "    Conv1D(128, kernel_size=3, activation='relu'),\n",
    "    MaxPooling1D(2),\n",
    "    LSTM(64, return_sequences=True),\n",
    "    LSTM(32),\n",
    "    Dense(64, activation='relu'),\n",
    "    Dropout(0.5),\n",
    "    Dense(1, activation='sigmoid')\n",
    "])\n",
    "\n",
    "model.summary()"
   ]
  },
  {
   "cell_type": "code",
   "execution_count": 78,
   "id": "36ac2a82-2d25-4ebc-8ed9-be45deeeae41",
   "metadata": {},
   "outputs": [],
   "source": [
    "X_train, X_test, y_train, y_test = train_test_split(X_reshaped, y, test_size=0.2, random_state=27)"
   ]
  },
  {
   "cell_type": "code",
   "execution_count": 80,
   "id": "5df3f68c-96bf-4f73-b499-ace4bfaa3042",
   "metadata": {},
   "outputs": [],
   "source": [
    "%%capture --no-stdout\n",
    "import tensorflow_addons as tfa\n",
    "# ADDRESS IMBALANCE:\n",
    "from sklearn.utils.class_weight import compute_class_weight"
   ]
  },
  {
   "cell_type": "code",
   "execution_count": 81,
   "id": "63389535-13df-4cfc-8ea7-13c9c30f29d9",
   "metadata": {},
   "outputs": [
    {
     "data": {
      "text/plain": [
       "{0: 0.9495548961424333, 1: 1.056105610561056}"
      ]
     },
     "execution_count": 81,
     "metadata": {},
     "output_type": "execute_result"
    }
   ],
   "source": [
    "class_weights = compute_class_weight('balanced', classes=np.unique(y_train), y=y_train)\n",
    "class_weight_dict = dict(enumerate(class_weights))\n",
    "class_weight_dict"
   ]
  },
  {
   "cell_type": "code",
   "execution_count": 82,
   "id": "6501b2e5-40aa-4b2a-8258-a2e8fcfe076f",
   "metadata": {
    "scrolled": true
   },
   "outputs": [
    {
     "data": {
      "application/vnd.jupyter.widget-view+json": {
       "model_id": "c575ec8baed4430b8bef443656d6740e",
       "version_major": 2,
       "version_minor": 0
      },
      "text/plain": [
       "Training:   0%|                                        0/100 ETA: ?s,  ?epochs/s"
      ]
     },
     "metadata": {},
     "output_type": "display_data"
    },
    {
     "name": "stdout",
     "output_type": "stream",
     "text": [
      "Epoch 1/100\n"
     ]
    },
    {
     "data": {
      "application/vnd.jupyter.widget-view+json": {
       "model_id": "2727b3e8a10b4f129b5649d9ff7a2486",
       "version_major": 2,
       "version_minor": 0
      },
      "text/plain": [
       "0/200                                                                 ETA: ?s - "
      ]
     },
     "metadata": {},
     "output_type": "display_data"
    },
    {
     "name": "stdout",
     "output_type": "stream",
     "text": [
      "Epoch 1/100\n",
      "200/200 [==============================] - 4s 12ms/step - loss: 0.1586 - accuracy: 0.9361 - val_loss: 0.5616 - val_accuracy: 0.8419\n",
      "Epoch 2/100\n"
     ]
    },
    {
     "data": {
      "application/vnd.jupyter.widget-view+json": {
       "model_id": "19f71113a0c643789fa7b2d73309aaac",
       "version_major": 2,
       "version_minor": 0
      },
      "text/plain": [
       "0/200                                                                 ETA: ?s - "
      ]
     },
     "metadata": {},
     "output_type": "display_data"
    },
    {
     "name": "stdout",
     "output_type": "stream",
     "text": [
      "Epoch 2/100\n",
      "200/200 [==============================] - 2s 10ms/step - loss: 0.1609 - accuracy: 0.9312 - val_loss: 0.6276 - val_accuracy: 0.8250\n",
      "Epoch 3/100\n"
     ]
    },
    {
     "data": {
      "application/vnd.jupyter.widget-view+json": {
       "model_id": "4a9e68c2c88442d98a62c4d1070f62c2",
       "version_major": 2,
       "version_minor": 0
      },
      "text/plain": [
       "0/200                                                                 ETA: ?s - "
      ]
     },
     "metadata": {},
     "output_type": "display_data"
    },
    {
     "name": "stdout",
     "output_type": "stream",
     "text": [
      "Epoch 3/100\n",
      "200/200 [==============================] - 2s 10ms/step - loss: 0.1619 - accuracy: 0.9312 - val_loss: 0.5439 - val_accuracy: 0.8375\n",
      "Epoch 4/100\n"
     ]
    },
    {
     "data": {
      "application/vnd.jupyter.widget-view+json": {
       "model_id": "b2e0baa3b13c491eb6e56c18d2a9d142",
       "version_major": 2,
       "version_minor": 0
      },
      "text/plain": [
       "0/200                                                                 ETA: ?s - "
      ]
     },
     "metadata": {},
     "output_type": "display_data"
    },
    {
     "name": "stdout",
     "output_type": "stream",
     "text": [
      "Epoch 4/100\n",
      "200/200 [==============================] - 2s 11ms/step - loss: 0.1568 - accuracy: 0.9300 - val_loss: 0.5911 - val_accuracy: 0.8225\n",
      "Epoch 5/100\n"
     ]
    },
    {
     "data": {
      "application/vnd.jupyter.widget-view+json": {
       "model_id": "f77a8f46826b40fcae391d78c69ca3aa",
       "version_major": 2,
       "version_minor": 0
      },
      "text/plain": [
       "0/200                                                                 ETA: ?s - "
      ]
     },
     "metadata": {},
     "output_type": "display_data"
    },
    {
     "name": "stdout",
     "output_type": "stream",
     "text": [
      "Epoch 5/100\n",
      "200/200 [==============================] - 2s 11ms/step - loss: 0.1457 - accuracy: 0.9336 - val_loss: 0.6006 - val_accuracy: 0.8363\n",
      "Epoch 6/100\n"
     ]
    },
    {
     "data": {
      "application/vnd.jupyter.widget-view+json": {
       "model_id": "6972300d8af94dcfa3911453e77bb646",
       "version_major": 2,
       "version_minor": 0
      },
      "text/plain": [
       "0/200                                                                 ETA: ?s - "
      ]
     },
     "metadata": {},
     "output_type": "display_data"
    },
    {
     "name": "stdout",
     "output_type": "stream",
     "text": [
      "Epoch 6/100\n",
      "200/200 [==============================] - 2s 10ms/step - loss: 0.1442 - accuracy: 0.9398 - val_loss: 0.6239 - val_accuracy: 0.8356\n",
      "Epoch 7/100\n"
     ]
    },
    {
     "data": {
      "application/vnd.jupyter.widget-view+json": {
       "model_id": "e8a49cba685c490391e911f2858c93d3",
       "version_major": 2,
       "version_minor": 0
      },
      "text/plain": [
       "0/200                                                                 ETA: ?s - "
      ]
     },
     "metadata": {},
     "output_type": "display_data"
    },
    {
     "name": "stdout",
     "output_type": "stream",
     "text": [
      "Epoch 7/100\n",
      "200/200 [==============================] - 2s 10ms/step - loss: 0.1363 - accuracy: 0.9427 - val_loss: 0.6740 - val_accuracy: 0.8338\n",
      "Epoch 8/100\n"
     ]
    },
    {
     "data": {
      "application/vnd.jupyter.widget-view+json": {
       "model_id": "a969e154541440ca8c7471c0e2afff64",
       "version_major": 2,
       "version_minor": 0
      },
      "text/plain": [
       "0/200                                                                 ETA: ?s - "
      ]
     },
     "metadata": {},
     "output_type": "display_data"
    },
    {
     "name": "stdout",
     "output_type": "stream",
     "text": [
      "Epoch 8/100\n",
      "200/200 [==============================] - 2s 11ms/step - loss: 0.1491 - accuracy: 0.9380 - val_loss: 0.6252 - val_accuracy: 0.8356\n",
      "Epoch 9/100\n"
     ]
    },
    {
     "data": {
      "application/vnd.jupyter.widget-view+json": {
       "model_id": "87c3b1753e5947cabd43fa487e268ec9",
       "version_major": 2,
       "version_minor": 0
      },
      "text/plain": [
       "0/200                                                                 ETA: ?s - "
      ]
     },
     "metadata": {},
     "output_type": "display_data"
    },
    {
     "name": "stdout",
     "output_type": "stream",
     "text": [
      "Epoch 9/100\n",
      "200/200 [==============================] - 2s 11ms/step - loss: 0.1405 - accuracy: 0.9434 - val_loss: 0.5128 - val_accuracy: 0.8425\n",
      "Epoch 10/100\n"
     ]
    },
    {
     "data": {
      "application/vnd.jupyter.widget-view+json": {
       "model_id": "8bd5f71a6ade49129c7af73d36686081",
       "version_major": 2,
       "version_minor": 0
      },
      "text/plain": [
       "0/200                                                                 ETA: ?s - "
      ]
     },
     "metadata": {},
     "output_type": "display_data"
    },
    {
     "name": "stdout",
     "output_type": "stream",
     "text": [
      "Epoch 10/100\n",
      "200/200 [==============================] - 2s 11ms/step - loss: 0.1278 - accuracy: 0.9456 - val_loss: 0.6841 - val_accuracy: 0.7713\n",
      "Epoch 11/100\n"
     ]
    },
    {
     "data": {
      "application/vnd.jupyter.widget-view+json": {
       "model_id": "4cfe59fea7744845b76623c135948d0e",
       "version_major": 2,
       "version_minor": 0
      },
      "text/plain": [
       "0/200                                                                 ETA: ?s - "
      ]
     },
     "metadata": {},
     "output_type": "display_data"
    },
    {
     "name": "stdout",
     "output_type": "stream",
     "text": [
      "Epoch 11/100\n",
      "200/200 [==============================] - 2s 11ms/step - loss: 0.1360 - accuracy: 0.9417 - val_loss: 0.6249 - val_accuracy: 0.8456\n",
      "Epoch 12/100\n"
     ]
    },
    {
     "data": {
      "application/vnd.jupyter.widget-view+json": {
       "model_id": "8b5347d40ca944cebe1af71dfbd59894",
       "version_major": 2,
       "version_minor": 0
      },
      "text/plain": [
       "0/200                                                                 ETA: ?s - "
      ]
     },
     "metadata": {},
     "output_type": "display_data"
    },
    {
     "name": "stdout",
     "output_type": "stream",
     "text": [
      "Epoch 12/100\n",
      "200/200 [==============================] - 2s 12ms/step - loss: 0.1263 - accuracy: 0.9444 - val_loss: 0.5733 - val_accuracy: 0.8263\n",
      "Epoch 13/100\n"
     ]
    },
    {
     "data": {
      "application/vnd.jupyter.widget-view+json": {
       "model_id": "067b23e2c3564fcd80cb980e01111794",
       "version_major": 2,
       "version_minor": 0
      },
      "text/plain": [
       "0/200                                                                 ETA: ?s - "
      ]
     },
     "metadata": {},
     "output_type": "display_data"
    },
    {
     "name": "stdout",
     "output_type": "stream",
     "text": [
      "Epoch 13/100\n",
      "200/200 [==============================] - 2s 11ms/step - loss: 0.1280 - accuracy: 0.9433 - val_loss: 0.6086 - val_accuracy: 0.8150\n",
      "Epoch 14/100\n"
     ]
    },
    {
     "data": {
      "application/vnd.jupyter.widget-view+json": {
       "model_id": "0b81bc4c29c04894a89b03dc90c3b508",
       "version_major": 2,
       "version_minor": 0
      },
      "text/plain": [
       "0/200                                                                 ETA: ?s - "
      ]
     },
     "metadata": {},
     "output_type": "display_data"
    },
    {
     "name": "stdout",
     "output_type": "stream",
     "text": [
      "Epoch 14/100\n",
      "200/200 [==============================] - 2s 12ms/step - loss: 0.1358 - accuracy: 0.9439 - val_loss: 0.6182 - val_accuracy: 0.8281\n",
      "Epoch 15/100\n"
     ]
    },
    {
     "data": {
      "application/vnd.jupyter.widget-view+json": {
       "model_id": "a9f5c0e9246e45b0a319dbe3165d8263",
       "version_major": 2,
       "version_minor": 0
      },
      "text/plain": [
       "0/200                                                                 ETA: ?s - "
      ]
     },
     "metadata": {},
     "output_type": "display_data"
    },
    {
     "name": "stdout",
     "output_type": "stream",
     "text": [
      "Epoch 15/100\n",
      "200/200 [==============================] - 2s 12ms/step - loss: 0.1171 - accuracy: 0.9517 - val_loss: 0.6224 - val_accuracy: 0.8363\n",
      "Epoch 16/100\n"
     ]
    },
    {
     "data": {
      "application/vnd.jupyter.widget-view+json": {
       "model_id": "fe620fcf688240c996e2b751dc7f11b2",
       "version_major": 2,
       "version_minor": 0
      },
      "text/plain": [
       "0/200                                                                 ETA: ?s - "
      ]
     },
     "metadata": {},
     "output_type": "display_data"
    },
    {
     "name": "stdout",
     "output_type": "stream",
     "text": [
      "Epoch 16/100\n",
      "200/200 [==============================] - 2s 12ms/step - loss: 0.1164 - accuracy: 0.9516 - val_loss: 0.6504 - val_accuracy: 0.8244\n",
      "Epoch 17/100\n"
     ]
    },
    {
     "data": {
      "application/vnd.jupyter.widget-view+json": {
       "model_id": "10a98b7036ab47d798aed5887d58733c",
       "version_major": 2,
       "version_minor": 0
      },
      "text/plain": [
       "0/200                                                                 ETA: ?s - "
      ]
     },
     "metadata": {},
     "output_type": "display_data"
    },
    {
     "name": "stdout",
     "output_type": "stream",
     "text": [
      "Epoch 17/100\n",
      "200/200 [==============================] - 2s 12ms/step - loss: 0.1178 - accuracy: 0.9508 - val_loss: 0.6598 - val_accuracy: 0.8375\n",
      "Epoch 18/100\n"
     ]
    },
    {
     "data": {
      "application/vnd.jupyter.widget-view+json": {
       "model_id": "16db91bbf7084e7aaa935729d41ad77c",
       "version_major": 2,
       "version_minor": 0
      },
      "text/plain": [
       "0/200                                                                 ETA: ?s - "
      ]
     },
     "metadata": {},
     "output_type": "display_data"
    },
    {
     "name": "stdout",
     "output_type": "stream",
     "text": [
      "Epoch 18/100\n",
      "200/200 [==============================] - 2s 12ms/step - loss: 0.1050 - accuracy: 0.9567 - val_loss: 0.6261 - val_accuracy: 0.8275\n",
      "Epoch 19/100\n"
     ]
    },
    {
     "data": {
      "application/vnd.jupyter.widget-view+json": {
       "model_id": "86ccda2d3879480ea8238b0a68f7d96a",
       "version_major": 2,
       "version_minor": 0
      },
      "text/plain": [
       "0/200                                                                 ETA: ?s - "
      ]
     },
     "metadata": {},
     "output_type": "display_data"
    },
    {
     "name": "stdout",
     "output_type": "stream",
     "text": [
      "Epoch 19/100\n",
      "200/200 [==============================] - 2s 10ms/step - loss: 0.1138 - accuracy: 0.9533 - val_loss: 0.6670 - val_accuracy: 0.8231\n",
      "Epoch 20/100\n"
     ]
    },
    {
     "data": {
      "application/vnd.jupyter.widget-view+json": {
       "model_id": "51c665807397404294d70d6170087d99",
       "version_major": 2,
       "version_minor": 0
      },
      "text/plain": [
       "0/200                                                                 ETA: ?s - "
      ]
     },
     "metadata": {},
     "output_type": "display_data"
    },
    {
     "name": "stdout",
     "output_type": "stream",
     "text": [
      "Epoch 20/100\n",
      "200/200 [==============================] - 2s 11ms/step - loss: 0.1152 - accuracy: 0.9520 - val_loss: 0.6524 - val_accuracy: 0.8356\n",
      "Epoch 21/100\n"
     ]
    },
    {
     "data": {
      "application/vnd.jupyter.widget-view+json": {
       "model_id": "2671982ee8a544d6bd9adcfcec7850d6",
       "version_major": 2,
       "version_minor": 0
      },
      "text/plain": [
       "0/200                                                                 ETA: ?s - "
      ]
     },
     "metadata": {},
     "output_type": "display_data"
    },
    {
     "name": "stdout",
     "output_type": "stream",
     "text": [
      "Epoch 21/100\n",
      "200/200 [==============================] - 2s 10ms/step - loss: 0.1066 - accuracy: 0.9569 - val_loss: 0.7221 - val_accuracy: 0.8363\n",
      "Epoch 22/100\n"
     ]
    },
    {
     "data": {
      "application/vnd.jupyter.widget-view+json": {
       "model_id": "b31d07db8f8445bab8361666d0b68655",
       "version_major": 2,
       "version_minor": 0
      },
      "text/plain": [
       "0/200                                                                 ETA: ?s - "
      ]
     },
     "metadata": {},
     "output_type": "display_data"
    },
    {
     "name": "stdout",
     "output_type": "stream",
     "text": [
      "Epoch 22/100\n",
      "200/200 [==============================] - 2s 10ms/step - loss: 0.0968 - accuracy: 0.9602 - val_loss: 0.6146 - val_accuracy: 0.8269\n",
      "Epoch 23/100\n"
     ]
    },
    {
     "data": {
      "application/vnd.jupyter.widget-view+json": {
       "model_id": "0f068d8b6bc74f44beb113a785bd9d52",
       "version_major": 2,
       "version_minor": 0
      },
      "text/plain": [
       "0/200                                                                 ETA: ?s - "
      ]
     },
     "metadata": {},
     "output_type": "display_data"
    },
    {
     "name": "stdout",
     "output_type": "stream",
     "text": [
      "Epoch 23/100\n",
      "200/200 [==============================] - 2s 10ms/step - loss: 0.0978 - accuracy: 0.9611 - val_loss: 0.5989 - val_accuracy: 0.8331\n",
      "Epoch 24/100\n"
     ]
    },
    {
     "data": {
      "application/vnd.jupyter.widget-view+json": {
       "model_id": "6217e3f852fb427cb4565eda192ffe51",
       "version_major": 2,
       "version_minor": 0
      },
      "text/plain": [
       "0/200                                                                 ETA: ?s - "
      ]
     },
     "metadata": {},
     "output_type": "display_data"
    },
    {
     "name": "stdout",
     "output_type": "stream",
     "text": [
      "Epoch 24/100\n",
      "200/200 [==============================] - 2s 10ms/step - loss: 0.0868 - accuracy: 0.9648 - val_loss: 0.6352 - val_accuracy: 0.8369\n",
      "Epoch 25/100\n"
     ]
    },
    {
     "data": {
      "application/vnd.jupyter.widget-view+json": {
       "model_id": "5db7ff7e3fc9484881ccdf11577444f5",
       "version_major": 2,
       "version_minor": 0
      },
      "text/plain": [
       "0/200                                                                 ETA: ?s - "
      ]
     },
     "metadata": {},
     "output_type": "display_data"
    },
    {
     "name": "stdout",
     "output_type": "stream",
     "text": [
      "Epoch 25/100\n",
      "200/200 [==============================] - 2s 11ms/step - loss: 0.1088 - accuracy: 0.9541 - val_loss: 0.6809 - val_accuracy: 0.8163\n",
      "Epoch 26/100\n"
     ]
    },
    {
     "data": {
      "application/vnd.jupyter.widget-view+json": {
       "model_id": "612ef3d4ed004775b0256260c94bf182",
       "version_major": 2,
       "version_minor": 0
      },
      "text/plain": [
       "0/200                                                                 ETA: ?s - "
      ]
     },
     "metadata": {},
     "output_type": "display_data"
    },
    {
     "name": "stdout",
     "output_type": "stream",
     "text": [
      "Epoch 26/100\n",
      "200/200 [==============================] - 2s 10ms/step - loss: 0.0953 - accuracy: 0.9609 - val_loss: 0.7672 - val_accuracy: 0.8394\n",
      "Epoch 27/100\n"
     ]
    },
    {
     "data": {
      "application/vnd.jupyter.widget-view+json": {
       "model_id": "6e8b5cd5a06249a59e7ae3aaf720f141",
       "version_major": 2,
       "version_minor": 0
      },
      "text/plain": [
       "0/200                                                                 ETA: ?s - "
      ]
     },
     "metadata": {},
     "output_type": "display_data"
    },
    {
     "name": "stdout",
     "output_type": "stream",
     "text": [
      "Epoch 27/100\n",
      "200/200 [==============================] - 2s 11ms/step - loss: 0.1027 - accuracy: 0.9570 - val_loss: 0.6364 - val_accuracy: 0.8331\n",
      "Epoch 28/100\n"
     ]
    },
    {
     "data": {
      "application/vnd.jupyter.widget-view+json": {
       "model_id": "fd314ff5d84c4f63a7cabf25b2254684",
       "version_major": 2,
       "version_minor": 0
      },
      "text/plain": [
       "0/200                                                                 ETA: ?s - "
      ]
     },
     "metadata": {},
     "output_type": "display_data"
    },
    {
     "name": "stdout",
     "output_type": "stream",
     "text": [
      "Epoch 28/100\n",
      "200/200 [==============================] - 2s 11ms/step - loss: 0.0877 - accuracy: 0.9653 - val_loss: 0.6977 - val_accuracy: 0.8338\n",
      "Epoch 29/100\n"
     ]
    },
    {
     "data": {
      "application/vnd.jupyter.widget-view+json": {
       "model_id": "e3c8551fb6564328a48f29aea4818c23",
       "version_major": 2,
       "version_minor": 0
      },
      "text/plain": [
       "0/200                                                                 ETA: ?s - "
      ]
     },
     "metadata": {},
     "output_type": "display_data"
    },
    {
     "name": "stdout",
     "output_type": "stream",
     "text": [
      "Epoch 29/100\n",
      "200/200 [==============================] - 2s 10ms/step - loss: 0.0927 - accuracy: 0.9652 - val_loss: 0.7912 - val_accuracy: 0.8344\n",
      "Epoch 30/100\n"
     ]
    },
    {
     "data": {
      "application/vnd.jupyter.widget-view+json": {
       "model_id": "ef4da47338ef49a7aeb9d80e0b1dfd83",
       "version_major": 2,
       "version_minor": 0
      },
      "text/plain": [
       "0/200                                                                 ETA: ?s - "
      ]
     },
     "metadata": {},
     "output_type": "display_data"
    },
    {
     "name": "stdout",
     "output_type": "stream",
     "text": [
      "Epoch 30/100\n",
      "200/200 [==============================] - 2s 11ms/step - loss: 0.0928 - accuracy: 0.9639 - val_loss: 0.7789 - val_accuracy: 0.8225\n",
      "Epoch 31/100\n"
     ]
    },
    {
     "data": {
      "application/vnd.jupyter.widget-view+json": {
       "model_id": "7250316f83f9435ba929d3d2e0bb7a61",
       "version_major": 2,
       "version_minor": 0
      },
      "text/plain": [
       "0/200                                                                 ETA: ?s - "
      ]
     },
     "metadata": {},
     "output_type": "display_data"
    },
    {
     "name": "stdout",
     "output_type": "stream",
     "text": [
      "Epoch 31/100\n",
      "200/200 [==============================] - 2s 10ms/step - loss: 0.0844 - accuracy: 0.9667 - val_loss: 0.7421 - val_accuracy: 0.8306\n",
      "Epoch 32/100\n"
     ]
    },
    {
     "data": {
      "application/vnd.jupyter.widget-view+json": {
       "model_id": "71d3a89050f74c9aad92c431d7d824e2",
       "version_major": 2,
       "version_minor": 0
      },
      "text/plain": [
       "0/200                                                                 ETA: ?s - "
      ]
     },
     "metadata": {},
     "output_type": "display_data"
    },
    {
     "name": "stdout",
     "output_type": "stream",
     "text": [
      "Epoch 32/100\n",
      "200/200 [==============================] - 2s 10ms/step - loss: 0.0867 - accuracy: 0.9661 - val_loss: 0.7808 - val_accuracy: 0.8306\n",
      "Epoch 33/100\n"
     ]
    },
    {
     "data": {
      "application/vnd.jupyter.widget-view+json": {
       "model_id": "02a28fd28706451f9d502addc66a666d",
       "version_major": 2,
       "version_minor": 0
      },
      "text/plain": [
       "0/200                                                                 ETA: ?s - "
      ]
     },
     "metadata": {},
     "output_type": "display_data"
    },
    {
     "name": "stdout",
     "output_type": "stream",
     "text": [
      "Epoch 33/100\n",
      "200/200 [==============================] - 2s 10ms/step - loss: 0.1017 - accuracy: 0.9598 - val_loss: 0.6193 - val_accuracy: 0.8206\n",
      "Epoch 34/100\n"
     ]
    },
    {
     "data": {
      "application/vnd.jupyter.widget-view+json": {
       "model_id": "e67c6a7e0bb24252aea493ad6a22bfc0",
       "version_major": 2,
       "version_minor": 0
      },
      "text/plain": [
       "0/200                                                                 ETA: ?s - "
      ]
     },
     "metadata": {},
     "output_type": "display_data"
    },
    {
     "name": "stdout",
     "output_type": "stream",
     "text": [
      "Epoch 34/100\n",
      "200/200 [==============================] - 2s 10ms/step - loss: 0.1018 - accuracy: 0.9583 - val_loss: 0.6186 - val_accuracy: 0.8275\n",
      "Epoch 35/100\n"
     ]
    },
    {
     "data": {
      "application/vnd.jupyter.widget-view+json": {
       "model_id": "247946c8b5c2485ba99d93d17f1f6f5d",
       "version_major": 2,
       "version_minor": 0
      },
      "text/plain": [
       "0/200                                                                 ETA: ?s - "
      ]
     },
     "metadata": {},
     "output_type": "display_data"
    },
    {
     "name": "stdout",
     "output_type": "stream",
     "text": [
      "Epoch 35/100\n",
      "200/200 [==============================] - 2s 11ms/step - loss: 0.0783 - accuracy: 0.9695 - val_loss: 0.7901 - val_accuracy: 0.8319\n",
      "Epoch 36/100\n"
     ]
    },
    {
     "data": {
      "application/vnd.jupyter.widget-view+json": {
       "model_id": "cd819888d0744eceb12717f6933457f3",
       "version_major": 2,
       "version_minor": 0
      },
      "text/plain": [
       "0/200                                                                 ETA: ?s - "
      ]
     },
     "metadata": {},
     "output_type": "display_data"
    },
    {
     "name": "stdout",
     "output_type": "stream",
     "text": [
      "Epoch 36/100\n",
      "200/200 [==============================] - 2s 10ms/step - loss: 0.0847 - accuracy: 0.9686 - val_loss: 0.8183 - val_accuracy: 0.8250\n",
      "Epoch 37/100\n"
     ]
    },
    {
     "data": {
      "application/vnd.jupyter.widget-view+json": {
       "model_id": "039e32c8edcd4711a362a160a884dcd0",
       "version_major": 2,
       "version_minor": 0
      },
      "text/plain": [
       "0/200                                                                 ETA: ?s - "
      ]
     },
     "metadata": {},
     "output_type": "display_data"
    },
    {
     "name": "stdout",
     "output_type": "stream",
     "text": [
      "Epoch 37/100\n",
      "200/200 [==============================] - 2s 10ms/step - loss: 0.0702 - accuracy: 0.9725 - val_loss: 0.8096 - val_accuracy: 0.8194\n",
      "Epoch 38/100\n"
     ]
    },
    {
     "data": {
      "application/vnd.jupyter.widget-view+json": {
       "model_id": "691c42aea470464db0a3dc6ec072ef86",
       "version_major": 2,
       "version_minor": 0
      },
      "text/plain": [
       "0/200                                                                 ETA: ?s - "
      ]
     },
     "metadata": {},
     "output_type": "display_data"
    },
    {
     "name": "stdout",
     "output_type": "stream",
     "text": [
      "Epoch 38/100\n",
      "200/200 [==============================] - 2s 10ms/step - loss: 0.0681 - accuracy: 0.9734 - val_loss: 0.9366 - val_accuracy: 0.8138\n",
      "Epoch 39/100\n"
     ]
    },
    {
     "data": {
      "application/vnd.jupyter.widget-view+json": {
       "model_id": "9406bdf6b5d344f4a28b8b9ae77bafab",
       "version_major": 2,
       "version_minor": 0
      },
      "text/plain": [
       "0/200                                                                 ETA: ?s - "
      ]
     },
     "metadata": {},
     "output_type": "display_data"
    },
    {
     "name": "stdout",
     "output_type": "stream",
     "text": [
      "Epoch 39/100\n",
      "200/200 [==============================] - 2s 10ms/step - loss: 0.0882 - accuracy: 0.9667 - val_loss: 0.7302 - val_accuracy: 0.8156\n",
      "Epoch 40/100\n"
     ]
    },
    {
     "data": {
      "application/vnd.jupyter.widget-view+json": {
       "model_id": "c5072a3165a24f4d979857259f598a42",
       "version_major": 2,
       "version_minor": 0
      },
      "text/plain": [
       "0/200                                                                 ETA: ?s - "
      ]
     },
     "metadata": {},
     "output_type": "display_data"
    },
    {
     "name": "stdout",
     "output_type": "stream",
     "text": [
      "Epoch 40/100\n",
      "200/200 [==============================] - 2s 10ms/step - loss: 0.0791 - accuracy: 0.9708 - val_loss: 0.6325 - val_accuracy: 0.8300\n",
      "Epoch 41/100\n"
     ]
    },
    {
     "data": {
      "application/vnd.jupyter.widget-view+json": {
       "model_id": "3775043744a34fe2b83e80d24e9dd6ff",
       "version_major": 2,
       "version_minor": 0
      },
      "text/plain": [
       "0/200                                                                 ETA: ?s - "
      ]
     },
     "metadata": {},
     "output_type": "display_data"
    },
    {
     "name": "stdout",
     "output_type": "stream",
     "text": [
      "Epoch 41/100\n",
      "200/200 [==============================] - 2s 10ms/step - loss: 0.0784 - accuracy: 0.9688 - val_loss: 0.7448 - val_accuracy: 0.8331\n",
      "Epoch 42/100\n"
     ]
    },
    {
     "data": {
      "application/vnd.jupyter.widget-view+json": {
       "model_id": "3f29e331efc04112b0e61327307bd146",
       "version_major": 2,
       "version_minor": 0
      },
      "text/plain": [
       "0/200                                                                 ETA: ?s - "
      ]
     },
     "metadata": {},
     "output_type": "display_data"
    },
    {
     "name": "stdout",
     "output_type": "stream",
     "text": [
      "Epoch 42/100\n",
      "200/200 [==============================] - 2s 10ms/step - loss: 0.0598 - accuracy: 0.9759 - val_loss: 0.8262 - val_accuracy: 0.8188\n",
      "Epoch 43/100\n"
     ]
    },
    {
     "data": {
      "application/vnd.jupyter.widget-view+json": {
       "model_id": "dc6da3e73e894035b33e391e4c10a5e4",
       "version_major": 2,
       "version_minor": 0
      },
      "text/plain": [
       "0/200                                                                 ETA: ?s - "
      ]
     },
     "metadata": {},
     "output_type": "display_data"
    },
    {
     "name": "stdout",
     "output_type": "stream",
     "text": [
      "Epoch 43/100\n",
      "200/200 [==============================] - 2s 10ms/step - loss: 0.0752 - accuracy: 0.9692 - val_loss: 0.8503 - val_accuracy: 0.8219\n",
      "Epoch 44/100\n"
     ]
    },
    {
     "data": {
      "application/vnd.jupyter.widget-view+json": {
       "model_id": "876199efb1b14d4db2be7de4b64f4b15",
       "version_major": 2,
       "version_minor": 0
      },
      "text/plain": [
       "0/200                                                                 ETA: ?s - "
      ]
     },
     "metadata": {},
     "output_type": "display_data"
    },
    {
     "name": "stdout",
     "output_type": "stream",
     "text": [
      "Epoch 44/100\n",
      "200/200 [==============================] - 2s 11ms/step - loss: 0.0787 - accuracy: 0.9692 - val_loss: 0.7754 - val_accuracy: 0.8325\n",
      "Epoch 45/100\n"
     ]
    },
    {
     "data": {
      "application/vnd.jupyter.widget-view+json": {
       "model_id": "63e5591fa42746358f8dda76b7306500",
       "version_major": 2,
       "version_minor": 0
      },
      "text/plain": [
       "0/200                                                                 ETA: ?s - "
      ]
     },
     "metadata": {},
     "output_type": "display_data"
    },
    {
     "name": "stdout",
     "output_type": "stream",
     "text": [
      "Epoch 45/100\n",
      "200/200 [==============================] - 2s 10ms/step - loss: 0.0646 - accuracy: 0.9741 - val_loss: 0.7046 - val_accuracy: 0.8188\n",
      "Epoch 46/100\n"
     ]
    },
    {
     "data": {
      "application/vnd.jupyter.widget-view+json": {
       "model_id": "ffb5100d812443e4912082abc19e8b59",
       "version_major": 2,
       "version_minor": 0
      },
      "text/plain": [
       "0/200                                                                 ETA: ?s - "
      ]
     },
     "metadata": {},
     "output_type": "display_data"
    },
    {
     "name": "stdout",
     "output_type": "stream",
     "text": [
      "Epoch 46/100\n",
      "200/200 [==============================] - 2s 10ms/step - loss: 0.0691 - accuracy: 0.9744 - val_loss: 0.7171 - val_accuracy: 0.8325\n",
      "Epoch 47/100\n"
     ]
    },
    {
     "data": {
      "application/vnd.jupyter.widget-view+json": {
       "model_id": "b6d8b4c6cc6d4a74ab4f7ca243e2a789",
       "version_major": 2,
       "version_minor": 0
      },
      "text/plain": [
       "0/200                                                                 ETA: ?s - "
      ]
     },
     "metadata": {},
     "output_type": "display_data"
    },
    {
     "name": "stdout",
     "output_type": "stream",
     "text": [
      "Epoch 47/100\n",
      "200/200 [==============================] - 2s 10ms/step - loss: 0.0634 - accuracy: 0.9780 - val_loss: 0.7216 - val_accuracy: 0.8294\n",
      "Epoch 48/100\n"
     ]
    },
    {
     "data": {
      "application/vnd.jupyter.widget-view+json": {
       "model_id": "4410149c10c440fe8aedc8da12e36d44",
       "version_major": 2,
       "version_minor": 0
      },
      "text/plain": [
       "0/200                                                                 ETA: ?s - "
      ]
     },
     "metadata": {},
     "output_type": "display_data"
    },
    {
     "name": "stdout",
     "output_type": "stream",
     "text": [
      "Epoch 48/100\n",
      "200/200 [==============================] - 2s 10ms/step - loss: 0.0533 - accuracy: 0.9812 - val_loss: 0.8328 - val_accuracy: 0.8256\n",
      "Epoch 49/100\n"
     ]
    },
    {
     "data": {
      "application/vnd.jupyter.widget-view+json": {
       "model_id": "667da4434fe3449fa4c8a635f77e3a02",
       "version_major": 2,
       "version_minor": 0
      },
      "text/plain": [
       "0/200                                                                 ETA: ?s - "
      ]
     },
     "metadata": {},
     "output_type": "display_data"
    },
    {
     "name": "stdout",
     "output_type": "stream",
     "text": [
      "Epoch 49/100\n",
      "200/200 [==============================] - 2s 10ms/step - loss: 0.0675 - accuracy: 0.9772 - val_loss: 0.7871 - val_accuracy: 0.8169\n",
      "Epoch 50/100\n"
     ]
    },
    {
     "data": {
      "application/vnd.jupyter.widget-view+json": {
       "model_id": "cc2a71d0b8e4401e85fb659734175026",
       "version_major": 2,
       "version_minor": 0
      },
      "text/plain": [
       "0/200                                                                 ETA: ?s - "
      ]
     },
     "metadata": {},
     "output_type": "display_data"
    },
    {
     "name": "stdout",
     "output_type": "stream",
     "text": [
      "Epoch 50/100\n",
      "200/200 [==============================] - 2s 10ms/step - loss: 0.0648 - accuracy: 0.9737 - val_loss: 0.7832 - val_accuracy: 0.8138\n",
      "Epoch 51/100\n"
     ]
    },
    {
     "data": {
      "application/vnd.jupyter.widget-view+json": {
       "model_id": "27620b11494b4445af6180154048a4eb",
       "version_major": 2,
       "version_minor": 0
      },
      "text/plain": [
       "0/200                                                                 ETA: ?s - "
      ]
     },
     "metadata": {},
     "output_type": "display_data"
    },
    {
     "name": "stdout",
     "output_type": "stream",
     "text": [
      "Epoch 51/100\n",
      "200/200 [==============================] - 2s 11ms/step - loss: 0.0684 - accuracy: 0.9758 - val_loss: 0.8779 - val_accuracy: 0.8256\n",
      "Epoch 52/100\n"
     ]
    },
    {
     "data": {
      "application/vnd.jupyter.widget-view+json": {
       "model_id": "efac0e040e4d4b20bf3bd59f18690577",
       "version_major": 2,
       "version_minor": 0
      },
      "text/plain": [
       "0/200                                                                 ETA: ?s - "
      ]
     },
     "metadata": {},
     "output_type": "display_data"
    },
    {
     "name": "stdout",
     "output_type": "stream",
     "text": [
      "Epoch 52/100\n",
      "200/200 [==============================] - 2s 10ms/step - loss: 0.0584 - accuracy: 0.9781 - val_loss: 0.7548 - val_accuracy: 0.8294\n",
      "Epoch 53/100\n"
     ]
    },
    {
     "data": {
      "application/vnd.jupyter.widget-view+json": {
       "model_id": "a8f6a2a6e9d444fabd49ab748ae4c43b",
       "version_major": 2,
       "version_minor": 0
      },
      "text/plain": [
       "0/200                                                                 ETA: ?s - "
      ]
     },
     "metadata": {},
     "output_type": "display_data"
    },
    {
     "name": "stdout",
     "output_type": "stream",
     "text": [
      "Epoch 53/100\n",
      "200/200 [==============================] - 2s 10ms/step - loss: 0.0600 - accuracy: 0.9767 - val_loss: 0.9163 - val_accuracy: 0.8263\n",
      "Epoch 54/100\n"
     ]
    },
    {
     "data": {
      "application/vnd.jupyter.widget-view+json": {
       "model_id": "c04ccecb267143ceb60cd3f52225709e",
       "version_major": 2,
       "version_minor": 0
      },
      "text/plain": [
       "0/200                                                                 ETA: ?s - "
      ]
     },
     "metadata": {},
     "output_type": "display_data"
    },
    {
     "name": "stdout",
     "output_type": "stream",
     "text": [
      "Epoch 54/100\n",
      "200/200 [==============================] - 2s 10ms/step - loss: 0.0538 - accuracy: 0.9794 - val_loss: 0.9142 - val_accuracy: 0.8275\n",
      "Epoch 55/100\n"
     ]
    },
    {
     "data": {
      "application/vnd.jupyter.widget-view+json": {
       "model_id": "d1ddd6e926a946c08d3ea18acca5937a",
       "version_major": 2,
       "version_minor": 0
      },
      "text/plain": [
       "0/200                                                                 ETA: ?s - "
      ]
     },
     "metadata": {},
     "output_type": "display_data"
    },
    {
     "name": "stdout",
     "output_type": "stream",
     "text": [
      "Epoch 55/100\n",
      "200/200 [==============================] - 2s 10ms/step - loss: 0.0566 - accuracy: 0.9808 - val_loss: 0.8328 - val_accuracy: 0.8194\n",
      "Epoch 56/100\n"
     ]
    },
    {
     "data": {
      "application/vnd.jupyter.widget-view+json": {
       "model_id": "43f7ba42231f4d84befb1e1a9b07bf51",
       "version_major": 2,
       "version_minor": 0
      },
      "text/plain": [
       "0/200                                                                 ETA: ?s - "
      ]
     },
     "metadata": {},
     "output_type": "display_data"
    },
    {
     "name": "stdout",
     "output_type": "stream",
     "text": [
      "Epoch 56/100\n",
      "200/200 [==============================] - 2s 10ms/step - loss: 0.0659 - accuracy: 0.9753 - val_loss: 0.8926 - val_accuracy: 0.8213\n",
      "Epoch 57/100\n"
     ]
    },
    {
     "data": {
      "application/vnd.jupyter.widget-view+json": {
       "model_id": "95e1aa7abe2646f296499816e3035ff9",
       "version_major": 2,
       "version_minor": 0
      },
      "text/plain": [
       "0/200                                                                 ETA: ?s - "
      ]
     },
     "metadata": {},
     "output_type": "display_data"
    },
    {
     "name": "stdout",
     "output_type": "stream",
     "text": [
      "Epoch 57/100\n",
      "200/200 [==============================] - 2s 10ms/step - loss: 0.0520 - accuracy: 0.9820 - val_loss: 0.9733 - val_accuracy: 0.8238\n",
      "Epoch 58/100\n"
     ]
    },
    {
     "data": {
      "application/vnd.jupyter.widget-view+json": {
       "model_id": "8e820c39f50149a79a83784ab0ee4360",
       "version_major": 2,
       "version_minor": 0
      },
      "text/plain": [
       "0/200                                                                 ETA: ?s - "
      ]
     },
     "metadata": {},
     "output_type": "display_data"
    },
    {
     "name": "stdout",
     "output_type": "stream",
     "text": [
      "Epoch 58/100\n",
      "200/200 [==============================] - 2s 10ms/step - loss: 0.0508 - accuracy: 0.9806 - val_loss: 0.9539 - val_accuracy: 0.8188\n",
      "Epoch 59/100\n"
     ]
    },
    {
     "data": {
      "application/vnd.jupyter.widget-view+json": {
       "model_id": "3bffee62fcbe429b909ce4e8d603f1f9",
       "version_major": 2,
       "version_minor": 0
      },
      "text/plain": [
       "0/200                                                                 ETA: ?s - "
      ]
     },
     "metadata": {},
     "output_type": "display_data"
    },
    {
     "name": "stdout",
     "output_type": "stream",
     "text": [
      "Epoch 59/100\n",
      "200/200 [==============================] - 2s 10ms/step - loss: 0.0439 - accuracy: 0.9837 - val_loss: 0.8748 - val_accuracy: 0.8075\n",
      "Epoch 60/100\n"
     ]
    },
    {
     "data": {
      "application/vnd.jupyter.widget-view+json": {
       "model_id": "840f6d64cb65430abcc87f4c6464f3eb",
       "version_major": 2,
       "version_minor": 0
      },
      "text/plain": [
       "0/200                                                                 ETA: ?s - "
      ]
     },
     "metadata": {},
     "output_type": "display_data"
    },
    {
     "name": "stdout",
     "output_type": "stream",
     "text": [
      "Epoch 60/100\n",
      "200/200 [==============================] - 2s 10ms/step - loss: 0.0759 - accuracy: 0.9698 - val_loss: 0.8311 - val_accuracy: 0.8175\n",
      "Epoch 61/100\n"
     ]
    },
    {
     "data": {
      "application/vnd.jupyter.widget-view+json": {
       "model_id": "fad435a4621d470a8f2fe2331be41ad8",
       "version_major": 2,
       "version_minor": 0
      },
      "text/plain": [
       "0/200                                                                 ETA: ?s - "
      ]
     },
     "metadata": {},
     "output_type": "display_data"
    },
    {
     "name": "stdout",
     "output_type": "stream",
     "text": [
      "Epoch 61/100\n",
      "200/200 [==============================] - 2s 10ms/step - loss: 0.0747 - accuracy: 0.9723 - val_loss: 0.7274 - val_accuracy: 0.8275\n",
      "Epoch 62/100\n"
     ]
    },
    {
     "data": {
      "application/vnd.jupyter.widget-view+json": {
       "model_id": "e51e339b37e541718f08b9ae136cc738",
       "version_major": 2,
       "version_minor": 0
      },
      "text/plain": [
       "0/200                                                                 ETA: ?s - "
      ]
     },
     "metadata": {},
     "output_type": "display_data"
    },
    {
     "name": "stdout",
     "output_type": "stream",
     "text": [
      "Epoch 62/100\n",
      "200/200 [==============================] - 2s 10ms/step - loss: 0.0538 - accuracy: 0.9797 - val_loss: 0.8973 - val_accuracy: 0.8206\n",
      "Epoch 63/100\n"
     ]
    },
    {
     "data": {
      "application/vnd.jupyter.widget-view+json": {
       "model_id": "a6ca830914394679a61379687cf9155f",
       "version_major": 2,
       "version_minor": 0
      },
      "text/plain": [
       "0/200                                                                 ETA: ?s - "
      ]
     },
     "metadata": {},
     "output_type": "display_data"
    },
    {
     "name": "stdout",
     "output_type": "stream",
     "text": [
      "Epoch 63/100\n",
      "200/200 [==============================] - 2s 10ms/step - loss: 0.0627 - accuracy: 0.9798 - val_loss: 0.8767 - val_accuracy: 0.8288\n",
      "Epoch 64/100\n"
     ]
    },
    {
     "data": {
      "application/vnd.jupyter.widget-view+json": {
       "model_id": "b3ec74b546f7445280f3458847dba0d9",
       "version_major": 2,
       "version_minor": 0
      },
      "text/plain": [
       "0/200                                                                 ETA: ?s - "
      ]
     },
     "metadata": {},
     "output_type": "display_data"
    },
    {
     "name": "stdout",
     "output_type": "stream",
     "text": [
      "Epoch 64/100\n",
      "200/200 [==============================] - 2s 10ms/step - loss: 0.0491 - accuracy: 0.9822 - val_loss: 0.7888 - val_accuracy: 0.8338\n",
      "Epoch 65/100\n"
     ]
    },
    {
     "data": {
      "application/vnd.jupyter.widget-view+json": {
       "model_id": "fbdfe7f405cc4717978f6d92a17d9ef4",
       "version_major": 2,
       "version_minor": 0
      },
      "text/plain": [
       "0/200                                                                 ETA: ?s - "
      ]
     },
     "metadata": {},
     "output_type": "display_data"
    },
    {
     "name": "stdout",
     "output_type": "stream",
     "text": [
      "Epoch 65/100\n",
      "200/200 [==============================] - 2s 10ms/step - loss: 0.0488 - accuracy: 0.9812 - val_loss: 0.9109 - val_accuracy: 0.8331\n",
      "Epoch 66/100\n"
     ]
    },
    {
     "data": {
      "application/vnd.jupyter.widget-view+json": {
       "model_id": "951d7a4c4b2e4bd69c98604852d74e7b",
       "version_major": 2,
       "version_minor": 0
      },
      "text/plain": [
       "0/200                                                                 ETA: ?s - "
      ]
     },
     "metadata": {},
     "output_type": "display_data"
    },
    {
     "name": "stdout",
     "output_type": "stream",
     "text": [
      "Epoch 66/100\n",
      "200/200 [==============================] - 2s 10ms/step - loss: 0.0588 - accuracy: 0.9778 - val_loss: 0.8520 - val_accuracy: 0.8275\n",
      "Epoch 67/100\n"
     ]
    },
    {
     "data": {
      "application/vnd.jupyter.widget-view+json": {
       "model_id": "e750e1b587574a07bcd81a63dd5f6cc8",
       "version_major": 2,
       "version_minor": 0
      },
      "text/plain": [
       "0/200                                                                 ETA: ?s - "
      ]
     },
     "metadata": {},
     "output_type": "display_data"
    },
    {
     "name": "stdout",
     "output_type": "stream",
     "text": [
      "Epoch 67/100\n",
      "200/200 [==============================] - 2s 10ms/step - loss: 0.0608 - accuracy: 0.9762 - val_loss: 0.7091 - val_accuracy: 0.8156\n",
      "Epoch 68/100\n"
     ]
    },
    {
     "data": {
      "application/vnd.jupyter.widget-view+json": {
       "model_id": "2ea3fb792e7942289ce8fc6b3ebca040",
       "version_major": 2,
       "version_minor": 0
      },
      "text/plain": [
       "0/200                                                                 ETA: ?s - "
      ]
     },
     "metadata": {},
     "output_type": "display_data"
    },
    {
     "name": "stdout",
     "output_type": "stream",
     "text": [
      "Epoch 68/100\n",
      "200/200 [==============================] - 2s 10ms/step - loss: 0.0408 - accuracy: 0.9855 - val_loss: 0.9430 - val_accuracy: 0.8213\n",
      "Epoch 69/100\n"
     ]
    },
    {
     "data": {
      "application/vnd.jupyter.widget-view+json": {
       "model_id": "8161cd5b074d4626bab32810e229f134",
       "version_major": 2,
       "version_minor": 0
      },
      "text/plain": [
       "0/200                                                                 ETA: ?s - "
      ]
     },
     "metadata": {},
     "output_type": "display_data"
    },
    {
     "name": "stdout",
     "output_type": "stream",
     "text": [
      "Epoch 69/100\n",
      "200/200 [==============================] - 2s 10ms/step - loss: 0.0583 - accuracy: 0.9811 - val_loss: 0.8121 - val_accuracy: 0.8331\n",
      "Epoch 70/100\n"
     ]
    },
    {
     "data": {
      "application/vnd.jupyter.widget-view+json": {
       "model_id": "aa8b172eec2a45df9f43e6102588c372",
       "version_major": 2,
       "version_minor": 0
      },
      "text/plain": [
       "0/200                                                                 ETA: ?s - "
      ]
     },
     "metadata": {},
     "output_type": "display_data"
    },
    {
     "name": "stdout",
     "output_type": "stream",
     "text": [
      "Epoch 70/100\n",
      "200/200 [==============================] - 2s 10ms/step - loss: 0.0420 - accuracy: 0.9862 - val_loss: 0.9302 - val_accuracy: 0.8325\n",
      "Epoch 71/100\n"
     ]
    },
    {
     "data": {
      "application/vnd.jupyter.widget-view+json": {
       "model_id": "7c10156f13e44aa1bea21f19324c58ed",
       "version_major": 2,
       "version_minor": 0
      },
      "text/plain": [
       "0/200                                                                 ETA: ?s - "
      ]
     },
     "metadata": {},
     "output_type": "display_data"
    },
    {
     "name": "stdout",
     "output_type": "stream",
     "text": [
      "Epoch 71/100\n",
      "200/200 [==============================] - 2s 10ms/step - loss: 0.0849 - accuracy: 0.9684 - val_loss: 0.7603 - val_accuracy: 0.8331\n",
      "Epoch 72/100\n"
     ]
    },
    {
     "data": {
      "application/vnd.jupyter.widget-view+json": {
       "model_id": "2cf56b52a4014019b53443fa81706684",
       "version_major": 2,
       "version_minor": 0
      },
      "text/plain": [
       "0/200                                                                 ETA: ?s - "
      ]
     },
     "metadata": {},
     "output_type": "display_data"
    },
    {
     "name": "stdout",
     "output_type": "stream",
     "text": [
      "Epoch 72/100\n",
      "200/200 [==============================] - 2s 10ms/step - loss: 0.0589 - accuracy: 0.9787 - val_loss: 0.8556 - val_accuracy: 0.8269\n",
      "Epoch 73/100\n"
     ]
    },
    {
     "data": {
      "application/vnd.jupyter.widget-view+json": {
       "model_id": "4e5e5270ac4945f4a569986695bde3f9",
       "version_major": 2,
       "version_minor": 0
      },
      "text/plain": [
       "0/200                                                                 ETA: ?s - "
      ]
     },
     "metadata": {},
     "output_type": "display_data"
    },
    {
     "name": "stdout",
     "output_type": "stream",
     "text": [
      "Epoch 73/100\n",
      "200/200 [==============================] - 2s 10ms/step - loss: 0.0361 - accuracy: 0.9867 - val_loss: 0.9577 - val_accuracy: 0.8188\n",
      "Epoch 74/100\n"
     ]
    },
    {
     "data": {
      "application/vnd.jupyter.widget-view+json": {
       "model_id": "7e24957468c548e9a35ce6a3dd74e4e3",
       "version_major": 2,
       "version_minor": 0
      },
      "text/plain": [
       "0/200                                                                 ETA: ?s - "
      ]
     },
     "metadata": {},
     "output_type": "display_data"
    },
    {
     "name": "stdout",
     "output_type": "stream",
     "text": [
      "Epoch 74/100\n",
      "200/200 [==============================] - 2s 10ms/step - loss: 0.0545 - accuracy: 0.9811 - val_loss: 0.9442 - val_accuracy: 0.8263\n",
      "Epoch 75/100\n"
     ]
    },
    {
     "data": {
      "application/vnd.jupyter.widget-view+json": {
       "model_id": "9f993ffd5b6744469e97951dc74a3ad4",
       "version_major": 2,
       "version_minor": 0
      },
      "text/plain": [
       "0/200                                                                 ETA: ?s - "
      ]
     },
     "metadata": {},
     "output_type": "display_data"
    },
    {
     "name": "stdout",
     "output_type": "stream",
     "text": [
      "Epoch 75/100\n",
      "200/200 [==============================] - 2s 10ms/step - loss: 0.0540 - accuracy: 0.9786 - val_loss: 0.8016 - val_accuracy: 0.8256\n",
      "Epoch 76/100\n"
     ]
    },
    {
     "data": {
      "application/vnd.jupyter.widget-view+json": {
       "model_id": "49b34d4fedbc4054b8e20f365499e234",
       "version_major": 2,
       "version_minor": 0
      },
      "text/plain": [
       "0/200                                                                 ETA: ?s - "
      ]
     },
     "metadata": {},
     "output_type": "display_data"
    },
    {
     "name": "stdout",
     "output_type": "stream",
     "text": [
      "Epoch 76/100\n",
      "200/200 [==============================] - 2s 10ms/step - loss: 0.0501 - accuracy: 0.9822 - val_loss: 0.8135 - val_accuracy: 0.8381\n",
      "Epoch 77/100\n"
     ]
    },
    {
     "data": {
      "application/vnd.jupyter.widget-view+json": {
       "model_id": "d5a903cbee7f442abcb4374f2aa92d97",
       "version_major": 2,
       "version_minor": 0
      },
      "text/plain": [
       "0/200                                                                 ETA: ?s - "
      ]
     },
     "metadata": {},
     "output_type": "display_data"
    },
    {
     "name": "stdout",
     "output_type": "stream",
     "text": [
      "Epoch 77/100\n",
      "200/200 [==============================] - 2s 10ms/step - loss: 0.0433 - accuracy: 0.9845 - val_loss: 0.9422 - val_accuracy: 0.8244\n",
      "Epoch 78/100\n"
     ]
    },
    {
     "data": {
      "application/vnd.jupyter.widget-view+json": {
       "model_id": "f5e2a44ecbd34d7991f6fa80701130df",
       "version_major": 2,
       "version_minor": 0
      },
      "text/plain": [
       "0/200                                                                 ETA: ?s - "
      ]
     },
     "metadata": {},
     "output_type": "display_data"
    },
    {
     "name": "stdout",
     "output_type": "stream",
     "text": [
      "Epoch 78/100\n",
      "200/200 [==============================] - 2s 10ms/step - loss: 0.0438 - accuracy: 0.9853 - val_loss: 0.9161 - val_accuracy: 0.8269\n",
      "Epoch 79/100\n"
     ]
    },
    {
     "data": {
      "application/vnd.jupyter.widget-view+json": {
       "model_id": "887a26b37ec44354a84f0ee06355fb71",
       "version_major": 2,
       "version_minor": 0
      },
      "text/plain": [
       "0/200                                                                 ETA: ?s - "
      ]
     },
     "metadata": {},
     "output_type": "display_data"
    },
    {
     "name": "stdout",
     "output_type": "stream",
     "text": [
      "Epoch 79/100\n",
      "200/200 [==============================] - 2s 10ms/step - loss: 0.0408 - accuracy: 0.9867 - val_loss: 0.9874 - val_accuracy: 0.8269\n",
      "Epoch 80/100\n"
     ]
    },
    {
     "data": {
      "application/vnd.jupyter.widget-view+json": {
       "model_id": "144423cb99b2480db479b20ea2c95707",
       "version_major": 2,
       "version_minor": 0
      },
      "text/plain": [
       "0/200                                                                 ETA: ?s - "
      ]
     },
     "metadata": {},
     "output_type": "display_data"
    },
    {
     "name": "stdout",
     "output_type": "stream",
     "text": [
      "Epoch 80/100\n",
      "200/200 [==============================] - 2s 10ms/step - loss: 0.0460 - accuracy: 0.9831 - val_loss: 0.7994 - val_accuracy: 0.8281\n",
      "Epoch 81/100\n"
     ]
    },
    {
     "data": {
      "application/vnd.jupyter.widget-view+json": {
       "model_id": "95d58c2f61cc4d18a820cee2ef4352af",
       "version_major": 2,
       "version_minor": 0
      },
      "text/plain": [
       "0/200                                                                 ETA: ?s - "
      ]
     },
     "metadata": {},
     "output_type": "display_data"
    },
    {
     "name": "stdout",
     "output_type": "stream",
     "text": [
      "Epoch 81/100\n",
      "200/200 [==============================] - 2s 10ms/step - loss: 0.0307 - accuracy: 0.9894 - val_loss: 1.0310 - val_accuracy: 0.8294\n",
      "Epoch 82/100\n"
     ]
    },
    {
     "data": {
      "application/vnd.jupyter.widget-view+json": {
       "model_id": "4e64d7c86c094915a4249cc579e4da31",
       "version_major": 2,
       "version_minor": 0
      },
      "text/plain": [
       "0/200                                                                 ETA: ?s - "
      ]
     },
     "metadata": {},
     "output_type": "display_data"
    },
    {
     "name": "stdout",
     "output_type": "stream",
     "text": [
      "Epoch 82/100\n",
      "200/200 [==============================] - 2s 10ms/step - loss: 0.0476 - accuracy: 0.9841 - val_loss: 0.8767 - val_accuracy: 0.8219\n",
      "Epoch 83/100\n"
     ]
    },
    {
     "data": {
      "application/vnd.jupyter.widget-view+json": {
       "model_id": "7b36a8bd6c8b4fb1b02a64203d8cf6a7",
       "version_major": 2,
       "version_minor": 0
      },
      "text/plain": [
       "0/200                                                                 ETA: ?s - "
      ]
     },
     "metadata": {},
     "output_type": "display_data"
    },
    {
     "name": "stdout",
     "output_type": "stream",
     "text": [
      "Epoch 83/100\n",
      "200/200 [==============================] - 2s 10ms/step - loss: 0.0474 - accuracy: 0.9811 - val_loss: 0.8146 - val_accuracy: 0.8206\n",
      "Epoch 84/100\n"
     ]
    },
    {
     "data": {
      "application/vnd.jupyter.widget-view+json": {
       "model_id": "d4a3db0333af43c3b46cc25b075e95c5",
       "version_major": 2,
       "version_minor": 0
      },
      "text/plain": [
       "0/200                                                                 ETA: ?s - "
      ]
     },
     "metadata": {},
     "output_type": "display_data"
    },
    {
     "name": "stdout",
     "output_type": "stream",
     "text": [
      "Epoch 84/100\n",
      "200/200 [==============================] - 2s 10ms/step - loss: 0.0385 - accuracy: 0.9862 - val_loss: 0.8320 - val_accuracy: 0.8156\n",
      "Epoch 85/100\n"
     ]
    },
    {
     "data": {
      "application/vnd.jupyter.widget-view+json": {
       "model_id": "e6ecda0c5d364c49a39b969c4cf13d35",
       "version_major": 2,
       "version_minor": 0
      },
      "text/plain": [
       "0/200                                                                 ETA: ?s - "
      ]
     },
     "metadata": {},
     "output_type": "display_data"
    },
    {
     "name": "stdout",
     "output_type": "stream",
     "text": [
      "Epoch 85/100\n",
      "200/200 [==============================] - 2s 10ms/step - loss: 0.0410 - accuracy: 0.9842 - val_loss: 0.9892 - val_accuracy: 0.8275\n",
      "Epoch 86/100\n"
     ]
    },
    {
     "data": {
      "application/vnd.jupyter.widget-view+json": {
       "model_id": "aa37e1a9f8b446439ac23c91aa574982",
       "version_major": 2,
       "version_minor": 0
      },
      "text/plain": [
       "0/200                                                                 ETA: ?s - "
      ]
     },
     "metadata": {},
     "output_type": "display_data"
    },
    {
     "name": "stdout",
     "output_type": "stream",
     "text": [
      "Epoch 86/100\n",
      "200/200 [==============================] - 2s 10ms/step - loss: 0.0479 - accuracy: 0.9825 - val_loss: 0.8635 - val_accuracy: 0.8156\n",
      "Epoch 87/100\n"
     ]
    },
    {
     "data": {
      "application/vnd.jupyter.widget-view+json": {
       "model_id": "7c9c4f007bed422d8a53c454044584af",
       "version_major": 2,
       "version_minor": 0
      },
      "text/plain": [
       "0/200                                                                 ETA: ?s - "
      ]
     },
     "metadata": {},
     "output_type": "display_data"
    },
    {
     "name": "stdout",
     "output_type": "stream",
     "text": [
      "Epoch 87/100\n",
      "200/200 [==============================] - 2s 10ms/step - loss: 0.0399 - accuracy: 0.9853 - val_loss: 0.9164 - val_accuracy: 0.8319\n",
      "Epoch 88/100\n"
     ]
    },
    {
     "data": {
      "application/vnd.jupyter.widget-view+json": {
       "model_id": "41babd179d844741b3b9e2800439ceef",
       "version_major": 2,
       "version_minor": 0
      },
      "text/plain": [
       "0/200                                                                 ETA: ?s - "
      ]
     },
     "metadata": {},
     "output_type": "display_data"
    },
    {
     "name": "stdout",
     "output_type": "stream",
     "text": [
      "Epoch 88/100\n",
      "200/200 [==============================] - 2s 10ms/step - loss: 0.0764 - accuracy: 0.9733 - val_loss: 0.8125 - val_accuracy: 0.8156\n",
      "Epoch 89/100\n"
     ]
    },
    {
     "data": {
      "application/vnd.jupyter.widget-view+json": {
       "model_id": "d31f3a1f157d485f8404fe7536dd98d0",
       "version_major": 2,
       "version_minor": 0
      },
      "text/plain": [
       "0/200                                                                 ETA: ?s - "
      ]
     },
     "metadata": {},
     "output_type": "display_data"
    },
    {
     "name": "stdout",
     "output_type": "stream",
     "text": [
      "Epoch 89/100\n",
      "200/200 [==============================] - 2s 10ms/step - loss: 0.0402 - accuracy: 0.9847 - val_loss: 0.9706 - val_accuracy: 0.8169\n",
      "Epoch 90/100\n"
     ]
    },
    {
     "data": {
      "application/vnd.jupyter.widget-view+json": {
       "model_id": "e8ed807197e14c0bb95de69c82083774",
       "version_major": 2,
       "version_minor": 0
      },
      "text/plain": [
       "0/200                                                                 ETA: ?s - "
      ]
     },
     "metadata": {},
     "output_type": "display_data"
    },
    {
     "name": "stdout",
     "output_type": "stream",
     "text": [
      "Epoch 90/100\n",
      "200/200 [==============================] - 2s 10ms/step - loss: 0.0449 - accuracy: 0.9847 - val_loss: 1.0216 - val_accuracy: 0.8275\n",
      "Epoch 91/100\n"
     ]
    },
    {
     "data": {
      "application/vnd.jupyter.widget-view+json": {
       "model_id": "715e1fe265464ea389332a39a4bbdd64",
       "version_major": 2,
       "version_minor": 0
      },
      "text/plain": [
       "0/200                                                                 ETA: ?s - "
      ]
     },
     "metadata": {},
     "output_type": "display_data"
    },
    {
     "name": "stdout",
     "output_type": "stream",
     "text": [
      "Epoch 91/100\n",
      "200/200 [==============================] - 2s 10ms/step - loss: 0.0334 - accuracy: 0.9895 - val_loss: 1.1219 - val_accuracy: 0.8144\n",
      "Epoch 92/100\n"
     ]
    },
    {
     "data": {
      "application/vnd.jupyter.widget-view+json": {
       "model_id": "a40f675187ef4470a5719310bd9595a5",
       "version_major": 2,
       "version_minor": 0
      },
      "text/plain": [
       "0/200                                                                 ETA: ?s - "
      ]
     },
     "metadata": {},
     "output_type": "display_data"
    },
    {
     "name": "stdout",
     "output_type": "stream",
     "text": [
      "Epoch 92/100\n",
      "200/200 [==============================] - 2s 10ms/step - loss: 0.0497 - accuracy: 0.9859 - val_loss: 1.0517 - val_accuracy: 0.8081\n",
      "Epoch 93/100\n"
     ]
    },
    {
     "data": {
      "application/vnd.jupyter.widget-view+json": {
       "model_id": "17b06406c1934a3b87d17e7a10cb53b2",
       "version_major": 2,
       "version_minor": 0
      },
      "text/plain": [
       "0/200                                                                 ETA: ?s - "
      ]
     },
     "metadata": {},
     "output_type": "display_data"
    },
    {
     "name": "stdout",
     "output_type": "stream",
     "text": [
      "Epoch 93/100\n",
      "200/200 [==============================] - 2s 10ms/step - loss: 0.0426 - accuracy: 0.9864 - val_loss: 0.7780 - val_accuracy: 0.8231\n",
      "Epoch 94/100\n"
     ]
    },
    {
     "data": {
      "application/vnd.jupyter.widget-view+json": {
       "model_id": "ee951cff3b23458482cc1e8f38de6054",
       "version_major": 2,
       "version_minor": 0
      },
      "text/plain": [
       "0/200                                                                 ETA: ?s - "
      ]
     },
     "metadata": {},
     "output_type": "display_data"
    },
    {
     "name": "stdout",
     "output_type": "stream",
     "text": [
      "Epoch 94/100\n",
      "200/200 [==============================] - 2s 10ms/step - loss: 0.0653 - accuracy: 0.9767 - val_loss: 0.8913 - val_accuracy: 0.8219\n",
      "Epoch 95/100\n"
     ]
    },
    {
     "data": {
      "application/vnd.jupyter.widget-view+json": {
       "model_id": "4c10863259ae4ed8b7710b3580b09f9e",
       "version_major": 2,
       "version_minor": 0
      },
      "text/plain": [
       "0/200                                                                 ETA: ?s - "
      ]
     },
     "metadata": {},
     "output_type": "display_data"
    },
    {
     "name": "stdout",
     "output_type": "stream",
     "text": [
      "Epoch 95/100\n",
      "200/200 [==============================] - 2s 10ms/step - loss: 0.0860 - accuracy: 0.9719 - val_loss: 0.5075 - val_accuracy: 0.8012\n",
      "Epoch 96/100\n"
     ]
    },
    {
     "data": {
      "application/vnd.jupyter.widget-view+json": {
       "model_id": "3def66fc9f8142d2b966b0af7a2ead35",
       "version_major": 2,
       "version_minor": 0
      },
      "text/plain": [
       "0/200                                                                 ETA: ?s - "
      ]
     },
     "metadata": {},
     "output_type": "display_data"
    },
    {
     "name": "stdout",
     "output_type": "stream",
     "text": [
      "Epoch 96/100\n",
      "200/200 [==============================] - 2s 10ms/step - loss: 0.0766 - accuracy: 0.9709 - val_loss: 0.7517 - val_accuracy: 0.8125\n",
      "Epoch 97/100\n"
     ]
    },
    {
     "data": {
      "application/vnd.jupyter.widget-view+json": {
       "model_id": "4ca3dcc0752043049ca98ee45c6826dc",
       "version_major": 2,
       "version_minor": 0
      },
      "text/plain": [
       "0/200                                                                 ETA: ?s - "
      ]
     },
     "metadata": {},
     "output_type": "display_data"
    },
    {
     "name": "stdout",
     "output_type": "stream",
     "text": [
      "Epoch 97/100\n",
      "200/200 [==============================] - 2s 10ms/step - loss: 0.0491 - accuracy: 0.9827 - val_loss: 0.8705 - val_accuracy: 0.8169\n",
      "Epoch 98/100\n"
     ]
    },
    {
     "data": {
      "application/vnd.jupyter.widget-view+json": {
       "model_id": "6ff94a704f034ab7910b666b6dda91dd",
       "version_major": 2,
       "version_minor": 0
      },
      "text/plain": [
       "0/200                                                                 ETA: ?s - "
      ]
     },
     "metadata": {},
     "output_type": "display_data"
    },
    {
     "name": "stdout",
     "output_type": "stream",
     "text": [
      "Epoch 98/100\n",
      "200/200 [==============================] - 2s 10ms/step - loss: 0.0649 - accuracy: 0.9747 - val_loss: 0.7005 - val_accuracy: 0.8294\n",
      "Epoch 99/100\n"
     ]
    },
    {
     "data": {
      "application/vnd.jupyter.widget-view+json": {
       "model_id": "b565fdcb8758444fbb6bae71d2a887b3",
       "version_major": 2,
       "version_minor": 0
      },
      "text/plain": [
       "0/200                                                                 ETA: ?s - "
      ]
     },
     "metadata": {},
     "output_type": "display_data"
    },
    {
     "name": "stdout",
     "output_type": "stream",
     "text": [
      "Epoch 99/100\n",
      "200/200 [==============================] - 2s 10ms/step - loss: 0.0402 - accuracy: 0.9866 - val_loss: 0.9528 - val_accuracy: 0.8213\n",
      "Epoch 100/100\n"
     ]
    },
    {
     "data": {
      "application/vnd.jupyter.widget-view+json": {
       "model_id": "b1056c0aadab4588b38c13468d555af2",
       "version_major": 2,
       "version_minor": 0
      },
      "text/plain": [
       "0/200                                                                 ETA: ?s - "
      ]
     },
     "metadata": {},
     "output_type": "display_data"
    },
    {
     "name": "stdout",
     "output_type": "stream",
     "text": [
      "Epoch 100/100\n",
      "200/200 [==============================] - 2s 11ms/step - loss: 0.0395 - accuracy: 0.9866 - val_loss: 0.9008 - val_accuracy: 0.8175\n"
     ]
    },
    {
     "data": {
      "text/plain": [
       "<keras.callbacks.History at 0x33e6ac810>"
      ]
     },
     "execution_count": 82,
     "metadata": {},
     "output_type": "execute_result"
    }
   ],
   "source": [
    "tqdm_callback = tfa.callbacks.TQDMProgressBar()\n",
    "\n",
    "model.compile(optimizer='adam', loss='binary_crossentropy', metrics=['accuracy'])\n",
    "model.fit(X_train, y_train, class_weight=class_weight_dict, epochs=100, batch_size=32, validation_data=(X_test, y_test), callbacks=[tqdm_callback])"
   ]
  },
  {
   "cell_type": "code",
   "execution_count": 83,
   "id": "80da6b3a-3e1d-4c5f-b806-c6dbefbc7404",
   "metadata": {},
   "outputs": [
    {
     "name": "stdout",
     "output_type": "stream",
     "text": [
      "50/50 [==============================] - 0s 3ms/step - loss: 0.9008 - accuracy: 0.8175\n",
      "0.8174999952316284\n"
     ]
    }
   ],
   "source": [
    "test_loss, test_accuracy = model.evaluate(X_test, y_test)\n",
    "print(test_accuracy)"
   ]
  },
  {
   "cell_type": "code",
   "execution_count": 84,
   "id": "7ed79938-cef0-4af8-97e4-b8444ee92a35",
   "metadata": {},
   "outputs": [],
   "source": [
    "test_features = []\n",
    "\n",
    "for file in os.listdir('./test_samples/'):\n",
    "    if (file == '.DS_Store'):\n",
    "        continue\n",
    "    mfcc = feature_extraction(f\"./test_samples/{file}\")\n",
    "    test_features.append(mfcc)\n",
    "\n",
    "test_features = np.array(test_features)"
   ]
  },
  {
   "cell_type": "code",
   "execution_count": 39,
   "id": "716b3194-fe9a-43a2-a611-ffdb76bb5062",
   "metadata": {},
   "outputs": [],
   "source": [
    "def plot_confusion_matrix(y_true, y_pred):\n",
    "    cm = confusion_matrix(y_true, y_pred)\n",
    "    plt.figure(figsize=(10, 8))\n",
    "    sns.heatmap(cm, annot=True, fmt='d', cmap='Blues')\n",
    "    plt.title('Confusion Matrix')\n",
    "    plt.ylabel('True Label')\n",
    "    plt.xlabel('Predicted Label')\n",
    "    plt.show()"
   ]
  },
  {
   "cell_type": "code",
   "execution_count": 91,
   "id": "4f090829-40ab-48ad-b17b-9216be6af8c9",
   "metadata": {},
   "outputs": [],
   "source": [
    "test_features = test_features.reshape(test_features.shape[0], test_features.shape[1], 1)"
   ]
  },
  {
   "cell_type": "code",
   "execution_count": 96,
   "id": "2adb0228-cf9d-4845-a33e-25f6fee005ac",
   "metadata": {
    "scrolled": true
   },
   "outputs": [
    {
     "name": "stdout",
     "output_type": "stream",
     "text": [
      "50/50 [==============================] - 0s 3ms/step\n"
     ]
    },
    {
     "data": {
      "text/plain": [
       "[0.99997723,\n",
       " 0.99993396,\n",
       " 1.0,\n",
       " 0.9880284,\n",
       " 6.057065e-08,\n",
       " 4.0232482e-08,\n",
       " 0.9995788,\n",
       " 0.9546662,\n",
       " 0.9999979,\n",
       " 0.0029446697,\n",
       " 0.9999959,\n",
       " 0.9999375,\n",
       " 0.9999395,\n",
       " 6.437844e-08,\n",
       " 0.00029312595,\n",
       " 0.9994912,\n",
       " 0.117096834,\n",
       " 1.0496207e-05,\n",
       " 8.178859e-08,\n",
       " 1.1341443e-07,\n",
       " 0.9999956,\n",
       " 0.14468953,\n",
       " 3.4131492e-07,\n",
       " 0.9999999,\n",
       " 0.9839552,\n",
       " 0.9971546,\n",
       " 0.00017740532,\n",
       " 2.519672e-09,\n",
       " 0.99975413,\n",
       " 1.5060104e-06,\n",
       " 0.53570986,\n",
       " 0.006123704,\n",
       " 0.99956053,\n",
       " 0.9999991,\n",
       " 0.9999992,\n",
       " 0.9999495,\n",
       " 0.0020084595,\n",
       " 0.9997253,\n",
       " 0.9999882,\n",
       " 0.999996,\n",
       " 0.9999996,\n",
       " 0.3732161,\n",
       " 0.023255238,\n",
       " 0.9999147,\n",
       " 3.9997954e-05,\n",
       " 0.99999464,\n",
       " 0.8249351,\n",
       " 0.9990951,\n",
       " 0.0014230052,\n",
       " 0.1927471,\n",
       " 0.99999744,\n",
       " 3.359313e-08,\n",
       " 0.99543554,\n",
       " 0.9099964,\n",
       " 4.6369537e-06,\n",
       " 1.7902739e-08,\n",
       " 6.8547735e-05,\n",
       " 7.404714e-08,\n",
       " 0.80148834,\n",
       " 0.1260616,\n",
       " 0.99961656,\n",
       " 0.0062975814,\n",
       " 0.9999997,\n",
       " 0.00074215635,\n",
       " 0.99778247,\n",
       " 0.97196066,\n",
       " 0.95634735,\n",
       " 0.99982554,\n",
       " 0.6373055,\n",
       " 0.99999994,\n",
       " 5.2890603e-10,\n",
       " 0.003741485,\n",
       " 0.08393819,\n",
       " 0.0005402042,\n",
       " 0.00074021495,\n",
       " 0.9999236,\n",
       " 0.00010430361,\n",
       " 0.9928327,\n",
       " 3.699539e-08,\n",
       " 0.0008984401,\n",
       " 0.3505222,\n",
       " 6.482384e-09,\n",
       " 0.99722326,\n",
       " 1.8009119e-07,\n",
       " 0.76967573,\n",
       " 0.9931732,\n",
       " 5.1559713e-08,\n",
       " 0.9998487,\n",
       " 0.9999674,\n",
       " 0.9999983,\n",
       " 0.9999999,\n",
       " 0.9682886,\n",
       " 0.99999803,\n",
       " 0.9999999,\n",
       " 0.99856055,\n",
       " 0.99999976,\n",
       " 0.009197695,\n",
       " 1.6011265e-05,\n",
       " 7.7469565e-08,\n",
       " 0.99723625,\n",
       " 1.0374168e-07,\n",
       " 0.99999833,\n",
       " 0.99208176,\n",
       " 0.97577596,\n",
       " 0.99968135,\n",
       " 0.06297946,\n",
       " 2.1179753e-07,\n",
       " 0.9201447,\n",
       " 0.020773266,\n",
       " 4.0990053e-10,\n",
       " 2.4226377e-08,\n",
       " 0.8945194,\n",
       " 0.7709429,\n",
       " 0.99543244,\n",
       " 0.99014574,\n",
       " 1.9998954e-06,\n",
       " 7.8416065e-09,\n",
       " 1.6035576e-05,\n",
       " 0.0036585669,\n",
       " 0.0068414994,\n",
       " 0.9856548,\n",
       " 0.7082955,\n",
       " 0.9990772,\n",
       " 0.99979484,\n",
       " 0.99380624,\n",
       " 0.044735204,\n",
       " 4.5434163e-08,\n",
       " 0.99999994,\n",
       " 2.7661482e-08,\n",
       " 0.9665435,\n",
       " 0.9988589,\n",
       " 0.9997328,\n",
       " 0.99982053,\n",
       " 0.61693954,\n",
       " 0.99892217,\n",
       " 0.99996805,\n",
       " 0.99999934,\n",
       " 0.91298735,\n",
       " 0.99999183,\n",
       " 3.5989473e-08,\n",
       " 0.713676,\n",
       " 0.99999714,\n",
       " 2.0008754e-05,\n",
       " 0.9700128,\n",
       " 1.190283e-06,\n",
       " 0.999999,\n",
       " 0.48176453,\n",
       " 1.3847621e-07,\n",
       " 0.92154515,\n",
       " 0.9999772,\n",
       " 1.2544535e-05,\n",
       " 8.915826e-05,\n",
       " 9.743508e-07,\n",
       " 0.9996782,\n",
       " 0.99650824,\n",
       " 0.999993,\n",
       " 0.9987612,\n",
       " 0.2882106,\n",
       " 0.9759669,\n",
       " 0.99999934,\n",
       " 0.8966515,\n",
       " 1.2183942e-07,\n",
       " 0.9998943,\n",
       " 0.19823067,\n",
       " 0.99983627,\n",
       " 0.9999359,\n",
       " 5.4926886e-06,\n",
       " 0.9994469,\n",
       " 4.8679077e-08,\n",
       " 1.7230701e-07,\n",
       " 1.938301e-07,\n",
       " 0.0006634865,\n",
       " 0.67274326,\n",
       " 1.0206064e-08,\n",
       " 3.1173963e-07,\n",
       " 0.070071235,\n",
       " 2.248432e-07,\n",
       " 2.4418003e-07,\n",
       " 3.7173567e-08,\n",
       " 1.5031035e-06,\n",
       " 2.5470032e-07,\n",
       " 0.9992776,\n",
       " 0.99946785,\n",
       " 0.9999998,\n",
       " 0.97982943,\n",
       " 0.5566077,\n",
       " 0.9985085,\n",
       " 0.9998863,\n",
       " 0.893429,\n",
       " 6.47934e-07,\n",
       " 0.9958564,\n",
       " 0.9886551,\n",
       " 4.74672e-06,\n",
       " 0.9995407,\n",
       " 1.9642691e-06,\n",
       " 0.9978273,\n",
       " 0.1274255,\n",
       " 0.9980805,\n",
       " 6.5529243e-06,\n",
       " 9.82937e-09,\n",
       " 2.1677944e-07,\n",
       " 0.99130625,\n",
       " 0.99979144,\n",
       " 0.9999999,\n",
       " 0.37983683,\n",
       " 0.0032253251,\n",
       " 2.0090278e-07,\n",
       " 9.205811e-08,\n",
       " 4.561425e-08,\n",
       " 0.9992388,\n",
       " 0.5658645,\n",
       " 0.79087454,\n",
       " 0.00010491699,\n",
       " 0.9990896,\n",
       " 4.5262559e-07,\n",
       " 0.0015660208,\n",
       " 0.9183901,\n",
       " 0.17763841,\n",
       " 1.0,\n",
       " 0.99076307,\n",
       " 0.99999833,\n",
       " 0.9999998,\n",
       " 4.4178328e-06,\n",
       " 0.9999999,\n",
       " 0.9961041,\n",
       " 0.5507143,\n",
       " 2.1861174e-08,\n",
       " 1.1904931e-08,\n",
       " 0.0016812185,\n",
       " 0.04217357,\n",
       " 0.52052164,\n",
       " 8.044026e-09,\n",
       " 0.9699778,\n",
       " 0.9999996,\n",
       " 0.996547,\n",
       " 1.0,\n",
       " 0.99999714,\n",
       " 3.6666556e-08,\n",
       " 0.0019314308,\n",
       " 0.9993124,\n",
       " 0.9911206,\n",
       " 1.9975491e-08,\n",
       " 0.00036419995,\n",
       " 0.00937447,\n",
       " 4.757396e-05,\n",
       " 0.99880624,\n",
       " 0.9999159,\n",
       " 0.99582714,\n",
       " 0.99920255,\n",
       " 0.9984915,\n",
       " 0.9980856,\n",
       " 0.9998176,\n",
       " 0.9993867,\n",
       " 3.8234677e-07,\n",
       " 0.9999933,\n",
       " 0.999992,\n",
       " 0.9966072,\n",
       " 0.99999917,\n",
       " 0.0005213435,\n",
       " 0.12287247,\n",
       " 0.9999995,\n",
       " 0.00057792064,\n",
       " 6.912551e-07,\n",
       " 0.23925848,\n",
       " 0.9999962,\n",
       " 0.29349008,\n",
       " 1.0153882e-05,\n",
       " 0.4555551,\n",
       " 0.9999974,\n",
       " 5.5232464e-05,\n",
       " 0.00022745246,\n",
       " 0.99607736,\n",
       " 0.00092982384,\n",
       " 0.9999998,\n",
       " 3.5669245e-06,\n",
       " 0.0040138145,\n",
       " 0.9999242,\n",
       " 0.975317,\n",
       " 0.77168924,\n",
       " 0.58868545,\n",
       " 0.00028817367,\n",
       " 0.32657504,\n",
       " 0.0050261295,\n",
       " 9.609629e-06,\n",
       " 0.9748881,\n",
       " 0.9999621,\n",
       " 0.9980471,\n",
       " 1.0,\n",
       " 1.0701383e-06,\n",
       " 0.99999994,\n",
       " 1.01225105e-07,\n",
       " 0.9999998,\n",
       " 4.7062292e-07,\n",
       " 0.99873525,\n",
       " 0.9999991,\n",
       " 0.999977,\n",
       " 0.99999845,\n",
       " 0.8778831,\n",
       " 0.24532817,\n",
       " 0.98441637,\n",
       " 2.4654714e-06,\n",
       " 0.0003101081,\n",
       " 0.004077154,\n",
       " 0.9997404,\n",
       " 4.018867e-09,\n",
       " 0.23335227,\n",
       " 0.33647525,\n",
       " 0.92825216,\n",
       " 1.1658581e-08,\n",
       " 0.98789155,\n",
       " 5.4104785e-06,\n",
       " 0.9997408,\n",
       " 0.9994585,\n",
       " 1.190656e-07,\n",
       " 0.9999999,\n",
       " 9.345019e-09,\n",
       " 0.0015549229,\n",
       " 0.084913425,\n",
       " 0.99997884,\n",
       " 0.9842908,\n",
       " 0.027153965,\n",
       " 0.90506643,\n",
       " 0.87176865,\n",
       " 1.3351621e-08,\n",
       " 0.9417597,\n",
       " 1.8547217e-08,\n",
       " 0.99999994,\n",
       " 3.4881107e-06,\n",
       " 0.999757,\n",
       " 0.0023446756,\n",
       " 0.9999983,\n",
       " 0.9796353,\n",
       " 0.6104347,\n",
       " 0.09875211,\n",
       " 0.9999998,\n",
       " 0.99987996,\n",
       " 0.87796634,\n",
       " 9.1356305e-06,\n",
       " 9.88757e-08,\n",
       " 0.0046802144,\n",
       " 0.9998812,\n",
       " 3.864459e-08,\n",
       " 0.86984944,\n",
       " 1.0078832e-05,\n",
       " 0.8317359,\n",
       " 0.99990296,\n",
       " 0.9998102,\n",
       " 0.6682261,\n",
       " 0.96065533,\n",
       " 0.99999344,\n",
       " 0.9033762,\n",
       " 0.009832289,\n",
       " 0.99997765,\n",
       " 1.9638362e-08,\n",
       " 1.0,\n",
       " 3.4993773e-05,\n",
       " 1.1527327e-08,\n",
       " 0.9999991,\n",
       " 0.99999976,\n",
       " 3.282794e-07,\n",
       " 0.40929368,\n",
       " 2.2636035e-05,\n",
       " 8.333808e-09,\n",
       " 0.00018237966,\n",
       " 0.9969347,\n",
       " 0.0011771416,\n",
       " 0.99676865,\n",
       " 0.75823706,\n",
       " 0.40614513,\n",
       " 0.9999999,\n",
       " 0.9999943,\n",
       " 0.9821739,\n",
       " 1.6031606e-08,\n",
       " 0.9866196,\n",
       " 0.9999779,\n",
       " 0.00067966024,\n",
       " 0.009421384,\n",
       " 1.9117259e-07,\n",
       " 0.9988905,\n",
       " 0.9991002,\n",
       " 5.252297e-07,\n",
       " 0.9056673,\n",
       " 1.4496109e-07,\n",
       " 0.56733656,\n",
       " 9.97706e-07,\n",
       " 0.9922396,\n",
       " 0.99999726,\n",
       " 0.82662654,\n",
       " 0.99938554,\n",
       " 0.9999991,\n",
       " 1.1221157e-05,\n",
       " 0.06630894,\n",
       " 0.0015443609,\n",
       " 3.3193888e-09,\n",
       " 0.9999283,\n",
       " 5.8530714e-10,\n",
       " 1.4009013e-05,\n",
       " 3.3977135e-06,\n",
       " 0.8303166,\n",
       " 4.191e-08,\n",
       " 6.331814e-05,\n",
       " 0.00018399603,\n",
       " 0.9980644,\n",
       " 0.9073424,\n",
       " 0.99995464,\n",
       " 0.9935267,\n",
       " 0.98920965,\n",
       " 6.6221375e-09,\n",
       " 0.94813526,\n",
       " 0.9999942,\n",
       " 0.996156,\n",
       " 0.9939768,\n",
       " 1.7845592e-07,\n",
       " 0.9931062,\n",
       " 0.9999977,\n",
       " 0.35309738,\n",
       " 0.85860246,\n",
       " 0.9999961,\n",
       " 0.9461165,\n",
       " 0.9908772,\n",
       " 0.5921144,\n",
       " 0.017436905,\n",
       " 0.00053480116,\n",
       " 1.9896172e-08,\n",
       " 0.9999353,\n",
       " 1.3854386e-06,\n",
       " 0.036508456,\n",
       " 0.9973691,\n",
       " 0.9999571,\n",
       " 0.034211624,\n",
       " 1.2314526e-08,\n",
       " 1.037963e-07,\n",
       " 0.99999607,\n",
       " 0.006558661,\n",
       " 0.99999815,\n",
       " 0.99431556,\n",
       " 0.76943415,\n",
       " 0.05109898,\n",
       " 0.007886416,\n",
       " 4.9937287e-05,\n",
       " 0.9999969,\n",
       " 0.05445477,\n",
       " 4.0980403e-08,\n",
       " 4.6869045e-05,\n",
       " 0.7950962,\n",
       " 0.9999998,\n",
       " 0.3753247,\n",
       " 0.99913496,\n",
       " 0.9992479,\n",
       " 0.9999973,\n",
       " 0.99999994,\n",
       " 1.1681887e-08,\n",
       " 0.99819994,\n",
       " 0.9999982,\n",
       " 1.0,\n",
       " 0.9956407,\n",
       " 3.3144752e-07,\n",
       " 1.3163715e-05,\n",
       " 0.0001399835,\n",
       " 0.99875593,\n",
       " 0.9999911,\n",
       " 0.98661554,\n",
       " 0.89185977,\n",
       " 1.7810422e-05,\n",
       " 1.2442276e-06,\n",
       " 6.990006e-07,\n",
       " 1.0,\n",
       " 0.7697752,\n",
       " 0.006883246,\n",
       " 0.9954304,\n",
       " 0.94040656,\n",
       " 0.8017498,\n",
       " 3.5455005e-07,\n",
       " 1.4149268e-05,\n",
       " 0.962966,\n",
       " 0.99999684,\n",
       " 0.0012997518,\n",
       " 4.2650196e-08,\n",
       " 8.60069e-07,\n",
       " 5.7383517e-07,\n",
       " 0.9999997,\n",
       " 5.1437127e-08,\n",
       " 0.0008819692,\n",
       " 2.8019434e-08,\n",
       " 0.017685074,\n",
       " 9.504268e-08,\n",
       " 0.00014439489,\n",
       " 0.99979,\n",
       " 0.99999684,\n",
       " 1.5542337e-08,\n",
       " 5.0687104e-06,\n",
       " 3.50938e-05,\n",
       " 0.00018654494,\n",
       " 0.9995948,\n",
       " 0.9974382,\n",
       " 0.99999845,\n",
       " 0.22802445,\n",
       " 0.0042786086,\n",
       " 0.99505883,\n",
       " 1.0,\n",
       " 0.9484212,\n",
       " 0.99648315,\n",
       " 0.9913923,\n",
       " 0.00013857613,\n",
       " 0.13952906,\n",
       " 0.0002695362,\n",
       " 0.0013078899,\n",
       " 0.9554788,\n",
       " 0.97570187,\n",
       " 1.0,\n",
       " 0.9999869,\n",
       " 1.6193542e-05,\n",
       " 0.8451335,\n",
       " 0.99951434,\n",
       " 0.9999944,\n",
       " 0.93653136,\n",
       " 0.005711591,\n",
       " 4.6694268e-08,\n",
       " 0.9086452,\n",
       " 0.99752414,\n",
       " 0.044303253,\n",
       " 0.6018721,\n",
       " 0.9999997,\n",
       " 0.0010085818,\n",
       " 0.0014630968,\n",
       " 0.9586313,\n",
       " 0.99979556,\n",
       " 0.9999815,\n",
       " 0.9999043,\n",
       " 0.99998605,\n",
       " 0.9999946,\n",
       " 0.9999999,\n",
       " 7.421045e-08,\n",
       " 0.9997345,\n",
       " 0.999999,\n",
       " 0.99998957,\n",
       " 0.85037726,\n",
       " 0.9998195,\n",
       " 0.006593188,\n",
       " 0.9999994,\n",
       " 1.4501877e-06,\n",
       " 0.0003369724,\n",
       " 0.95220375,\n",
       " 6.156861e-09,\n",
       " 0.9976069,\n",
       " 0.999997,\n",
       " 0.9933917,\n",
       " 0.9935462,\n",
       " 0.99999195,\n",
       " 1.06047594e-07,\n",
       " 0.99999833,\n",
       " 0.99990046,\n",
       " 0.99999803,\n",
       " 0.89287996,\n",
       " 4.415068e-08,\n",
       " 0.05244455,\n",
       " 0.9989882,\n",
       " 0.93034303,\n",
       " 0.99999964,\n",
       " 0.99999976,\n",
       " 0.009302702,\n",
       " 0.011661971,\n",
       " 0.05253227,\n",
       " 0.9730943,\n",
       " 0.99999976,\n",
       " 0.99993974,\n",
       " 5.9688823e-06,\n",
       " 2.4867013e-08,\n",
       " 0.9913141,\n",
       " 0.9999087,\n",
       " 7.0384965e-07,\n",
       " 0.030372394,\n",
       " 2.259164e-07,\n",
       " 0.66704416,\n",
       " 0.99993277,\n",
       " 0.9961835,\n",
       " 0.97180307,\n",
       " 0.00722817,\n",
       " 0.25841403,\n",
       " 0.9999997,\n",
       " 1.9648144e-06,\n",
       " 0.99817353,\n",
       " 0.00023869368,\n",
       " 0.019387651,\n",
       " 2.5502546e-08,\n",
       " 0.99955237,\n",
       " 0.99999595,\n",
       " 0.0029835042,\n",
       " 0.00028692465,\n",
       " 0.9883605,\n",
       " 2.6059015e-08,\n",
       " 4.0529375e-09,\n",
       " 0.53628546,\n",
       " 0.0033920412,\n",
       " 8.027267e-07,\n",
       " 0.9999963,\n",
       " 5.3186195e-05,\n",
       " 0.9999999,\n",
       " 0.9999999,\n",
       " 1.3647405e-08,\n",
       " 0.64518344,\n",
       " 0.28304568,\n",
       " 0.9003882,\n",
       " 0.087373964,\n",
       " 0.33565453,\n",
       " 0.01376553,\n",
       " 5.0923074e-08,\n",
       " 9.519451e-09,\n",
       " 0.99999213,\n",
       " 0.00361472,\n",
       " 0.9895153,\n",
       " 0.999998,\n",
       " 0.50949144,\n",
       " 0.00052418356,\n",
       " 3.5747433e-07,\n",
       " 4.243021e-09,\n",
       " 0.9994147,\n",
       " 5.525821e-09,\n",
       " 8.2242675e-09,\n",
       " 0.99999535,\n",
       " 0.9999998,\n",
       " 0.12271751,\n",
       " 2.4427416e-06,\n",
       " 0.36701632,\n",
       " 0.99995786,\n",
       " 4.026807e-07,\n",
       " 0.0011933986,\n",
       " 0.9999957,\n",
       " 0.99719566,\n",
       " 4.4853878e-06,\n",
       " 0.99771905,\n",
       " 0.99989045,\n",
       " 0.99999946,\n",
       " 0.000752593,\n",
       " 0.99997973,\n",
       " 0.99907345,\n",
       " 0.9928782,\n",
       " 0.043776542,\n",
       " 0.06867076,\n",
       " 0.6056696,\n",
       " 0.9999757,\n",
       " 0.92844456,\n",
       " 0.9997217,\n",
       " 0.9999987,\n",
       " 1.770946e-08,\n",
       " 0.99739647,\n",
       " 0.99829704,\n",
       " 0.9999917,\n",
       " 0.9650823,\n",
       " 0.9999968,\n",
       " 0.9406594,\n",
       " 0.91764396,\n",
       " 0.88884044,\n",
       " 0.99999815,\n",
       " 0.980235,\n",
       " 0.99999994,\n",
       " 0.99858844,\n",
       " 0.98713547,\n",
       " 0.9999681,\n",
       " 0.95222867,\n",
       " 0.9999999,\n",
       " 0.9279371,\n",
       " 0.9826946,\n",
       " 0.9713309,\n",
       " 0.9940265,\n",
       " 0.00078867166,\n",
       " 6.208852e-07,\n",
       " 0.9997498,\n",
       " 0.30351394,\n",
       " 0.0077368454,\n",
       " 0.5845637,\n",
       " 0.99916905,\n",
       " 0.9999965,\n",
       " 0.8385233,\n",
       " 0.18112655,\n",
       " 1.7203001e-07,\n",
       " 0.007877836,\n",
       " 0.9999994,\n",
       " 0.99978256,\n",
       " 0.99999994,\n",
       " 0.99999374,\n",
       " 0.99973184,\n",
       " 0.9999734,\n",
       " 3.6636635e-08,\n",
       " 0.069383,\n",
       " 0.9999787,\n",
       " 6.4653563e-09,\n",
       " 9.884701e-09,\n",
       " 0.99545413,\n",
       " 0.8871095,\n",
       " 0.998896,\n",
       " 0.9997002,\n",
       " 0.9906331,\n",
       " 0.99629086,\n",
       " 0.9999812,\n",
       " 0.0017281792,\n",
       " 0.0006025342,\n",
       " 0.9948795,\n",
       " 0.99930054,\n",
       " 0.9995863,\n",
       " 0.001059812,\n",
       " 4.102827e-08,\n",
       " 0.055069756,\n",
       " 0.9999815,\n",
       " 0.9999935,\n",
       " 1.3753201e-05,\n",
       " 0.99999994,\n",
       " 0.58571744,\n",
       " 0.99994814,\n",
       " 0.077106565,\n",
       " 0.99998426,\n",
       " 0.8939604,\n",
       " 0.009297277,\n",
       " 2.3917567e-08,\n",
       " 2.6802656e-08,\n",
       " 0.9999526,\n",
       " 0.011867478,\n",
       " 0.8957788,\n",
       " 0.95975643,\n",
       " 0.7748935,\n",
       " 5.631405e-07,\n",
       " 2.1933184e-07,\n",
       " 0.98447764,\n",
       " 1.5933173e-08,\n",
       " 0.28809813,\n",
       " 0.9646585,\n",
       " 0.0012848943,\n",
       " 0.016283402,\n",
       " 0.01132825,\n",
       " 0.9999789,\n",
       " 1.1729576e-08,\n",
       " 0.9999995,\n",
       " 0.9715224,\n",
       " 0.91156477,\n",
       " 0.9143221,\n",
       " 2.0696794e-05,\n",
       " 0.9689781,\n",
       " 0.999317,\n",
       " 3.6889983e-07,\n",
       " 0.9998699,\n",
       " 4.6141594e-07,\n",
       " 0.99998116,\n",
       " 0.00027229553,\n",
       " 7.778486e-06,\n",
       " 0.9999011,\n",
       " 0.98507136,\n",
       " 0.9854623,\n",
       " 0.96611613,\n",
       " 0.5831658,\n",
       " 4.509147e-07,\n",
       " 7.643697e-09,\n",
       " 0.99982554,\n",
       " 0.23538244,\n",
       " 6.6743282e-06,\n",
       " 0.9837608,\n",
       " 7.22156e-09,\n",
       " 4.331396e-05,\n",
       " 7.562657e-10,\n",
       " 0.9968125,\n",
       " 0.99971765,\n",
       " 2.5587752e-09,\n",
       " 1.250745e-08,\n",
       " 0.9999396,\n",
       " 0.9999954,\n",
       " 0.9970306,\n",
       " 1.0,\n",
       " 0.00054472004,\n",
       " 0.65167415,\n",
       " 0.62555814,\n",
       " 0.9999882,\n",
       " 0.00019205402,\n",
       " 1.5416877e-07,\n",
       " 0.94664806,\n",
       " 0.99917567,\n",
       " 0.999999,\n",
       " 1.1756544e-08,\n",
       " 0.9999981,\n",
       " 0.0004631697,\n",
       " 3.0034332e-08,\n",
       " 0.99995285,\n",
       " 1.9116038e-07,\n",
       " 3.0300274e-05,\n",
       " 1.2241829e-07,\n",
       " 0.9999999,\n",
       " 0.5019591,\n",
       " 0.0044969153,\n",
       " 6.816354e-05,\n",
       " 0.99999976,\n",
       " 0.45982534,\n",
       " 0.99999917,\n",
       " 0.00034854744,\n",
       " 0.63793075,\n",
       " 0.9999996,\n",
       " 0.9874013,\n",
       " 0.98171777,\n",
       " 0.98582447,\n",
       " 0.9997974,\n",
       " 0.99999994,\n",
       " 0.99999934,\n",
       " 0.99854577,\n",
       " 0.007985671,\n",
       " 0.00014830865,\n",
       " 0.9562243,\n",
       " 0.9998341,\n",
       " 1.2006705e-08,\n",
       " 0.0006880043,\n",
       " 0.99642867,\n",
       " 0.71107775,\n",
       " 0.06771328,\n",
       " 0.99727273,\n",
       " 3.997379e-08,\n",
       " 0.99885356,\n",
       " 0.9855461,\n",
       " 0.99999994,\n",
       " 0.21077219,\n",
       " 0.9905463,\n",
       " 0.00070196635,\n",
       " 0.03616921,\n",
       " 1.4648316e-08,\n",
       " 0.9153457,\n",
       " 0.99999994,\n",
       " 0.358447,\n",
       " 0.9999667,\n",
       " 2.887426e-08,\n",
       " 0.99999595,\n",
       " 0.00045120352,\n",
       " 0.0067947446,\n",
       " 5.1076167e-06,\n",
       " 0.9705338,\n",
       " 1.5799262e-08,\n",
       " 3.6964925e-06,\n",
       " 0.00026087573,\n",
       " 0.013801405,\n",
       " 3.1620409e-09,\n",
       " 0.026416363,\n",
       " 0.0118987365,\n",
       " 0.9998386,\n",
       " 0.979593,\n",
       " 0.9996545,\n",
       " 0.99999535,\n",
       " 0.99772656,\n",
       " 0.9995386,\n",
       " 0.00054881524,\n",
       " 0.9997114,\n",
       " 0.00832181,\n",
       " 0.00042774415,\n",
       " 0.99980575,\n",
       " 4.580479e-07,\n",
       " 0.99960715,\n",
       " 5.6606546e-06,\n",
       " 0.9999999,\n",
       " 0.9994379,\n",
       " 0.015799398,\n",
       " 1.6803052e-07,\n",
       " 0.9972059,\n",
       " 0.99362564,\n",
       " 1.2154487e-07,\n",
       " 1.0,\n",
       " 0.9471775,\n",
       " 0.39788055,\n",
       " 0.99998224,\n",
       " 0.9981435,\n",
       " 0.00017473218,\n",
       " 0.004188582,\n",
       " 8.706015e-09,\n",
       " 0.9185703,\n",
       " 0.99999905,\n",
       " 2.5441802e-06,\n",
       " 2.9844176e-07,\n",
       " 0.4463352,\n",
       " 0.002571662,\n",
       " 6.703863e-10,\n",
       " 1.0,\n",
       " 0.10031155,\n",
       " 0.97130996,\n",
       " 0.8102134,\n",
       " 0.999991,\n",
       " 4.563766e-08,\n",
       " 0.99866325,\n",
       " 0.99999857,\n",
       " 1.1120325e-08,\n",
       " 1.1758802e-07,\n",
       " 0.99999857,\n",
       " 1.2429326e-06,\n",
       " 0.9471079,\n",
       " 5.4165e-07,\n",
       " 0.99408484,\n",
       " 2.3829864e-08,\n",
       " 2.2380969e-07,\n",
       " 0.99921304,\n",
       " 0.99999785,\n",
       " 0.99976516,\n",
       " 0.99999887,\n",
       " 3.9546837e-08,\n",
       " 0.99793184,\n",
       " 0.0063175997,\n",
       " 0.17616664,\n",
       " 1.35589815e-08,\n",
       " 1.9247983e-08,\n",
       " 0.99994546,\n",
       " 0.99845296,\n",
       " 0.9613975,\n",
       " 1.0448755e-07,\n",
       " 0.9999318,\n",
       " 0.00056154514,\n",
       " 0.999996,\n",
       " 0.0005788678,\n",
       " 0.9666458,\n",
       " 2.070704e-05,\n",
       " 0.0010644798,\n",
       " 0.99605393,\n",
       " 0.919737,\n",
       " 0.27505156,\n",
       " 0.9999989,\n",
       " 3.8558086e-05,\n",
       " 0.9999987,\n",
       " 0.99993205,\n",
       " 1.0566656e-08,\n",
       " 0.98924637,\n",
       " 0.99998,\n",
       " 0.990734,\n",
       " 5.683944e-09,\n",
       " 1.7537626e-08,\n",
       " 0.8508316,\n",
       " 0.9999769,\n",
       " 0.00019929922,\n",
       " 1.8486317e-07,\n",
       " 3.2326415e-08,\n",
       " 0.99788123,\n",
       " 0.022009585,\n",
       " 0.9999999,\n",
       " 0.9999437,\n",
       " 0.99404323,\n",
       " 0.9992545,\n",
       " 4.8002516e-05,\n",
       " 0.9373636,\n",
       " 5.252334e-05,\n",
       " 1.2347548e-08,\n",
       " 3.2157114e-08,\n",
       " 0.9999937,\n",
       " 0.82516766,\n",
       " 0.99599063,\n",
       " 0.0005916881,\n",
       " 0.9999993,\n",
       " 5.8816927e-06,\n",
       " 3.8345902e-08,\n",
       " 0.9999956,\n",
       " 1.5887683e-05,\n",
       " 2.1754965e-07,\n",
       " 1.312022e-07,\n",
       " 0.9920185,\n",
       " 0.56908596,\n",
       " 3.8004466e-09,\n",
       " 1.1882452e-05,\n",
       " 0.0002443241,\n",
       " 3.3634162e-08,\n",
       " 0.9570894,\n",
       " 0.8813695,\n",
       " 7.627997e-09,\n",
       " 6.5450623e-09,\n",
       " 0.99998146,\n",
       " 1.4966089e-08,\n",
       " 0.99958336,\n",
       " 0.22598125,\n",
       " 8.5373285e-05,\n",
       " 0.00017927207,\n",
       " 8.279563e-08,\n",
       " 0.9996597,\n",
       " 0.9999958,\n",
       " 0.9935433,\n",
       " 0.93902695,\n",
       " 0.99999756,\n",
       " 0.97980547,\n",
       " 0.9977391,\n",
       " 0.9808105,\n",
       " 0.09819205,\n",
       " 0.99998623,\n",
       " 0.9889763,\n",
       " 0.025494335,\n",
       " 1.7775967e-07,\n",
       " 0.95809597,\n",
       " 0.9999999,\n",
       " 8.325912e-09,\n",
       " 0.00012542827,\n",
       " 0.9905892,\n",
       " 4.308717e-06,\n",
       " 0.52019405,\n",
       " 0.000117294665,\n",
       " 9.897144e-06,\n",
       " 1.0,\n",
       " 0.99999875,\n",
       " 0.9999974,\n",
       " 0.99997616,\n",
       " 0.9987704,\n",
       " 1.0085948e-08,\n",
       " 6.795129e-06,\n",
       " 1.8054793e-07,\n",
       " 0.9948676,\n",
       " 0.00013768602,\n",
       " 0.24524307,\n",
       " ...]"
      ]
     },
     "execution_count": 96,
     "metadata": {},
     "output_type": "execute_result"
    }
   ],
   "source": [
    "prediction = model.predict(X_test)\n",
    "prediction_reshaped = []\n",
    "\n",
    "for i in prediction:\n",
    "    prediction_reshaped.append(i[0])\n",
    "\n",
    "prediction_reshaped"
   ]
  },
  {
   "cell_type": "code",
   "execution_count": 107,
   "id": "f0c7278a-d9de-4f47-a291-da21613a8f3e",
   "metadata": {
    "scrolled": true
   },
   "outputs": [],
   "source": [
    "pred = []\n",
    "\n",
    "for i in prediction_reshaped:\n",
    "    if i >= 0.90:\n",
    "        pred.append(1)\n",
    "    else:\n",
    "        pred.append(0)\n",
    "\n",
    "pred = np.array(pred)"
   ]
  },
  {
   "cell_type": "code",
   "execution_count": 108,
   "id": "bb0ea074-4b53-47f9-bd99-51a3af15ea87",
   "metadata": {},
   "outputs": [
    {
     "data": {
      "text/plain": [
       "(1600,)"
      ]
     },
     "execution_count": 108,
     "metadata": {},
     "output_type": "execute_result"
    }
   ],
   "source": [
    "y_test.shape"
   ]
  },
  {
   "cell_type": "code",
   "execution_count": 109,
   "id": "d3f410bb-a434-4829-a869-f966fe483c68",
   "metadata": {},
   "outputs": [
    {
     "data": {
      "text/plain": [
       "(1600,)"
      ]
     },
     "execution_count": 109,
     "metadata": {},
     "output_type": "execute_result"
    }
   ],
   "source": [
    "pred.shape"
   ]
  },
  {
   "cell_type": "code",
   "execution_count": 110,
   "id": "7571c2a7-d46f-469c-a125-811f34274bce",
   "metadata": {},
   "outputs": [
    {
     "data": {
      "image/png": "[encoded data removed]",
      "text/plain": [
       "<Figure size 1000x800 with 2 Axes>"
      ]
     },
     "metadata": {},
     "output_type": "display_data"
    }
   ],
   "source": [
    "plot_confusion_matrix(y_test, pred)"
   ]
  },
  {
   "cell_type": "code",
   "execution_count": 111,
   "id": "2cc91700-42bb-4f26-9e89-58fef058f7c7",
   "metadata": {},
   "outputs": [
    {
     "name": "stdout",
     "output_type": "stream",
     "text": [
      "50/50 [==============================] - 0s 3ms/step\n"
     ]
    },
    {
     "data": {
      "image/png": "[encoded data removed]",
      "text/plain": [
       "<Figure size 1000x600 with 1 Axes>"
      ]
     },
     "metadata": {},
     "output_type": "display_data"
    },
    {
     "name": "stdout",
     "output_type": "stream",
     "text": [
      "Best threshold: 0.37321609258651733\n"
     ]
    }
   ],
   "source": [
    "from sklearn.metrics import precision_recall_curve\n",
    "\n",
    "# Assuming you have predictions from your model\n",
    "y_scores = model.predict(X_test)\n",
    "\n",
    "# Calculate precision-recall curve\n",
    "precisions, recalls, thresholds = precision_recall_curve(y_test, y_scores)\n",
    "\n",
    "# Plot precision-recall curve\n",
    "plt.figure(figsize=(10, 6))\n",
    "plt.plot(recalls, precisions, marker='.')\n",
    "plt.xlabel('Recall')\n",
    "plt.ylabel('Precision')\n",
    "plt.title('Precision-Recall Curve')\n",
    "plt.show()\n",
    "\n",
    "# Find the threshold that gives the best F1 score\n",
    "f1_scores = 2 * (precisions * recalls) / (precisions + recalls)\n",
    "best_threshold = thresholds[np.argmax(f1_scores)]\n",
    "\n",
    "print(f\"Best threshold: {best_threshold}\")\n",
    "\n",
    "# Use this threshold for classification\n",
    "y_pred = (y_scores >= best_threshold).astype(int)"
   ]
  },
  {
   "cell_type": "markdown",
   "id": "dd29190e-0d26-437e-9e9b-8d3347ee29e2",
   "metadata": {},
   "source": [
    "## TESTING"
   ]
  },
  {
   "cell_type": "code",
   "execution_count": 121,
   "id": "adfe9bf0-c1f0-4a0d-acdd-6a6679e2dffa",
   "metadata": {},
   "outputs": [],
   "source": [
    "df_test = pd.read_csv('meta.csv')\n",
    "df_test = df_test[-10:]"
   ]
  },
  {
   "cell_type": "code",
   "execution_count": 122,
   "id": "299478c1-316f-4895-970a-9a086627adc9",
   "metadata": {},
   "outputs": [
    {
     "data": {
      "text/html": [
       "<div>\n",
       "<style scoped>\n",
       "    .dataframe tbody tr th:only-of-type {\n",
       "        vertical-align: middle;\n",
       "    }\n",
       "\n",
       "    .dataframe tbody tr th {\n",
       "        vertical-align: top;\n",
       "    }\n",
       "\n",
       "    .dataframe thead th {\n",
       "        text-align: right;\n",
       "    }\n",
       "</style>\n",
       "<table border=\"1\" class=\"dataframe\">\n",
       "  <thead>\n",
       "    <tr style=\"text-align: right;\">\n",
       "      <th></th>\n",
       "      <th>uuid</th>\n",
       "      <th>cough_detected</th>\n",
       "      <th>classID</th>\n",
       "    </tr>\n",
       "  </thead>\n",
       "  <tbody>\n",
       "    <tr>\n",
       "      <th>27540</th>\n",
       "      <td>ffe13fcf-c5c2-4a6a-a9fc-e010f4f033c1</td>\n",
       "      <td>0.9485</td>\n",
       "      <td>1.0</td>\n",
       "    </tr>\n",
       "    <tr>\n",
       "      <th>27541</th>\n",
       "      <td>ffe5e2a4-ef67-464d-b1cd-b0e321f6a2dd</td>\n",
       "      <td>0.5591</td>\n",
       "      <td>0.0</td>\n",
       "    </tr>\n",
       "    <tr>\n",
       "      <th>27542</th>\n",
       "      <td>ffedc843-bfc2-4ad6-a749-2bc86bdac84a</td>\n",
       "      <td>1.0000</td>\n",
       "      <td>1.0</td>\n",
       "    </tr>\n",
       "    <tr>\n",
       "      <th>27543</th>\n",
       "      <td>ffeea120-92a4-40f9-b692-c3865c7a983f</td>\n",
       "      <td>0.9784</td>\n",
       "      <td>1.0</td>\n",
       "    </tr>\n",
       "    <tr>\n",
       "      <th>27544</th>\n",
       "      <td>fff13fa2-a725-49ef-812a-39c6cedda33d</td>\n",
       "      <td>0.7154</td>\n",
       "      <td>0.0</td>\n",
       "    </tr>\n",
       "    <tr>\n",
       "      <th>27545</th>\n",
       "      <td>fff30afc-db62-4408-a585-07ca9a254fcc</td>\n",
       "      <td>0.9698</td>\n",
       "      <td>1.0</td>\n",
       "    </tr>\n",
       "    <tr>\n",
       "      <th>27546</th>\n",
       "      <td>fff3ff61-2387-4139-938b-539db01e6be5</td>\n",
       "      <td>0.5257</td>\n",
       "      <td>0.0</td>\n",
       "    </tr>\n",
       "    <tr>\n",
       "      <th>27547</th>\n",
       "      <td>fff474bf-39a4-4a61-8348-6b992fb5e439</td>\n",
       "      <td>0.1945</td>\n",
       "      <td>0.0</td>\n",
       "    </tr>\n",
       "    <tr>\n",
       "      <th>27548</th>\n",
       "      <td>fffaa9f8-4db0-46c5-90fb-93b7b014b55d</td>\n",
       "      <td>0.0243</td>\n",
       "      <td>0.0</td>\n",
       "    </tr>\n",
       "    <tr>\n",
       "      <th>27549</th>\n",
       "      <td>fffce9f0-a5e8-4bee-b13b-c671aac4a61c</td>\n",
       "      <td>0.9754</td>\n",
       "      <td>1.0</td>\n",
       "    </tr>\n",
       "  </tbody>\n",
       "</table>\n",
       "</div>"
      ],
      "text/plain": [
       "                                       uuid  cough_detected  classID\n",
       "27540  ffe13fcf-c5c2-4a6a-a9fc-e010f4f033c1          0.9485      1.0\n",
       "27541  ffe5e2a4-ef67-464d-b1cd-b0e321f6a2dd          0.5591      0.0\n",
       "27542  ffedc843-bfc2-4ad6-a749-2bc86bdac84a          1.0000      1.0\n",
       "27543  ffeea120-92a4-40f9-b692-c3865c7a983f          0.9784      1.0\n",
       "27544  fff13fa2-a725-49ef-812a-39c6cedda33d          0.7154      0.0\n",
       "27545  fff30afc-db62-4408-a585-07ca9a254fcc          0.9698      1.0\n",
       "27546  fff3ff61-2387-4139-938b-539db01e6be5          0.5257      0.0\n",
       "27547  fff474bf-39a4-4a61-8348-6b992fb5e439          0.1945      0.0\n",
       "27548  fffaa9f8-4db0-46c5-90fb-93b7b014b55d          0.0243      0.0\n",
       "27549  fffce9f0-a5e8-4bee-b13b-c671aac4a61c          0.9754      1.0"
      ]
     },
     "execution_count": 122,
     "metadata": {},
     "output_type": "execute_result"
    }
   ],
   "source": [
    "df_test"
   ]
  },
  {
   "cell_type": "code",
   "execution_count": 124,
   "id": "855c0801-9b5d-436b-9c52-abb1add01490",
   "metadata": {},
   "outputs": [
    {
     "data": {
      "text/plain": [
       "array([1., 0., 1., 1., 0., 1., 0., 0., 0., 1.])"
      ]
     },
     "execution_count": 124,
     "metadata": {},
     "output_type": "execute_result"
    }
   ],
   "source": [
    "label = df_test.classID\n",
    "label = np.array(label)\n",
    "label"
   ]
  },
  {
   "cell_type": "code",
   "execution_count": 126,
   "id": "3df3707b-f3a5-4779-8c42-5c07b8f61ecd",
   "metadata": {
    "scrolled": true
   },
   "outputs": [
    {
     "name": "stderr",
     "output_type": "stream",
     "text": [
      "\n",
      "\n",
      "0it [00:00, ?it/s]\u001b[A\u001b[A\n",
      "\n",
      "1it [00:00,  6.00it/s]\u001b[A\u001b[A\n",
      "\n",
      "2it [00:00,  7.50it/s]\u001b[A\u001b[A\n",
      "\n",
      "3it [00:00,  6.78it/s]\u001b[A\u001b[A\n",
      "\n",
      "4it [00:00,  6.40it/s]\u001b[A\u001b[A\n",
      "\n",
      "5it [00:00,  5.95it/s]\u001b[A\u001b[A\n",
      "\n",
      "6it [00:00,  5.75it/s]\u001b[A\u001b[A\n",
      "\n",
      "7it [00:01,  6.10it/s]\u001b[A\u001b[A\n",
      "\n",
      "8it [00:01,  4.39it/s]\u001b[A\u001b[A\n",
      "\n",
      "10it [00:01,  5.45it/s][A\u001b[A\n"
     ]
    },
    {
     "data": {
      "text/plain": [
       "[array([-4.77452209e+02,  5.04670677e+01, -2.13637428e+01,  5.64265251e+00,\n",
       "        -8.29525661e+00,  5.72626114e+00, -1.07531414e+01, -4.68582344e+00,\n",
       "        -1.12056923e+01, -4.09742069e+00, -5.59012842e+00, -6.83215189e+00,\n",
       "        -1.66376397e-01,  1.55312408e+02,  6.93939285e+01,  4.12246284e+01,\n",
       "         2.98596382e+01,  2.39318790e+01,  2.32477093e+01,  1.95685463e+01,\n",
       "         1.47643747e+01,  1.60943165e+01,  1.14464674e+01,  1.10650816e+01,\n",
       "         1.19051418e+01,  1.14064369e+01,  2.31045145e+03,  1.05082062e+03,\n",
       "         1.88939686e-01,  1.11544588e-01,  2.69978605e-02,  4.87804189e-02,\n",
       "         1.80176382e+03,  6.08946370e+02,  1.55329643e+01,  1.29255328e+01,\n",
       "         1.47590599e+01,  1.62022438e+01,  1.75619858e+01,  1.99117367e+01,\n",
       "         4.67721070e+01,  1.30443561e+00,  2.63764739e+00]),\n",
       " array([-2.75194519e+02,  9.33919678e+01,  5.36654890e-01, -1.64697990e+01,\n",
       "        -4.76864529e+00,  4.81999731e+00,  8.58631790e-01, -4.08536816e+00,\n",
       "        -4.32633877e+00,  3.98994613e+00,  3.10335946e+00, -1.85649691e-03,\n",
       "        -1.00523310e+01,  1.41257538e+02,  3.29254837e+01,  2.73136368e+01,\n",
       "         1.88399658e+01,  1.38503609e+01,  1.02597666e+01,  1.18402100e+01,\n",
       "         9.08053875e+00,  1.26570559e+01,  1.54423389e+01,  1.59110212e+01,\n",
       "         1.10953913e+01,  1.17463741e+01,  2.07451003e+03,  8.55117916e+02,\n",
       "         1.04091923e-01,  7.72647793e-02,  7.85527974e-02,  1.20728031e-01,\n",
       "         2.33332528e+03,  5.37304792e+02,  1.69246590e+01,  1.20328390e+01,\n",
       "         1.61730846e+01,  1.59774832e+01,  1.89326160e+01,  1.76062891e+01,\n",
       "         4.72123307e+01,  1.34609997e+00,  2.41387773e+00]),\n",
       " array([-4.20832428e+02,  2.41599216e+01, -7.46264648e+00, -1.10911858e+00,\n",
       "        -7.29736996e+00,  2.58553767e+00, -3.61488724e+00, -2.99586940e+00,\n",
       "        -2.90081096e+00, -2.30981469e+00, -7.59630501e-01, -2.11788893e+00,\n",
       "        -2.93195814e-01,  1.10608528e+02,  4.64474373e+01,  2.13333302e+01,\n",
       "         1.49483891e+01,  1.77401886e+01,  1.15573187e+01,  1.21544504e+01,\n",
       "         8.90593147e+00,  7.92708588e+00,  7.20019150e+00,  6.19937706e+00,\n",
       "         8.45506763e+00,  6.66810799e+00,  9.30690388e+02,  1.28759465e+03,\n",
       "         6.17552833e-02,  9.00038095e-02,  2.73617934e-02,  8.93804133e-02,\n",
       "         7.38268692e+02,  9.37313483e+02,  1.66155469e+01,  1.51148430e+01,\n",
       "         1.60366362e+01,  1.63998279e+01,  1.76228311e+01,  1.78579058e+01,\n",
       "         3.11803060e+01,  6.95416212e-01,  2.24734330e+00]),\n",
       " array([-5.09111389e+02,  2.96699867e+01, -1.39027338e+01,  3.88469982e+00,\n",
       "        -7.17502451e+00,  2.62287283e+00, -6.48601246e+00,  2.42813945e+00,\n",
       "         2.00153422e+00,  1.96656859e+00, -1.39719832e+00, -2.59245467e+00,\n",
       "         4.03755379e+00,  1.61183548e+02,  5.16382713e+01,  3.02254047e+01,\n",
       "         1.59236155e+01,  1.80220318e+01,  1.27470903e+01,  1.42085075e+01,\n",
       "         1.16914291e+01,  7.24807072e+00,  8.05961895e+00,  8.32719326e+00,\n",
       "         8.02057743e+00,  7.69647598e+00,  2.71194410e+03,  6.63593210e+02,\n",
       "         2.26460619e-01,  7.79539800e-02,  1.71038378e-02,  4.31713574e-02,\n",
       "         2.24691726e+03,  4.64484101e+02,  1.46186146e+01,  1.08487550e+01,\n",
       "         1.39237217e+01,  1.44579637e+01,  1.66623711e+01,  1.96681543e+01,\n",
       "         4.50778774e+01,  9.17419612e-01,  3.63835692e+00]),\n",
       " array([-5.42518860e+02,  2.55745392e+01, -1.45088072e+01,  1.26723719e+00,\n",
       "        -2.06869755e+01,  1.09084959e+01, -2.23253822e+01,  4.44029760e+00,\n",
       "        -8.08434677e+00, -1.61772394e+00,  7.36715734e-01, -4.96506023e+00,\n",
       "         2.63156152e+00,  1.73313019e+02,  3.47576752e+01,  3.42503929e+01,\n",
       "         1.75980549e+01,  2.97083797e+01,  2.94950333e+01,  2.64831257e+01,\n",
       "         1.62850761e+01,  1.37757750e+01,  1.15149221e+01,  1.03193827e+01,\n",
       "         1.15414667e+01,  8.39707851e+00,  3.14402920e+03,  1.14153126e+03,\n",
       "         3.25481191e-01,  2.03915733e-01,  1.45528717e-02,  3.74340117e-02,\n",
       "         2.40033423e+03,  4.33212990e+02,  1.48007835e+01,  1.25819964e+01,\n",
       "         1.77903365e+01,  1.62884562e+01,  1.64502595e+01,  1.78223413e+01,\n",
       "         5.40256966e+01,  1.06597161e+00,  3.25375390e+00]),\n",
       " array([-4.85401215e+02,  2.63426285e+01, -1.60358200e+01,  1.09415207e+01,\n",
       "        -1.27424870e+01, -3.06963205e+00, -4.52503920e+00, -1.22580791e+00,\n",
       "        -5.60930634e+00, -5.52243042e+00, -3.20478797e-01, -2.85549951e+00,\n",
       "         1.41861999e+00,  1.55140244e+02,  5.55454407e+01,  4.05313072e+01,\n",
       "         2.66185055e+01,  3.02240467e+01,  1.15257177e+01,  1.48579483e+01,\n",
       "         9.00293541e+00,  1.23657188e+01,  1.38583317e+01,  1.04955473e+01,\n",
       "         9.26146507e+00,  9.05106926e+00,  1.81486757e+03,  1.61519764e+03,\n",
       "         1.25718128e-01,  1.31902233e-01,  2.61691585e-02,  5.75533621e-02,\n",
       "         1.21977343e+03,  1.05747472e+03,  1.33165318e+01,  1.22989044e+01,\n",
       "         1.30352172e+01,  1.46013473e+01,  1.53804766e+01,  1.72126648e+01,\n",
       "         3.27346358e+01,  8.93862724e-01,  3.04285288e+00]),\n",
       " array([-4.48928497e+02,  3.12053547e+01, -5.50211754e+01,  2.07668648e+01,\n",
       "        -1.37031832e+01, -1.15687571e+01, -8.95979881e+00, -1.20432396e+01,\n",
       "         4.86208534e+00,  1.54097402e+00, -3.39493489e+00,  7.75135040e-01,\n",
       "        -1.13021366e-01,  2.03446320e+02,  4.91467743e+01,  7.31165848e+01,\n",
       "         2.88327980e+01,  2.30570354e+01,  1.69079494e+01,  1.61567478e+01,\n",
       "         1.58385143e+01,  8.04737759e+00,  8.70252132e+00,  9.88744450e+00,\n",
       "         7.78153944e+00,  6.69613695e+00,  2.19918227e+03,  1.71442757e+03,\n",
       "         1.36469061e-01,  1.06634613e-01,  6.31475523e-02,  1.06254853e-01,\n",
       "         1.16968798e+03,  9.36881613e+02,  1.54159124e+01,  1.35290600e+01,\n",
       "         1.62216038e+01,  1.59761424e+01,  1.82819284e+01,  2.21518870e+01,\n",
       "         3.79731388e+01,  9.24642563e-01,  3.27193832e+00]),\n",
       " array([-6.80959351e+02,  1.27799845e+01, -8.24328518e+00,  7.50796413e+00,\n",
       "        -2.77653337e-01, -2.28216267e+00, -2.39386535e+00,  1.61432004e+00,\n",
       "        -1.88374758e+00, -2.26688194e+00, -2.10884595e+00, -2.76764774e+00,\n",
       "         3.41879189e-01,  1.15093575e+02,  3.84298668e+01,  2.25098362e+01,\n",
       "         2.14394665e+01,  8.54100990e+00,  8.55451584e+00,  1.08548260e+01,\n",
       "         6.11958408e+00,  7.27518320e+00,  5.91316843e+00,  7.19059658e+00,\n",
       "         6.77910900e+00,  6.85482931e+00,  8.07764982e+02,  1.55218611e+03,\n",
       "         6.02706873e-02,  1.34408875e-01,  2.62537482e-03,  1.16278492e-02,\n",
       "         5.38114390e+02,  9.65628181e+02,  9.29490582e+00,  8.13007436e+00,\n",
       "         8.88982785e+00,  9.30427172e+00,  9.72573840e+00,  1.01165817e+01,\n",
       "         1.64495813e+01,  3.68376732e-01,  2.12589860e+00]),\n",
       " array([-2.65393616e+02,  1.31145889e+02, -4.36366310e+01,  4.91756153e+00,\n",
       "        -1.13590568e-01, -1.47669001e+01, -8.51899052e+00, -2.28840590e+00,\n",
       "        -1.49104147e+01, -4.90842199e+00, -5.86236572e+00, -1.16872072e+01,\n",
       "         4.65520477e+00,  1.41069519e+02,  7.57605133e+01,  4.64826508e+01,\n",
       "         3.69382133e+01,  3.13694267e+01,  2.10635700e+01,  1.99690151e+01,\n",
       "         1.72024021e+01,  1.74704170e+01,  1.44422121e+01,  1.23288841e+01,\n",
       "         1.31228428e+01,  1.07360506e+01,  1.49012709e+03,  7.03381855e+02,\n",
       "         1.05795796e-01,  6.56650862e-02,  1.26574948e-01,  1.12692274e-01,\n",
       "         1.20589305e+03,  4.97971702e+02,  2.00734350e+01,  1.57143113e+01,\n",
       "         1.92595690e+01,  1.94647189e+01,  2.20455972e+01,  2.74516383e+01,\n",
       "         4.99503013e+01,  1.77310443e+00,  2.33404732e+00]),\n",
       " array([-4.43157318e+02,  5.20176392e+01, -4.30520344e+00,  5.12971926e+00,\n",
       "        -8.14399529e+00,  8.61512089e+00, -4.81161356e+00, -1.82802045e+00,\n",
       "        -1.13266668e+01, -1.00431957e+01, -5.85154724e+00, -4.47565079e+00,\n",
       "        -1.00166011e+00,  1.59387131e+02,  6.23513145e+01,  2.30912552e+01,\n",
       "         1.66843491e+01,  1.41200848e+01,  1.54106131e+01,  1.26969404e+01,\n",
       "         1.45364408e+01,  1.66429977e+01,  1.73573437e+01,  8.14355087e+00,\n",
       "         7.80718184e+00,  7.25175905e+00,  1.60831895e+03,  1.50193805e+03,\n",
       "         8.91469320e-02,  1.08366455e-01,  3.51680145e-02,  7.05628693e-02,\n",
       "         1.41407831e+03,  1.03249455e+03,  1.44986723e+01,  1.25347869e+01,\n",
       "         1.35859058e+01,  1.39701355e+01,  1.44496331e+01,  1.51328917e+01,\n",
       "         3.52682676e+01,  8.76657963e-01,  2.11956024e+00])]"
      ]
     },
     "execution_count": 126,
     "metadata": {},
     "output_type": "execute_result"
    }
   ],
   "source": [
    "extracted_test_features = []\n",
    "\n",
    "for index_num, row in tqdm(df_test.iterrows()):\n",
    "    file_name = dataset_path + row['uuid'] + '.wav'\n",
    "    data = feature_extraction(file_name)\n",
    "    extracted_test_features.append(data)\n",
    "\n",
    "extracted_test_features"
   ]
  },
  {
   "cell_type": "code",
   "execution_count": null,
   "id": "d57ad129-ad1a-4afc-933e-9f4415001568",
   "metadata": {},
   "outputs": [],
   "source": []
  },
  {
   "cell_type": "code",
   "execution_count": null,
   "id": "6e8cd091-203f-4e7e-a70d-695de757a20b",
   "metadata": {},
   "outputs": [],
   "source": []
  },
  {
   "cell_type": "code",
   "execution_count": 131,
   "id": "a5429479-23b0-46d6-8e26-05e5e25b28b3",
   "metadata": {},
   "outputs": [],
   "source": [
    "extracted_test_features = np.array(extracted_test_features)\n",
    "extracted_test_features_reshaped = extracted_test_features.reshape(extracted_test_features.shape[0], extracted_test_features.shape[1], 1)"
   ]
  },
  {
   "cell_type": "code",
   "execution_count": 133,
   "id": "3ba1bd7f-4e8c-4611-b3d6-15fa328f90f6",
   "metadata": {},
   "outputs": [
    {
     "name": "stdout",
     "output_type": "stream",
     "text": [
      "1/1 [==============================] - 0s 27ms/step\n"
     ]
    },
    {
     "data": {
      "text/plain": [
       "array([[0],\n",
       "       [0],\n",
       "       [0],\n",
       "       [1],\n",
       "       [1],\n",
       "       [0],\n",
       "       [0],\n",
       "       [0],\n",
       "       [0],\n",
       "       [1]])"
      ]
     },
     "execution_count": 133,
     "metadata": {},
     "output_type": "execute_result"
    }
   ],
   "source": [
    "test_prediction = model.predict(np.array(extracted_test_features_reshaped))\n",
    "test_pred = (test_prediction >= best_threshold).astype(int)\n",
    "test_pred"
   ]
  },
  {
   "cell_type": "code",
   "execution_count": 145,
   "id": "5bb86a40-4b6e-428e-8c60-d5d4345387dd",
   "metadata": {},
   "outputs": [
    {
     "data": {
      "text/plain": [
       "array([2.7850115e-01, 7.9431502e-06, 2.4840038e-02, 8.4334517e-01,\n",
       "       9.9993867e-01, 3.4401623e-05, 2.7864147e-02, 2.2081025e-05,\n",
       "       1.2695359e-05, 9.9999541e-01], dtype=float32)"
      ]
     },
     "execution_count": 145,
     "metadata": {},
     "output_type": "execute_result"
    }
   ],
   "source": [
    "test_prediction_reshaped = test_prediction.reshape(test_prediction.shape[0])\n",
    "test_prediction_reshaped"
   ]
  },
  {
   "cell_type": "code",
   "execution_count": 148,
   "id": "00188e82-a056-469b-aadd-115b93b5da8a",
   "metadata": {},
   "outputs": [
    {
     "data": {
      "text/html": [
       "<div>\n",
       "<style scoped>\n",
       "    .dataframe tbody tr th:only-of-type {\n",
       "        vertical-align: middle;\n",
       "    }\n",
       "\n",
       "    .dataframe tbody tr th {\n",
       "        vertical-align: top;\n",
       "    }\n",
       "\n",
       "    .dataframe thead th {\n",
       "        text-align: right;\n",
       "    }\n",
       "</style>\n",
       "<table border=\"1\" class=\"dataframe\">\n",
       "  <thead>\n",
       "    <tr style=\"text-align: right;\">\n",
       "      <th></th>\n",
       "      <th>Model</th>\n",
       "      <th>label</th>\n",
       "    </tr>\n",
       "  </thead>\n",
       "  <tbody>\n",
       "    <tr>\n",
       "      <th>0</th>\n",
       "      <td>0.278501</td>\n",
       "      <td>1.0</td>\n",
       "    </tr>\n",
       "    <tr>\n",
       "      <th>1</th>\n",
       "      <td>0.000008</td>\n",
       "      <td>0.0</td>\n",
       "    </tr>\n",
       "    <tr>\n",
       "      <th>2</th>\n",
       "      <td>0.024840</td>\n",
       "      <td>1.0</td>\n",
       "    </tr>\n",
       "    <tr>\n",
       "      <th>3</th>\n",
       "      <td>0.843345</td>\n",
       "      <td>1.0</td>\n",
       "    </tr>\n",
       "    <tr>\n",
       "      <th>4</th>\n",
       "      <td>0.999939</td>\n",
       "      <td>0.0</td>\n",
       "    </tr>\n",
       "    <tr>\n",
       "      <th>5</th>\n",
       "      <td>0.000034</td>\n",
       "      <td>1.0</td>\n",
       "    </tr>\n",
       "    <tr>\n",
       "      <th>6</th>\n",
       "      <td>0.027864</td>\n",
       "      <td>0.0</td>\n",
       "    </tr>\n",
       "    <tr>\n",
       "      <th>7</th>\n",
       "      <td>0.000022</td>\n",
       "      <td>0.0</td>\n",
       "    </tr>\n",
       "    <tr>\n",
       "      <th>8</th>\n",
       "      <td>0.000013</td>\n",
       "      <td>0.0</td>\n",
       "    </tr>\n",
       "    <tr>\n",
       "      <th>9</th>\n",
       "      <td>0.999995</td>\n",
       "      <td>1.0</td>\n",
       "    </tr>\n",
       "  </tbody>\n",
       "</table>\n",
       "</div>"
      ],
      "text/plain": [
       "      Model  label\n",
       "0  0.278501    1.0\n",
       "1  0.000008    0.0\n",
       "2  0.024840    1.0\n",
       "3  0.843345    1.0\n",
       "4  0.999939    0.0\n",
       "5  0.000034    1.0\n",
       "6  0.027864    0.0\n",
       "7  0.000022    0.0\n",
       "8  0.000013    0.0\n",
       "9  0.999995    1.0"
      ]
     },
     "execution_count": 148,
     "metadata": {},
     "output_type": "execute_result"
    }
   ],
   "source": [
    "d = {'Model' : test_prediction_reshaped,'label' : label}\n",
    "d = pd.DataFrame(data=d)\n",
    "d"
   ]
  },
  {
   "cell_type": "code",
   "execution_count": 149,
   "id": "7bbc0371-c066-40fb-b4a0-0d2485f83f43",
   "metadata": {},
   "outputs": [
    {
     "name": "stdout",
     "output_type": "stream",
     "text": [
      "1/1 [==============================] - 1s 513ms/step - loss: 2.5149 - accuracy: 0.6000\n"
     ]
    }
   ],
   "source": [
    "test_loss, test_accuracy = model.evaluate(extracted_test_features_reshaped, label)"
   ]
  },
  {
   "cell_type": "code",
   "execution_count": 150,
   "id": "f25c2314-93d1-4c9c-a264-eda66254672c",
   "metadata": {},
   "outputs": [
    {
     "data": {
      "text/plain": [
       "0.6000000238418579"
      ]
     },
     "execution_count": 150,
     "metadata": {},
     "output_type": "execute_result"
    }
   ],
   "source": [
    "test_accuracy"
   ]
  }
 ],
 "metadata": {
  "kernelspec": {
   "display_name": "Python 3 (ipykernel)",
   "language": "python",
   "name": "python3"
  },
  "language_info": {
   "codemirror_mode": {
    "name": "ipython",
    "version": 3
   },
   "file_extension": ".py",
   "mimetype": "text/x-python",
   "name": "python",
   "nbconvert_exporter": "python",
   "pygments_lexer": "ipython3",
   "version": "3.11.10"
  }
 },
 "nbformat": 4,
 "nbformat_minor": 5
}
