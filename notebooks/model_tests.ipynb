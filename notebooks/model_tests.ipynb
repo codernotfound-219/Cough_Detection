{
 "cells": [
  {
   "cell_type": "code",
   "execution_count": 1,
   "id": "63dfb6ef-dbd5-483d-9a92-718904c69e6a",
   "metadata": {},
   "outputs": [],
   "source": [
    "import pickle\n",
    "import numpy as np\n",
    "import pandas as pd\n",
    "import extractors"
   ]
  },
  {
   "cell_type": "code",
   "execution_count": 2,
   "id": "ee7fedcb-929e-4e8a-9dc2-7e25baf6ce3a",
   "metadata": {},
   "outputs": [],
   "source": [
    "with open('saved_models/cnn_lstm_mfcc', 'rb') as f:\n",
    "    cnn_lstm_mfcc = pickle.load(f)"
   ]
  },
  {
   "cell_type": "code",
   "execution_count": 21,
   "id": "d48f1b52-2ffb-4bca-bbd0-28e95f078045",
   "metadata": {},
   "outputs": [],
   "source": [
    "test_file = 'test_samples/cough.mp3'\n",
    "test_features = extractors.mfcc_extract(test_file)\n",
    "test_features = np.array([test_features])"
   ]
  },
  {
   "cell_type": "code",
   "execution_count": 23,
   "id": "d47e5135-514d-4f44-8174-00cf8092fecc",
   "metadata": {},
   "outputs": [
    {
     "name": "stdout",
     "output_type": "stream",
     "text": [
      "1/1 [==============================] - 0s 19ms/step\n"
     ]
    },
    {
     "data": {
      "text/plain": [
       "0.53850824"
      ]
     },
     "execution_count": 23,
     "metadata": {},
     "output_type": "execute_result"
    }
   ],
   "source": [
    "prediction = cnn_lstm_mfcc.predict(test_features)\n",
    "prediction[0][0]"
   ]
  },
  {
   "cell_type": "code",
   "execution_count": 24,
   "id": "c5d2e34b-aeee-4510-9026-942dec997f34",
   "metadata": {},
   "outputs": [],
   "source": [
    "with open('saved_models/cnn_lstm_advanced', 'rb') as f:\n",
    "    cnn_lstm_advn = pickle.load(f)"
   ]
  },
  {
   "cell_type": "code",
   "execution_count": 29,
   "id": "8a330906-74d8-4e7e-9b96-44d7ef69293f",
   "metadata": {},
   "outputs": [],
   "source": [
    "test_features1 = extractors.advanced_extract(test_file)\n",
    "test_features1 = np.array([test_features1])"
   ]
  },
  {
   "cell_type": "code",
   "execution_count": 31,
   "id": "2e3b2492-552c-4ccb-925c-42bcee55bf48",
   "metadata": {},
   "outputs": [
    {
     "name": "stdout",
     "output_type": "stream",
     "text": [
      "1/1 [==============================] - 0s 21ms/step\n"
     ]
    },
    {
     "data": {
      "text/plain": [
       "0.72314024"
      ]
     },
     "execution_count": 31,
     "metadata": {},
     "output_type": "execute_result"
    }
   ],
   "source": [
    "prediction1 = cnn_lstm_advn.predict(test_features1)\n",
    "prediction1[0][0]"
   ]
  },
  {
   "cell_type": "code",
   "execution_count": 33,
   "id": "0221f259-433e-4b84-be23-fd56c4054792",
   "metadata": {},
   "outputs": [],
   "source": [
    "with open('saved_models/cnn_spect', 'rb') as f:\n",
    "    cnn_spect = pickle.load(f)"
   ]
  },
  {
   "cell_type": "code",
   "execution_count": 56,
   "id": "e3570f51-423e-4391-a4e1-5ed5ed26b4dc",
   "metadata": {},
   "outputs": [
    {
     "data": {
      "text/plain": [
       "array([[[[3.38339239e-01]],\n",
       "\n",
       "        [[2.14230582e-01]],\n",
       "\n",
       "        [[2.19204217e-01]],\n",
       "\n",
       "        [[6.51935697e-01]],\n",
       "\n",
       "        [[2.80876470e+00]],\n",
       "\n",
       "        [[2.03940296e+00]],\n",
       "\n",
       "        [[8.18755031e-01]],\n",
       "\n",
       "        [[5.09544671e-01]],\n",
       "\n",
       "        [[1.88154674e+00]],\n",
       "\n",
       "        [[5.24834347e+00]],\n",
       "\n",
       "        [[1.19531784e+01]],\n",
       "\n",
       "        [[1.84552116e+01]],\n",
       "\n",
       "        [[1.78574886e+01]],\n",
       "\n",
       "        [[1.03794651e+01]],\n",
       "\n",
       "        [[1.10712290e+01]],\n",
       "\n",
       "        [[9.59494209e+00]],\n",
       "\n",
       "        [[7.54469347e+00]],\n",
       "\n",
       "        [[1.75230045e+01]],\n",
       "\n",
       "        [[5.65917473e+01]],\n",
       "\n",
       "        [[1.32642040e+01]],\n",
       "\n",
       "        [[2.11787891e+00]],\n",
       "\n",
       "        [[6.89869976e+00]],\n",
       "\n",
       "        [[8.97601223e+00]],\n",
       "\n",
       "        [[6.93146849e+00]],\n",
       "\n",
       "        [[1.60570679e+01]],\n",
       "\n",
       "        [[2.38797283e+01]],\n",
       "\n",
       "        [[1.84771309e+01]],\n",
       "\n",
       "        [[1.01626987e+01]],\n",
       "\n",
       "        [[6.56618500e+00]],\n",
       "\n",
       "        [[6.69577074e+00]],\n",
       "\n",
       "        [[7.21298265e+00]],\n",
       "\n",
       "        [[5.13781881e+00]],\n",
       "\n",
       "        [[3.27576590e+00]],\n",
       "\n",
       "        [[2.31797719e+00]],\n",
       "\n",
       "        [[2.12494087e+00]],\n",
       "\n",
       "        [[1.32901359e+00]],\n",
       "\n",
       "        [[2.01662302e+00]],\n",
       "\n",
       "        [[5.42494249e+00]],\n",
       "\n",
       "        [[6.49362707e+00]],\n",
       "\n",
       "        [[9.01954937e+00]],\n",
       "\n",
       "        [[1.03589983e+01]],\n",
       "\n",
       "        [[8.40628338e+00]],\n",
       "\n",
       "        [[2.89879465e+00]],\n",
       "\n",
       "        [[1.79665959e+00]],\n",
       "\n",
       "        [[9.05427933e-01]],\n",
       "\n",
       "        [[9.43461061e-01]],\n",
       "\n",
       "        [[1.03062046e+00]],\n",
       "\n",
       "        [[1.89421988e+00]],\n",
       "\n",
       "        [[6.28439713e+00]],\n",
       "\n",
       "        [[1.00408268e+01]],\n",
       "\n",
       "        [[5.47803402e+00]],\n",
       "\n",
       "        [[3.67187715e+00]],\n",
       "\n",
       "        [[4.09479713e+00]],\n",
       "\n",
       "        [[9.56837368e+00]],\n",
       "\n",
       "        [[2.24841118e+01]],\n",
       "\n",
       "        [[2.78306999e+01]],\n",
       "\n",
       "        [[2.23119335e+01]],\n",
       "\n",
       "        [[1.40266466e+01]],\n",
       "\n",
       "        [[7.68312607e+01]],\n",
       "\n",
       "        [[9.93159256e+01]],\n",
       "\n",
       "        [[1.14526108e+02]],\n",
       "\n",
       "        [[4.98849678e+01]],\n",
       "\n",
       "        [[1.99153271e+01]],\n",
       "\n",
       "        [[2.13795757e+01]],\n",
       "\n",
       "        [[7.54288578e+00]],\n",
       "\n",
       "        [[1.46275377e+00]],\n",
       "\n",
       "        [[1.35515273e+00]],\n",
       "\n",
       "        [[1.01666534e+00]],\n",
       "\n",
       "        [[4.31177944e-01]],\n",
       "\n",
       "        [[4.45724249e-01]],\n",
       "\n",
       "        [[1.00648165e+00]],\n",
       "\n",
       "        [[1.27314937e+00]],\n",
       "\n",
       "        [[1.86123884e+00]],\n",
       "\n",
       "        [[3.12077236e+00]],\n",
       "\n",
       "        [[3.87721419e+00]],\n",
       "\n",
       "        [[3.09004688e+00]],\n",
       "\n",
       "        [[2.59518218e+00]],\n",
       "\n",
       "        [[8.66686463e-01]],\n",
       "\n",
       "        [[1.76305068e+00]],\n",
       "\n",
       "        [[2.35051727e+00]],\n",
       "\n",
       "        [[8.38061810e-01]],\n",
       "\n",
       "        [[5.07711411e-01]],\n",
       "\n",
       "        [[4.07230347e-01]],\n",
       "\n",
       "        [[3.89949203e-01]],\n",
       "\n",
       "        [[3.31676900e-01]],\n",
       "\n",
       "        [[7.96124876e-01]],\n",
       "\n",
       "        [[3.65260625e+00]],\n",
       "\n",
       "        [[1.93334150e+00]],\n",
       "\n",
       "        [[2.25513268e+00]],\n",
       "\n",
       "        [[8.44273925e-01]],\n",
       "\n",
       "        [[3.66075188e-01]],\n",
       "\n",
       "        [[4.13967609e-01]],\n",
       "\n",
       "        [[5.71250439e-01]],\n",
       "\n",
       "        [[3.72951090e-01]],\n",
       "\n",
       "        [[4.23095167e-01]],\n",
       "\n",
       "        [[4.11575288e-01]],\n",
       "\n",
       "        [[2.35704750e-01]],\n",
       "\n",
       "        [[1.42712787e-01]],\n",
       "\n",
       "        [[1.67451531e-01]],\n",
       "\n",
       "        [[2.46750742e-01]],\n",
       "\n",
       "        [[3.73816758e-01]],\n",
       "\n",
       "        [[3.90502274e-01]],\n",
       "\n",
       "        [[4.71808553e-01]],\n",
       "\n",
       "        [[2.57495195e-01]],\n",
       "\n",
       "        [[3.33440334e-01]],\n",
       "\n",
       "        [[1.76987991e-01]],\n",
       "\n",
       "        [[2.50462472e-01]],\n",
       "\n",
       "        [[1.63501784e-01]],\n",
       "\n",
       "        [[1.05059803e-01]],\n",
       "\n",
       "        [[8.22520107e-02]],\n",
       "\n",
       "        [[1.95522428e-01]],\n",
       "\n",
       "        [[1.63142189e-01]],\n",
       "\n",
       "        [[1.39541760e-01]],\n",
       "\n",
       "        [[3.05956692e-01]],\n",
       "\n",
       "        [[1.94780022e-01]],\n",
       "\n",
       "        [[2.74074882e-01]],\n",
       "\n",
       "        [[2.60052979e-01]],\n",
       "\n",
       "        [[2.40899906e-01]],\n",
       "\n",
       "        [[1.61190897e-01]],\n",
       "\n",
       "        [[1.08324826e-01]],\n",
       "\n",
       "        [[1.58075839e-01]],\n",
       "\n",
       "        [[1.36211708e-01]],\n",
       "\n",
       "        [[9.37703922e-02]],\n",
       "\n",
       "        [[4.48780805e-02]],\n",
       "\n",
       "        [[4.13296111e-02]],\n",
       "\n",
       "        [[3.68079059e-02]],\n",
       "\n",
       "        [[1.87336486e-02]],\n",
       "\n",
       "        [[2.33191228e-03]]]], dtype=float32)"
      ]
     },
     "execution_count": 56,
     "metadata": {},
     "output_type": "execute_result"
    }
   ],
   "source": [
    "test_features2 = extractors.melSpect_extract(test_file)\n",
    "test_features2 = test_features2.reshape(1, 128, 1, 1)\n",
    "test_features2"
   ]
  },
  {
   "cell_type": "code",
   "execution_count": 57,
   "id": "45d77d82-c968-4ee8-bac0-546768ce2ee8",
   "metadata": {},
   "outputs": [
    {
     "name": "stdout",
     "output_type": "stream",
     "text": [
      "1/1 [==============================] - 0s 17ms/step\n"
     ]
    }
   ],
   "source": [
    "prediction2 = cnn_spect.predict(test_features2)"
   ]
  },
  {
   "cell_type": "code",
   "execution_count": 58,
   "id": "1726cc04-e6d7-4dd7-9881-6c1981370e37",
   "metadata": {},
   "outputs": [
    {
     "data": {
      "text/plain": [
       "array([[5.23423e-08]], dtype=float32)"
      ]
     },
     "execution_count": 58,
     "metadata": {},
     "output_type": "execute_result"
    }
   ],
   "source": [
    "prediction2"
   ]
  },
  {
   "cell_type": "code",
   "execution_count": 55,
   "id": "af8e8230-193f-4dbf-8c76-79d25f2447de",
   "metadata": {},
   "outputs": [
    {
     "data": {
      "text/plain": [
       "(None, 128, 1, 1)"
      ]
     },
     "execution_count": 55,
     "metadata": {},
     "output_type": "execute_result"
    }
   ],
   "source": [
    "cnn_spect.input_shape"
   ]
  },
  {
   "cell_type": "code",
   "execution_count": 59,
   "id": "4002c9bc-e200-4490-a267-63a6c64e606f",
   "metadata": {},
   "outputs": [],
   "source": [
    "test_file2 = 'test_samples/cough3.mp3'\n",
    "test_features3 = extractors.melSpect_extract(test_file2)\n",
    "test_features3 = test_features3.reshape(1, 128, 1, 1)"
   ]
  },
  {
   "cell_type": "code",
   "execution_count": 61,
   "id": "68180256-98a6-4828-8106-b5099bbad697",
   "metadata": {},
   "outputs": [
    {
     "name": "stdout",
     "output_type": "stream",
     "text": [
      "1/1 [==============================] - 0s 17ms/step\n"
     ]
    },
    {
     "data": {
      "text/plain": [
       "array([[0.8229142]], dtype=float32)"
      ]
     },
     "execution_count": 61,
     "metadata": {},
     "output_type": "execute_result"
    }
   ],
   "source": [
    "prediction3= cnn_spect.predict(test_features3)\n",
    "prediction3"
   ]
  },
  {
   "cell_type": "code",
   "execution_count": 62,
   "id": "8ecf94a4-d6c1-40ec-b3ca-c9f88321437e",
   "metadata": {},
   "outputs": [],
   "source": [
    "test_file3 = 'test_samples/laugh.mp3'\n",
    "test_features4 = extractors.melSpect_extract(test_file3)\n",
    "test_features4 =  test_features4.reshape(1, 128, 1, 1)"
   ]
  },
  {
   "cell_type": "code",
   "execution_count": 63,
   "id": "19202be3-1106-43db-97c1-cf3fbc112fa8",
   "metadata": {},
   "outputs": [
    {
     "name": "stdout",
     "output_type": "stream",
     "text": [
      "1/1 [==============================] - 0s 14ms/step\n"
     ]
    },
    {
     "data": {
      "text/plain": [
       "array([[0.51250523]], dtype=float32)"
      ]
     },
     "execution_count": 63,
     "metadata": {},
     "output_type": "execute_result"
    }
   ],
   "source": [
    "prediction4 = cnn_spect.predict(test_features4)\n",
    "prediction4"
   ]
  }
 ],
 "metadata": {
  "kernelspec": {
   "display_name": "Python 3 (ipykernel)",
   "language": "python",
   "name": "python3"
  },
  "language_info": {
   "codemirror_mode": {
    "name": "ipython",
    "version": 3
   },
   "file_extension": ".py",
   "mimetype": "text/x-python",
   "name": "python",
   "nbconvert_exporter": "python",
   "pygments_lexer": "ipython3",
   "version": "3.11.10"
  }
 },
 "nbformat": 4,
 "nbformat_minor": 5
}
