{
 "cells": [
  {
   "cell_type": "code",
   "execution_count": 1,
   "id": "f4ee01ce-cb7b-4dd2-aa24-528156b4cde4",
   "metadata": {},
   "outputs": [],
   "source": [
    "import pandas as pd\n",
    "import numpy as np\n",
    "import os\n",
    "from tqdm import tqdm\n",
    "import tensorflow as tf\n",
    "\n",
    "from sklearn.model_selection import train_test_split\n",
    "from tensorflow.keras.models import Sequential\n",
    "from tensorflow.keras.layers import Dense, Dropout, Conv2D, MaxPooling2D, Flatten, LSTM\n",
    "from tensorflow.keras.optimizers import Adam\n",
    "from sklearn import metrics"
   ]
  },
  {
   "cell_type": "code",
   "execution_count": 2,
   "id": "f85c3952-22fc-4234-8db2-ff31b97dfd06",
   "metadata": {},
   "outputs": [
    {
     "data": {
      "text/html": [
       "<div>\n",
       "<style scoped>\n",
       "    .dataframe tbody tr th:only-of-type {\n",
       "        vertical-align: middle;\n",
       "    }\n",
       "\n",
       "    .dataframe tbody tr th {\n",
       "        vertical-align: top;\n",
       "    }\n",
       "\n",
       "    .dataframe thead th {\n",
       "        text-align: right;\n",
       "    }\n",
       "</style>\n",
       "<table border=\"1\" class=\"dataframe\">\n",
       "  <thead>\n",
       "    <tr style=\"text-align: right;\">\n",
       "      <th></th>\n",
       "      <th>Feature</th>\n",
       "      <th>Class</th>\n",
       "    </tr>\n",
       "  </thead>\n",
       "  <tbody>\n",
       "    <tr>\n",
       "      <th>0</th>\n",
       "      <td>[1.6377799e-05, 1.1095432e-05, 1.900817e-05, 3...</td>\n",
       "      <td>0.0</td>\n",
       "    </tr>\n",
       "    <tr>\n",
       "      <th>1</th>\n",
       "      <td>[0.004200917, 0.006942439, 0.06524762, 0.36613...</td>\n",
       "      <td>1.0</td>\n",
       "    </tr>\n",
       "    <tr>\n",
       "      <th>2</th>\n",
       "      <td>[4.8916186e-06, 6.893864e-06, 0.00042878048, 0...</td>\n",
       "      <td>0.0</td>\n",
       "    </tr>\n",
       "    <tr>\n",
       "      <th>3</th>\n",
       "      <td>[0.055406705, 0.07989192, 0.54793185, 2.794684...</td>\n",
       "      <td>1.0</td>\n",
       "    </tr>\n",
       "    <tr>\n",
       "      <th>4</th>\n",
       "      <td>[6.20836e-14, 6.416438e-14, 6.440327e-14, 6.20...</td>\n",
       "      <td>0.0</td>\n",
       "    </tr>\n",
       "  </tbody>\n",
       "</table>\n",
       "</div>"
      ],
      "text/plain": [
       "                                             Feature  Class\n",
       "0  [1.6377799e-05, 1.1095432e-05, 1.900817e-05, 3...    0.0\n",
       "1  [0.004200917, 0.006942439, 0.06524762, 0.36613...    1.0\n",
       "2  [4.8916186e-06, 6.893864e-06, 0.00042878048, 0...    0.0\n",
       "3  [0.055406705, 0.07989192, 0.54793185, 2.794684...    1.0\n",
       "4  [6.20836e-14, 6.416438e-14, 6.440327e-14, 6.20...    0.0"
      ]
     },
     "execution_count": 2,
     "metadata": {},
     "output_type": "execute_result"
    }
   ],
   "source": [
    "df = pd.read_pickle('features/melsSpect_features.pkl')\n",
    "df.head()"
   ]
  },
  {
   "cell_type": "code",
   "execution_count": 3,
   "id": "69549767-5de3-4741-a2a2-7837d6f8e17d",
   "metadata": {},
   "outputs": [],
   "source": [
    "X = np.array(df.Feature.to_list())\n",
    "y = np.array(df.Class.to_list())"
   ]
  },
  {
   "cell_type": "code",
   "execution_count": 4,
   "id": "65e3835f-1066-499a-96dc-419ace388f97",
   "metadata": {},
   "outputs": [],
   "source": [
    "X_train, X_test, y_train, y_test = train_test_split(X, y, test_size=0.2, random_state=27)"
   ]
  },
  {
   "cell_type": "code",
   "execution_count": 5,
   "id": "914d3f51-7209-41fe-ae9f-731bd2b90696",
   "metadata": {},
   "outputs": [
    {
     "data": {
      "text/plain": [
       "((22040, 128), (27550, 128))"
      ]
     },
     "execution_count": 5,
     "metadata": {},
     "output_type": "execute_result"
    }
   ],
   "source": [
    "X_train.shape, X.shape"
   ]
  },
  {
   "cell_type": "code",
   "execution_count": 6,
   "id": "2c896517-f9d9-41b0-9210-20f62434a9b3",
   "metadata": {},
   "outputs": [],
   "source": [
    "X_train = X_train.reshape((-1, 128, 1, 1))  # (batch_size, height, width, channels)\n",
    "X_test = X_test.reshape((-1, 128, 1, 1))"
   ]
  },
  {
   "cell_type": "code",
   "execution_count": 7,
   "id": "e089ca2d-d0b4-43e2-bce4-1f45860b2593",
   "metadata": {},
   "outputs": [],
   "source": [
    "model = Sequential([\n",
    "    Conv2D(32, (3, 1), activation='relu', input_shape=(128, 1, 1)),\n",
    "    MaxPooling2D((2,1)),\n",
    "    Conv2D(64, (3, 1), activation='relu'),\n",
    "    MaxPooling2D((2, 1)),\n",
    "    Conv2D(64, (3, 1), activation='relu'),\n",
    "    Flatten(),\n",
    "    Dense(64, activation='relu'),\n",
    "    Dropout(0.5),\n",
    "    Dense(1, activation='sigmoid')\n",
    "])"
   ]
  },
  {
   "cell_type": "code",
   "execution_count": 8,
   "id": "ac54b684-4931-49fc-840e-29b822f3f4ed",
   "metadata": {},
   "outputs": [],
   "source": [
    "%%capture --no-stdout\n",
    "import tensorflow_addons as tfa\n",
    "# ADDRESS IMBALANCE:\n",
    "from sklearn.utils.class_weight import compute_class_weight"
   ]
  },
  {
   "cell_type": "code",
   "execution_count": 9,
   "id": "5936868c-59f6-46b9-b064-ce2c28f2d48e",
   "metadata": {},
   "outputs": [
    {
     "data": {
      "text/plain": [
       "{0: 0.9513942847276181, 1: 1.0538395333269581}"
      ]
     },
     "execution_count": 9,
     "metadata": {},
     "output_type": "execute_result"
    }
   ],
   "source": [
    "class_weights = compute_class_weight('balanced', classes=np.unique(y_train), y=y_train)\n",
    "class_weight_dict = dict(enumerate(class_weights))\n",
    "class_weight_dict"
   ]
  },
  {
   "cell_type": "code",
   "execution_count": 10,
   "id": "920be4ff-87ca-46e4-ba46-cf30b594156f",
   "metadata": {
    "scrolled": true
   },
   "outputs": [
    {
     "data": {
      "application/vnd.jupyter.widget-view+json": {
       "model_id": "710ab9e4204e4b8d956946a2978d9e01",
       "version_major": 2,
       "version_minor": 0
      },
      "text/plain": [
       "Training:   0%|                                         0/24 ETA: ?s,  ?epochs/s"
      ]
     },
     "metadata": {},
     "output_type": "display_data"
    },
    {
     "name": "stdout",
     "output_type": "stream",
     "text": [
      "Epoch 1/24\n"
     ]
    },
    {
     "name": "stderr",
     "output_type": "stream",
     "text": [
      "2024-10-27 19:23:13.694217: W tensorflow/tsl/platform/profile_utils/cpu_utils.cc:128] Failed to get CPU frequency: 0 Hz\n"
     ]
    },
    {
     "data": {
      "application/vnd.jupyter.widget-view+json": {
       "model_id": "27e83343e28f4b32a782e8f489a721fc",
       "version_major": 2,
       "version_minor": 0
      },
      "text/plain": [
       "0/689                                                                 ETA: ?s - "
      ]
     },
     "metadata": {},
     "output_type": "display_data"
    },
    {
     "name": "stdout",
     "output_type": "stream",
     "text": [
      "Epoch 1/24\n",
      "689/689 [==============================] - 4s 5ms/step - loss: 0.5181 - accuracy: 0.7451 - val_loss: 0.4925 - val_accuracy: 0.7490\n",
      "Epoch 2/24\n"
     ]
    },
    {
     "data": {
      "application/vnd.jupyter.widget-view+json": {
       "model_id": "ba586ef1b0db4351ac1603e1d5a6b88b",
       "version_major": 2,
       "version_minor": 0
      },
      "text/plain": [
       "0/689                                                                 ETA: ?s - "
      ]
     },
     "metadata": {},
     "output_type": "display_data"
    },
    {
     "name": "stdout",
     "output_type": "stream",
     "text": [
      "Epoch 2/24\n",
      "689/689 [==============================] - 4s 5ms/step - loss: 0.4907 - accuracy: 0.7611 - val_loss: 0.4818 - val_accuracy: 0.7595\n",
      "Epoch 3/24\n"
     ]
    },
    {
     "data": {
      "application/vnd.jupyter.widget-view+json": {
       "model_id": "46abf0a055d844729cef7a17bb4afb91",
       "version_major": 2,
       "version_minor": 0
      },
      "text/plain": [
       "0/689                                                                 ETA: ?s - "
      ]
     },
     "metadata": {},
     "output_type": "display_data"
    },
    {
     "name": "stdout",
     "output_type": "stream",
     "text": [
      "Epoch 3/24\n",
      "689/689 [==============================] - 4s 5ms/step - loss: 0.4825 - accuracy: 0.7661 - val_loss: 0.4749 - val_accuracy: 0.7675\n",
      "Epoch 4/24\n"
     ]
    },
    {
     "data": {
      "application/vnd.jupyter.widget-view+json": {
       "model_id": "a09a6a76668946b3a144c90244d974cc",
       "version_major": 2,
       "version_minor": 0
      },
      "text/plain": [
       "0/689                                                                 ETA: ?s - "
      ]
     },
     "metadata": {},
     "output_type": "display_data"
    },
    {
     "name": "stdout",
     "output_type": "stream",
     "text": [
      "Epoch 4/24\n",
      "689/689 [==============================] - 4s 6ms/step - loss: 0.4757 - accuracy: 0.7716 - val_loss: 0.4854 - val_accuracy: 0.7639\n",
      "Epoch 5/24\n"
     ]
    },
    {
     "data": {
      "application/vnd.jupyter.widget-view+json": {
       "model_id": "0e41e1396d184db2816ebc0f2453fa8f",
       "version_major": 2,
       "version_minor": 0
      },
      "text/plain": [
       "0/689                                                                 ETA: ?s - "
      ]
     },
     "metadata": {},
     "output_type": "display_data"
    },
    {
     "name": "stdout",
     "output_type": "stream",
     "text": [
      "Epoch 5/24\n",
      "689/689 [==============================] - 3s 5ms/step - loss: 0.4703 - accuracy: 0.7748 - val_loss: 0.4608 - val_accuracy: 0.7771\n",
      "Epoch 6/24\n"
     ]
    },
    {
     "data": {
      "application/vnd.jupyter.widget-view+json": {
       "model_id": "5df5c79916184e6bb7c4c67daf35d22b",
       "version_major": 2,
       "version_minor": 0
      },
      "text/plain": [
       "0/689                                                                 ETA: ?s - "
      ]
     },
     "metadata": {},
     "output_type": "display_data"
    },
    {
     "name": "stdout",
     "output_type": "stream",
     "text": [
      "Epoch 6/24\n",
      "689/689 [==============================] - 4s 6ms/step - loss: 0.4681 - accuracy: 0.7756 - val_loss: 0.4709 - val_accuracy: 0.7711\n",
      "Epoch 7/24\n"
     ]
    },
    {
     "data": {
      "application/vnd.jupyter.widget-view+json": {
       "model_id": "0364ffb443d8471389d20ed179692c1b",
       "version_major": 2,
       "version_minor": 0
      },
      "text/plain": [
       "0/689                                                                 ETA: ?s - "
      ]
     },
     "metadata": {},
     "output_type": "display_data"
    },
    {
     "name": "stdout",
     "output_type": "stream",
     "text": [
      "Epoch 7/24\n",
      "689/689 [==============================] - 4s 6ms/step - loss: 0.4642 - accuracy: 0.7800 - val_loss: 0.4613 - val_accuracy: 0.7740\n",
      "Epoch 8/24\n"
     ]
    },
    {
     "data": {
      "application/vnd.jupyter.widget-view+json": {
       "model_id": "511318dea91944f1b94751526254b1df",
       "version_major": 2,
       "version_minor": 0
      },
      "text/plain": [
       "0/689                                                                 ETA: ?s - "
      ]
     },
     "metadata": {},
     "output_type": "display_data"
    },
    {
     "name": "stdout",
     "output_type": "stream",
     "text": [
      "Epoch 8/24\n",
      "689/689 [==============================] - 4s 6ms/step - loss: 0.4613 - accuracy: 0.7807 - val_loss: 0.4623 - val_accuracy: 0.7757\n",
      "Epoch 9/24\n"
     ]
    },
    {
     "data": {
      "application/vnd.jupyter.widget-view+json": {
       "model_id": "36267ddc52c447128c31281efdd7eab2",
       "version_major": 2,
       "version_minor": 0
      },
      "text/plain": [
       "0/689                                                                 ETA: ?s - "
      ]
     },
     "metadata": {},
     "output_type": "display_data"
    },
    {
     "name": "stdout",
     "output_type": "stream",
     "text": [
      "Epoch 9/24\n",
      "689/689 [==============================] - 4s 6ms/step - loss: 0.4574 - accuracy: 0.7835 - val_loss: 0.4656 - val_accuracy: 0.7724\n",
      "Epoch 10/24\n"
     ]
    },
    {
     "data": {
      "application/vnd.jupyter.widget-view+json": {
       "model_id": "23ca6bfa96e247cd9b5a94be2bf40b8d",
       "version_major": 2,
       "version_minor": 0
      },
      "text/plain": [
       "0/689                                                                 ETA: ?s - "
      ]
     },
     "metadata": {},
     "output_type": "display_data"
    },
    {
     "name": "stdout",
     "output_type": "stream",
     "text": [
      "Epoch 10/24\n",
      "689/689 [==============================] - 4s 6ms/step - loss: 0.4543 - accuracy: 0.7858 - val_loss: 0.4659 - val_accuracy: 0.7795\n",
      "Epoch 11/24\n"
     ]
    },
    {
     "data": {
      "application/vnd.jupyter.widget-view+json": {
       "model_id": "7c379f54b9324507a579d43220570155",
       "version_major": 2,
       "version_minor": 0
      },
      "text/plain": [
       "0/689                                                                 ETA: ?s - "
      ]
     },
     "metadata": {},
     "output_type": "display_data"
    },
    {
     "name": "stdout",
     "output_type": "stream",
     "text": [
      "Epoch 11/24\n",
      "689/689 [==============================] - 5s 7ms/step - loss: 0.4504 - accuracy: 0.7869 - val_loss: 0.4633 - val_accuracy: 0.7728\n",
      "Epoch 12/24\n"
     ]
    },
    {
     "data": {
      "application/vnd.jupyter.widget-view+json": {
       "model_id": "f7944de2604d48669ea635872cf909f1",
       "version_major": 2,
       "version_minor": 0
      },
      "text/plain": [
       "0/689                                                                 ETA: ?s - "
      ]
     },
     "metadata": {},
     "output_type": "display_data"
    },
    {
     "name": "stdout",
     "output_type": "stream",
     "text": [
      "Epoch 12/24\n",
      "689/689 [==============================] - 4s 6ms/step - loss: 0.4456 - accuracy: 0.7891 - val_loss: 0.4577 - val_accuracy: 0.7820\n",
      "Epoch 13/24\n"
     ]
    },
    {
     "data": {
      "application/vnd.jupyter.widget-view+json": {
       "model_id": "4c61ec2be7414f71b8f7fa1e35e911b6",
       "version_major": 2,
       "version_minor": 0
      },
      "text/plain": [
       "0/689                                                                 ETA: ?s - "
      ]
     },
     "metadata": {},
     "output_type": "display_data"
    },
    {
     "name": "stdout",
     "output_type": "stream",
     "text": [
      "Epoch 13/24\n",
      "689/689 [==============================] - 5s 7ms/step - loss: 0.4437 - accuracy: 0.7898 - val_loss: 0.4707 - val_accuracy: 0.7750\n",
      "Epoch 14/24\n"
     ]
    },
    {
     "data": {
      "application/vnd.jupyter.widget-view+json": {
       "model_id": "081567459bb24b76b72ad395b230d0d5",
       "version_major": 2,
       "version_minor": 0
      },
      "text/plain": [
       "0/689                                                                 ETA: ?s - "
      ]
     },
     "metadata": {},
     "output_type": "display_data"
    },
    {
     "name": "stdout",
     "output_type": "stream",
     "text": [
      "Epoch 14/24\n",
      "689/689 [==============================] - 4s 6ms/step - loss: 0.4410 - accuracy: 0.7944 - val_loss: 0.4639 - val_accuracy: 0.7742\n",
      "Epoch 15/24\n"
     ]
    },
    {
     "data": {
      "application/vnd.jupyter.widget-view+json": {
       "model_id": "aeccf8dc272145a5b78cd79da3b190ad",
       "version_major": 2,
       "version_minor": 0
      },
      "text/plain": [
       "0/689                                                                 ETA: ?s - "
      ]
     },
     "metadata": {},
     "output_type": "display_data"
    },
    {
     "name": "stdout",
     "output_type": "stream",
     "text": [
      "Epoch 15/24\n",
      "689/689 [==============================] - 4s 6ms/step - loss: 0.4372 - accuracy: 0.7952 - val_loss: 0.4673 - val_accuracy: 0.7744\n",
      "Epoch 16/24\n"
     ]
    },
    {
     "data": {
      "application/vnd.jupyter.widget-view+json": {
       "model_id": "ac401c5355fd4792b1fc4ece89995dfc",
       "version_major": 2,
       "version_minor": 0
      },
      "text/plain": [
       "0/689                                                                 ETA: ?s - "
      ]
     },
     "metadata": {},
     "output_type": "display_data"
    },
    {
     "name": "stdout",
     "output_type": "stream",
     "text": [
      "Epoch 16/24\n",
      "689/689 [==============================] - 4s 6ms/step - loss: 0.4307 - accuracy: 0.7986 - val_loss: 0.4649 - val_accuracy: 0.7804\n",
      "Epoch 17/24\n"
     ]
    },
    {
     "data": {
      "application/vnd.jupyter.widget-view+json": {
       "model_id": "3670a99503b3411298c4854f2c08dcff",
       "version_major": 2,
       "version_minor": 0
      },
      "text/plain": [
       "0/689                                                                 ETA: ?s - "
      ]
     },
     "metadata": {},
     "output_type": "display_data"
    },
    {
     "name": "stdout",
     "output_type": "stream",
     "text": [
      "Epoch 17/24\n",
      "689/689 [==============================] - 4s 6ms/step - loss: 0.4232 - accuracy: 0.8017 - val_loss: 0.4767 - val_accuracy: 0.7740\n",
      "Epoch 18/24\n"
     ]
    },
    {
     "data": {
      "application/vnd.jupyter.widget-view+json": {
       "model_id": "a07195b8211c439eaee4567f2dfe8b28",
       "version_major": 2,
       "version_minor": 0
      },
      "text/plain": [
       "0/689                                                                 ETA: ?s - "
      ]
     },
     "metadata": {},
     "output_type": "display_data"
    },
    {
     "name": "stdout",
     "output_type": "stream",
     "text": [
      "Epoch 18/24\n",
      "689/689 [==============================] - 4s 5ms/step - loss: 0.4212 - accuracy: 0.8046 - val_loss: 0.4702 - val_accuracy: 0.7737\n",
      "Epoch 19/24\n"
     ]
    },
    {
     "data": {
      "application/vnd.jupyter.widget-view+json": {
       "model_id": "b78a1401c7d64b44961790e6138e6208",
       "version_major": 2,
       "version_minor": 0
      },
      "text/plain": [
       "0/689                                                                 ETA: ?s - "
      ]
     },
     "metadata": {},
     "output_type": "display_data"
    },
    {
     "name": "stdout",
     "output_type": "stream",
     "text": [
      "Epoch 19/24\n",
      "689/689 [==============================] - 4s 6ms/step - loss: 0.4189 - accuracy: 0.8045 - val_loss: 0.4757 - val_accuracy: 0.7746\n",
      "Epoch 20/24\n"
     ]
    },
    {
     "data": {
      "application/vnd.jupyter.widget-view+json": {
       "model_id": "787895514ea446d18b1e5c8e55e0ec13",
       "version_major": 2,
       "version_minor": 0
      },
      "text/plain": [
       "0/689                                                                 ETA: ?s - "
      ]
     },
     "metadata": {},
     "output_type": "display_data"
    },
    {
     "name": "stdout",
     "output_type": "stream",
     "text": [
      "Epoch 20/24\n",
      "689/689 [==============================] - 4s 6ms/step - loss: 0.4135 - accuracy: 0.8098 - val_loss: 0.4871 - val_accuracy: 0.7726\n",
      "Epoch 21/24\n"
     ]
    },
    {
     "data": {
      "application/vnd.jupyter.widget-view+json": {
       "model_id": "6f3ff7717e8742b0ba4e7561a9fd7e84",
       "version_major": 2,
       "version_minor": 0
      },
      "text/plain": [
       "0/689                                                                 ETA: ?s - "
      ]
     },
     "metadata": {},
     "output_type": "display_data"
    },
    {
     "name": "stdout",
     "output_type": "stream",
     "text": [
      "Epoch 21/24\n",
      "689/689 [==============================] - 4s 6ms/step - loss: 0.4080 - accuracy: 0.8108 - val_loss: 0.4776 - val_accuracy: 0.7704\n",
      "Epoch 22/24\n"
     ]
    },
    {
     "data": {
      "application/vnd.jupyter.widget-view+json": {
       "model_id": "637844baa5584c2db06a4dcec50faf8b",
       "version_major": 2,
       "version_minor": 0
      },
      "text/plain": [
       "0/689                                                                 ETA: ?s - "
      ]
     },
     "metadata": {},
     "output_type": "display_data"
    },
    {
     "name": "stdout",
     "output_type": "stream",
     "text": [
      "Epoch 22/24\n",
      "689/689 [==============================] - 4s 5ms/step - loss: 0.4023 - accuracy: 0.8154 - val_loss: 0.4859 - val_accuracy: 0.7779\n",
      "Epoch 23/24\n"
     ]
    },
    {
     "data": {
      "application/vnd.jupyter.widget-view+json": {
       "model_id": "d19fb9204fc54742b9347b2ab5429673",
       "version_major": 2,
       "version_minor": 0
      },
      "text/plain": [
       "0/689                                                                 ETA: ?s - "
      ]
     },
     "metadata": {},
     "output_type": "display_data"
    },
    {
     "name": "stdout",
     "output_type": "stream",
     "text": [
      "Epoch 23/24\n",
      "689/689 [==============================] - 4s 6ms/step - loss: 0.4033 - accuracy: 0.8151 - val_loss: 0.4962 - val_accuracy: 0.7728\n",
      "Epoch 24/24\n"
     ]
    },
    {
     "data": {
      "application/vnd.jupyter.widget-view+json": {
       "model_id": "f41b8433ed05438586d70497ff454d36",
       "version_major": 2,
       "version_minor": 0
      },
      "text/plain": [
       "0/689                                                                 ETA: ?s - "
      ]
     },
     "metadata": {},
     "output_type": "display_data"
    },
    {
     "name": "stdout",
     "output_type": "stream",
     "text": [
      "Epoch 24/24\n",
      "689/689 [==============================] - 5s 7ms/step - loss: 0.3913 - accuracy: 0.8187 - val_loss: 0.4927 - val_accuracy: 0.7751\n"
     ]
    },
    {
     "data": {
      "text/plain": [
       "<keras.callbacks.History at 0x169d69bd0>"
      ]
     },
     "execution_count": 10,
     "metadata": {},
     "output_type": "execute_result"
    }
   ],
   "source": [
    "tqdm_callback = tfa.callbacks.TQDMProgressBar()\n",
    "\n",
    "model.compile(optimizer='adam', loss='binary_crossentropy', metrics=['accuracy'])\n",
    "model.fit(X_train, y_train, class_weight=class_weight_dict, epochs=24, batch_size=32, validation_data=(X_test, y_test), callbacks=[tqdm_callback])"
   ]
  },
  {
   "cell_type": "code",
   "execution_count": 11,
   "id": "d7275f18-34a2-4773-bcc1-78a2fa6e530f",
   "metadata": {},
   "outputs": [
    {
     "name": "stdout",
     "output_type": "stream",
     "text": [
      "173/173 [==============================] - 0s 2ms/step - loss: 0.4927 - accuracy: 0.7751\n"
     ]
    },
    {
     "data": {
      "text/plain": [
       "0.7751361131668091"
      ]
     },
     "execution_count": 11,
     "metadata": {},
     "output_type": "execute_result"
    }
   ],
   "source": [
    "test_loss, test_accuracy = model.evaluate(X_test, y_test)\n",
    "test_accuracy"
   ]
  },
  {
   "cell_type": "code",
   "execution_count": 12,
   "id": "e2636777-6c28-45fe-8aea-f29f7e8f7e10",
   "metadata": {},
   "outputs": [],
   "source": [
    "model.save('./saved_models/cnn_melspect.keras')"
   ]
  }
 ],
 "metadata": {
  "kernelspec": {
   "display_name": "Python 3 (ipykernel)",
   "language": "python",
   "name": "python3"
  },
  "language_info": {
   "codemirror_mode": {
    "name": "ipython",
    "version": 3
   },
   "file_extension": ".py",
   "mimetype": "text/x-python",
   "name": "python",
   "nbconvert_exporter": "python",
   "pygments_lexer": "ipython3",
   "version": "3.11.10"
  }
 },
 "nbformat": 4,
 "nbformat_minor": 5
}
